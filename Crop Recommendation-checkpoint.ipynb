{
 "cells": [
  {
   "cell_type": "code",
   "execution_count": 19,
   "id": "ec54f602",
   "metadata": {},
   "outputs": [],
   "source": [
    "import pandas as pd\n",
    "import numpy as np\n",
    "import seaborn as sns\n",
    "import matplotlib.pyplot as plt\n",
    "\n",
    "import plotly.express as px \n",
    "import warnings\n",
    "warnings.filterwarnings(\"ignore\")\n",
    "from plotly.subplots import make_subplots\n",
    "import plotly.express as px\n",
    "import plotly.graph_objects as go\n",
    "import plotly.figure_factory as ff"
   ]
  },
  {
   "cell_type": "code",
   "execution_count": 20,
   "id": "7e274fea",
   "metadata": {},
   "outputs": [
    {
     "data": {
      "text/html": [
       "<div>\n",
       "<style scoped>\n",
       "    .dataframe tbody tr th:only-of-type {\n",
       "        vertical-align: middle;\n",
       "    }\n",
       "\n",
       "    .dataframe tbody tr th {\n",
       "        vertical-align: top;\n",
       "    }\n",
       "\n",
       "    .dataframe thead th {\n",
       "        text-align: right;\n",
       "    }\n",
       "</style>\n",
       "<table border=\"1\" class=\"dataframe\">\n",
       "  <thead>\n",
       "    <tr style=\"text-align: right;\">\n",
       "      <th></th>\n",
       "      <th>N</th>\n",
       "      <th>P</th>\n",
       "      <th>K</th>\n",
       "      <th>temperature</th>\n",
       "      <th>humidity</th>\n",
       "      <th>ph</th>\n",
       "      <th>rainfall</th>\n",
       "      <th>label</th>\n",
       "    </tr>\n",
       "  </thead>\n",
       "  <tbody>\n",
       "    <tr>\n",
       "      <th>912</th>\n",
       "      <td>36</td>\n",
       "      <td>7</td>\n",
       "      <td>37</td>\n",
       "      <td>19.867118</td>\n",
       "      <td>86.355902</td>\n",
       "      <td>5.782436</td>\n",
       "      <td>108.316886</td>\n",
       "      <td>pomegranate</td>\n",
       "    </tr>\n",
       "    <tr>\n",
       "      <th>1502</th>\n",
       "      <td>14</td>\n",
       "      <td>128</td>\n",
       "      <td>205</td>\n",
       "      <td>22.608010</td>\n",
       "      <td>94.589006</td>\n",
       "      <td>6.226290</td>\n",
       "      <td>116.039659</td>\n",
       "      <td>apple</td>\n",
       "    </tr>\n",
       "    <tr>\n",
       "      <th>848</th>\n",
       "      <td>27</td>\n",
       "      <td>61</td>\n",
       "      <td>15</td>\n",
       "      <td>25.265329</td>\n",
       "      <td>67.100046</td>\n",
       "      <td>6.958055</td>\n",
       "      <td>48.339412</td>\n",
       "      <td>lentil</td>\n",
       "    </tr>\n",
       "    <tr>\n",
       "      <th>533</th>\n",
       "      <td>7</td>\n",
       "      <td>56</td>\n",
       "      <td>23</td>\n",
       "      <td>26.339088</td>\n",
       "      <td>40.009334</td>\n",
       "      <td>5.545219</td>\n",
       "      <td>55.504292</td>\n",
       "      <td>mothbeans</td>\n",
       "    </tr>\n",
       "    <tr>\n",
       "      <th>1569</th>\n",
       "      <td>3</td>\n",
       "      <td>141</td>\n",
       "      <td>197</td>\n",
       "      <td>21.981419</td>\n",
       "      <td>91.127193</td>\n",
       "      <td>6.142803</td>\n",
       "      <td>115.478915</td>\n",
       "      <td>apple</td>\n",
       "    </tr>\n",
       "  </tbody>\n",
       "</table>\n",
       "</div>"
      ],
      "text/plain": [
       "       N    P    K  temperature   humidity        ph    rainfall        label\n",
       "912   36    7   37    19.867118  86.355902  5.782436  108.316886  pomegranate\n",
       "1502  14  128  205    22.608010  94.589006  6.226290  116.039659        apple\n",
       "848   27   61   15    25.265329  67.100046  6.958055   48.339412       lentil\n",
       "533    7   56   23    26.339088  40.009334  5.545219   55.504292    mothbeans\n",
       "1569   3  141  197    21.981419  91.127193  6.142803  115.478915        apple"
      ]
     },
     "execution_count": 20,
     "metadata": {},
     "output_type": "execute_result"
    }
   ],
   "source": [
    "df=pd.read_csv('Crop_recommendation.csv')\n",
    "df.sample(5)"
   ]
  },
  {
   "cell_type": "code",
   "execution_count": 21,
   "id": "fc20d736",
   "metadata": {},
   "outputs": [
    {
     "data": {
      "text/plain": [
       "array(['rice', 'maize', 'chickpea', 'kidneybeans', 'pigeonpeas',\n",
       "       'mothbeans', 'mungbean', 'blackgram', 'lentil', 'pomegranate',\n",
       "       'banana', 'mango', 'grapes', 'watermelon', 'muskmelon', 'apple',\n",
       "       'orange', 'papaya', 'coconut', 'cotton', 'jute', 'coffee'],\n",
       "      dtype=object)"
      ]
     },
     "execution_count": 21,
     "metadata": {},
     "output_type": "execute_result"
    }
   ],
   "source": [
    "df['label'].unique()"
   ]
  },
  {
   "cell_type": "code",
   "execution_count": 22,
   "id": "5b5ccc13",
   "metadata": {},
   "outputs": [
    {
     "data": {
      "text/plain": [
       "(2200, 8)"
      ]
     },
     "execution_count": 22,
     "metadata": {},
     "output_type": "execute_result"
    }
   ],
   "source": [
    "df.shape"
   ]
  },
  {
   "cell_type": "code",
   "execution_count": 23,
   "id": "f98b5544",
   "metadata": {},
   "outputs": [
    {
     "name": "stdout",
     "output_type": "stream",
     "text": [
      "<class 'pandas.core.frame.DataFrame'>\n",
      "RangeIndex: 2200 entries, 0 to 2199\n",
      "Data columns (total 8 columns):\n",
      " #   Column       Non-Null Count  Dtype  \n",
      "---  ------       --------------  -----  \n",
      " 0   N            2200 non-null   int64  \n",
      " 1   P            2200 non-null   int64  \n",
      " 2   K            2200 non-null   int64  \n",
      " 3   temperature  2200 non-null   float64\n",
      " 4   humidity     2200 non-null   float64\n",
      " 5   ph           2200 non-null   float64\n",
      " 6   rainfall     2200 non-null   float64\n",
      " 7   label        2200 non-null   object \n",
      "dtypes: float64(4), int64(3), object(1)\n",
      "memory usage: 137.6+ KB\n"
     ]
    }
   ],
   "source": [
    "df.info()"
   ]
  },
  {
   "cell_type": "code",
   "execution_count": 24,
   "id": "cb6f8585",
   "metadata": {},
   "outputs": [
    {
     "data": {
      "text/plain": [
       "0"
      ]
     },
     "execution_count": 24,
     "metadata": {},
     "output_type": "execute_result"
    }
   ],
   "source": [
    "df.duplicated().sum()"
   ]
  },
  {
   "cell_type": "code",
   "execution_count": 25,
   "id": "a0ffe2ce",
   "metadata": {},
   "outputs": [
    {
     "data": {
      "text/html": [
       "<div>\n",
       "<style scoped>\n",
       "    .dataframe tbody tr th:only-of-type {\n",
       "        vertical-align: middle;\n",
       "    }\n",
       "\n",
       "    .dataframe tbody tr th {\n",
       "        vertical-align: top;\n",
       "    }\n",
       "\n",
       "    .dataframe thead th {\n",
       "        text-align: right;\n",
       "    }\n",
       "</style>\n",
       "<table border=\"1\" class=\"dataframe\">\n",
       "  <thead>\n",
       "    <tr style=\"text-align: right;\">\n",
       "      <th></th>\n",
       "      <th>N</th>\n",
       "      <th>P</th>\n",
       "      <th>K</th>\n",
       "      <th>temperature</th>\n",
       "      <th>humidity</th>\n",
       "      <th>ph</th>\n",
       "      <th>rainfall</th>\n",
       "    </tr>\n",
       "  </thead>\n",
       "  <tbody>\n",
       "    <tr>\n",
       "      <th>count</th>\n",
       "      <td>2200.000000</td>\n",
       "      <td>2200.000000</td>\n",
       "      <td>2200.000000</td>\n",
       "      <td>2200.000000</td>\n",
       "      <td>2200.000000</td>\n",
       "      <td>2200.000000</td>\n",
       "      <td>2200.000000</td>\n",
       "    </tr>\n",
       "    <tr>\n",
       "      <th>mean</th>\n",
       "      <td>50.551818</td>\n",
       "      <td>53.362727</td>\n",
       "      <td>48.149091</td>\n",
       "      <td>25.616244</td>\n",
       "      <td>71.481779</td>\n",
       "      <td>6.469480</td>\n",
       "      <td>103.463655</td>\n",
       "    </tr>\n",
       "    <tr>\n",
       "      <th>std</th>\n",
       "      <td>36.917334</td>\n",
       "      <td>32.985883</td>\n",
       "      <td>50.647931</td>\n",
       "      <td>5.063749</td>\n",
       "      <td>22.263812</td>\n",
       "      <td>0.773938</td>\n",
       "      <td>54.958389</td>\n",
       "    </tr>\n",
       "    <tr>\n",
       "      <th>min</th>\n",
       "      <td>0.000000</td>\n",
       "      <td>5.000000</td>\n",
       "      <td>5.000000</td>\n",
       "      <td>8.825675</td>\n",
       "      <td>14.258040</td>\n",
       "      <td>3.504752</td>\n",
       "      <td>20.211267</td>\n",
       "    </tr>\n",
       "    <tr>\n",
       "      <th>25%</th>\n",
       "      <td>21.000000</td>\n",
       "      <td>28.000000</td>\n",
       "      <td>20.000000</td>\n",
       "      <td>22.769375</td>\n",
       "      <td>60.261953</td>\n",
       "      <td>5.971693</td>\n",
       "      <td>64.551686</td>\n",
       "    </tr>\n",
       "    <tr>\n",
       "      <th>50%</th>\n",
       "      <td>37.000000</td>\n",
       "      <td>51.000000</td>\n",
       "      <td>32.000000</td>\n",
       "      <td>25.598693</td>\n",
       "      <td>80.473146</td>\n",
       "      <td>6.425045</td>\n",
       "      <td>94.867624</td>\n",
       "    </tr>\n",
       "    <tr>\n",
       "      <th>75%</th>\n",
       "      <td>84.250000</td>\n",
       "      <td>68.000000</td>\n",
       "      <td>49.000000</td>\n",
       "      <td>28.561654</td>\n",
       "      <td>89.948771</td>\n",
       "      <td>6.923643</td>\n",
       "      <td>124.267508</td>\n",
       "    </tr>\n",
       "    <tr>\n",
       "      <th>max</th>\n",
       "      <td>140.000000</td>\n",
       "      <td>145.000000</td>\n",
       "      <td>205.000000</td>\n",
       "      <td>43.675493</td>\n",
       "      <td>99.981876</td>\n",
       "      <td>9.935091</td>\n",
       "      <td>298.560117</td>\n",
       "    </tr>\n",
       "  </tbody>\n",
       "</table>\n",
       "</div>"
      ],
      "text/plain": [
       "                 N            P            K  temperature     humidity  \\\n",
       "count  2200.000000  2200.000000  2200.000000  2200.000000  2200.000000   \n",
       "mean     50.551818    53.362727    48.149091    25.616244    71.481779   \n",
       "std      36.917334    32.985883    50.647931     5.063749    22.263812   \n",
       "min       0.000000     5.000000     5.000000     8.825675    14.258040   \n",
       "25%      21.000000    28.000000    20.000000    22.769375    60.261953   \n",
       "50%      37.000000    51.000000    32.000000    25.598693    80.473146   \n",
       "75%      84.250000    68.000000    49.000000    28.561654    89.948771   \n",
       "max     140.000000   145.000000   205.000000    43.675493    99.981876   \n",
       "\n",
       "                ph     rainfall  \n",
       "count  2200.000000  2200.000000  \n",
       "mean      6.469480   103.463655  \n",
       "std       0.773938    54.958389  \n",
       "min       3.504752    20.211267  \n",
       "25%       5.971693    64.551686  \n",
       "50%       6.425045    94.867624  \n",
       "75%       6.923643   124.267508  \n",
       "max       9.935091   298.560117  "
      ]
     },
     "execution_count": 25,
     "metadata": {},
     "output_type": "execute_result"
    }
   ],
   "source": [
    "df.describe()"
   ]
  },
  {
   "cell_type": "code",
   "execution_count": 26,
   "id": "1da5e004",
   "metadata": {},
   "outputs": [
    {
     "data": {
      "text/plain": [
       "<AxesSubplot:>"
      ]
     },
     "execution_count": 26,
     "metadata": {},
     "output_type": "execute_result"
    },
    {
     "data": {
      "image/png": "[encoded data removed]",
      "text/plain": [
       "<Figure size 432x288 with 2 Axes>"
      ]
     },
     "metadata": {
      "needs_background": "light"
     },
     "output_type": "display_data"
    }
   ],
   "source": [
    "sns.heatmap(df.corr(),annot=True,linewidth=0.5,cmap='Reds')"
   ]
  },
  {
   "cell_type": "code",
   "execution_count": 27,
   "id": "4f1cdd34",
   "metadata": {},
   "outputs": [
    {
     "data": {
      "text/html": [
       "<div>\n",
       "<style scoped>\n",
       "    .dataframe tbody tr th:only-of-type {\n",
       "        vertical-align: middle;\n",
       "    }\n",
       "\n",
       "    .dataframe tbody tr th {\n",
       "        vertical-align: top;\n",
       "    }\n",
       "\n",
       "    .dataframe thead th {\n",
       "        text-align: right;\n",
       "    }\n",
       "</style>\n",
       "<table border=\"1\" class=\"dataframe\">\n",
       "  <thead>\n",
       "    <tr style=\"text-align: right;\">\n",
       "      <th></th>\n",
       "      <th>label</th>\n",
       "      <th>K</th>\n",
       "      <th>N</th>\n",
       "      <th>P</th>\n",
       "      <th>humidity</th>\n",
       "      <th>ph</th>\n",
       "      <th>rainfall</th>\n",
       "      <th>temperature</th>\n",
       "    </tr>\n",
       "  </thead>\n",
       "  <tbody>\n",
       "    <tr>\n",
       "      <th>0</th>\n",
       "      <td>apple</td>\n",
       "      <td>199.89</td>\n",
       "      <td>20.80</td>\n",
       "      <td>134.22</td>\n",
       "      <td>92.333383</td>\n",
       "      <td>5.929663</td>\n",
       "      <td>112.654779</td>\n",
       "      <td>22.630942</td>\n",
       "    </tr>\n",
       "    <tr>\n",
       "      <th>1</th>\n",
       "      <td>banana</td>\n",
       "      <td>50.05</td>\n",
       "      <td>100.23</td>\n",
       "      <td>82.01</td>\n",
       "      <td>80.358123</td>\n",
       "      <td>5.983893</td>\n",
       "      <td>104.626980</td>\n",
       "      <td>27.376798</td>\n",
       "    </tr>\n",
       "    <tr>\n",
       "      <th>2</th>\n",
       "      <td>blackgram</td>\n",
       "      <td>19.24</td>\n",
       "      <td>40.02</td>\n",
       "      <td>67.47</td>\n",
       "      <td>65.118426</td>\n",
       "      <td>7.133952</td>\n",
       "      <td>67.884151</td>\n",
       "      <td>29.973340</td>\n",
       "    </tr>\n",
       "    <tr>\n",
       "      <th>3</th>\n",
       "      <td>chickpea</td>\n",
       "      <td>79.92</td>\n",
       "      <td>40.09</td>\n",
       "      <td>67.79</td>\n",
       "      <td>16.860439</td>\n",
       "      <td>7.336957</td>\n",
       "      <td>80.058977</td>\n",
       "      <td>18.872847</td>\n",
       "    </tr>\n",
       "    <tr>\n",
       "      <th>4</th>\n",
       "      <td>coconut</td>\n",
       "      <td>30.59</td>\n",
       "      <td>21.98</td>\n",
       "      <td>16.93</td>\n",
       "      <td>94.844272</td>\n",
       "      <td>5.976562</td>\n",
       "      <td>175.686646</td>\n",
       "      <td>27.409892</td>\n",
       "    </tr>\n",
       "    <tr>\n",
       "      <th>5</th>\n",
       "      <td>coffee</td>\n",
       "      <td>29.94</td>\n",
       "      <td>101.20</td>\n",
       "      <td>28.74</td>\n",
       "      <td>58.869846</td>\n",
       "      <td>6.790308</td>\n",
       "      <td>158.066295</td>\n",
       "      <td>25.540477</td>\n",
       "    </tr>\n",
       "    <tr>\n",
       "      <th>6</th>\n",
       "      <td>cotton</td>\n",
       "      <td>19.56</td>\n",
       "      <td>117.77</td>\n",
       "      <td>46.24</td>\n",
       "      <td>79.843474</td>\n",
       "      <td>6.912675</td>\n",
       "      <td>80.398043</td>\n",
       "      <td>23.988958</td>\n",
       "    </tr>\n",
       "    <tr>\n",
       "      <th>7</th>\n",
       "      <td>grapes</td>\n",
       "      <td>200.11</td>\n",
       "      <td>23.18</td>\n",
       "      <td>132.53</td>\n",
       "      <td>81.875228</td>\n",
       "      <td>6.025937</td>\n",
       "      <td>69.611829</td>\n",
       "      <td>23.849575</td>\n",
       "    </tr>\n",
       "    <tr>\n",
       "      <th>8</th>\n",
       "      <td>jute</td>\n",
       "      <td>39.99</td>\n",
       "      <td>78.40</td>\n",
       "      <td>46.86</td>\n",
       "      <td>79.639864</td>\n",
       "      <td>6.732778</td>\n",
       "      <td>174.792798</td>\n",
       "      <td>24.958376</td>\n",
       "    </tr>\n",
       "    <tr>\n",
       "      <th>9</th>\n",
       "      <td>kidneybeans</td>\n",
       "      <td>20.05</td>\n",
       "      <td>20.75</td>\n",
       "      <td>67.54</td>\n",
       "      <td>21.605357</td>\n",
       "      <td>5.749411</td>\n",
       "      <td>105.919778</td>\n",
       "      <td>20.115085</td>\n",
       "    </tr>\n",
       "    <tr>\n",
       "      <th>10</th>\n",
       "      <td>lentil</td>\n",
       "      <td>19.41</td>\n",
       "      <td>18.77</td>\n",
       "      <td>68.36</td>\n",
       "      <td>64.804785</td>\n",
       "      <td>6.927932</td>\n",
       "      <td>45.680454</td>\n",
       "      <td>24.509052</td>\n",
       "    </tr>\n",
       "    <tr>\n",
       "      <th>11</th>\n",
       "      <td>maize</td>\n",
       "      <td>19.79</td>\n",
       "      <td>77.76</td>\n",
       "      <td>48.44</td>\n",
       "      <td>65.092249</td>\n",
       "      <td>6.245190</td>\n",
       "      <td>84.766988</td>\n",
       "      <td>22.389204</td>\n",
       "    </tr>\n",
       "    <tr>\n",
       "      <th>12</th>\n",
       "      <td>mango</td>\n",
       "      <td>29.92</td>\n",
       "      <td>20.07</td>\n",
       "      <td>27.18</td>\n",
       "      <td>50.156573</td>\n",
       "      <td>5.766373</td>\n",
       "      <td>94.704515</td>\n",
       "      <td>31.208770</td>\n",
       "    </tr>\n",
       "    <tr>\n",
       "      <th>13</th>\n",
       "      <td>mothbeans</td>\n",
       "      <td>20.23</td>\n",
       "      <td>21.44</td>\n",
       "      <td>48.01</td>\n",
       "      <td>53.160418</td>\n",
       "      <td>6.831174</td>\n",
       "      <td>51.198487</td>\n",
       "      <td>28.194920</td>\n",
       "    </tr>\n",
       "    <tr>\n",
       "      <th>14</th>\n",
       "      <td>mungbean</td>\n",
       "      <td>19.87</td>\n",
       "      <td>20.99</td>\n",
       "      <td>47.28</td>\n",
       "      <td>85.499975</td>\n",
       "      <td>6.723957</td>\n",
       "      <td>48.403601</td>\n",
       "      <td>28.525775</td>\n",
       "    </tr>\n",
       "    <tr>\n",
       "      <th>15</th>\n",
       "      <td>muskmelon</td>\n",
       "      <td>50.08</td>\n",
       "      <td>100.32</td>\n",
       "      <td>17.72</td>\n",
       "      <td>92.342802</td>\n",
       "      <td>6.358805</td>\n",
       "      <td>24.689952</td>\n",
       "      <td>28.663066</td>\n",
       "    </tr>\n",
       "    <tr>\n",
       "      <th>16</th>\n",
       "      <td>orange</td>\n",
       "      <td>10.01</td>\n",
       "      <td>19.58</td>\n",
       "      <td>16.55</td>\n",
       "      <td>92.170209</td>\n",
       "      <td>7.016957</td>\n",
       "      <td>110.474969</td>\n",
       "      <td>22.765725</td>\n",
       "    </tr>\n",
       "    <tr>\n",
       "      <th>17</th>\n",
       "      <td>papaya</td>\n",
       "      <td>50.04</td>\n",
       "      <td>49.88</td>\n",
       "      <td>59.05</td>\n",
       "      <td>92.403388</td>\n",
       "      <td>6.741442</td>\n",
       "      <td>142.627839</td>\n",
       "      <td>33.723859</td>\n",
       "    </tr>\n",
       "    <tr>\n",
       "      <th>18</th>\n",
       "      <td>pigeonpeas</td>\n",
       "      <td>20.29</td>\n",
       "      <td>20.73</td>\n",
       "      <td>67.73</td>\n",
       "      <td>48.061633</td>\n",
       "      <td>5.794175</td>\n",
       "      <td>149.457564</td>\n",
       "      <td>27.741762</td>\n",
       "    </tr>\n",
       "    <tr>\n",
       "      <th>19</th>\n",
       "      <td>pomegranate</td>\n",
       "      <td>40.21</td>\n",
       "      <td>18.87</td>\n",
       "      <td>18.75</td>\n",
       "      <td>90.125504</td>\n",
       "      <td>6.429172</td>\n",
       "      <td>107.528442</td>\n",
       "      <td>21.837842</td>\n",
       "    </tr>\n",
       "    <tr>\n",
       "      <th>20</th>\n",
       "      <td>rice</td>\n",
       "      <td>39.87</td>\n",
       "      <td>79.89</td>\n",
       "      <td>47.58</td>\n",
       "      <td>82.272822</td>\n",
       "      <td>6.425471</td>\n",
       "      <td>236.181114</td>\n",
       "      <td>23.689332</td>\n",
       "    </tr>\n",
       "    <tr>\n",
       "      <th>21</th>\n",
       "      <td>watermelon</td>\n",
       "      <td>50.22</td>\n",
       "      <td>99.42</td>\n",
       "      <td>17.00</td>\n",
       "      <td>85.160375</td>\n",
       "      <td>6.495778</td>\n",
       "      <td>50.786219</td>\n",
       "      <td>25.591767</td>\n",
       "    </tr>\n",
       "  </tbody>\n",
       "</table>\n",
       "</div>"
      ],
      "text/plain": [
       "          label       K       N       P   humidity        ph    rainfall  \\\n",
       "0         apple  199.89   20.80  134.22  92.333383  5.929663  112.654779   \n",
       "1        banana   50.05  100.23   82.01  80.358123  5.983893  104.626980   \n",
       "2     blackgram   19.24   40.02   67.47  65.118426  7.133952   67.884151   \n",
       "3      chickpea   79.92   40.09   67.79  16.860439  7.336957   80.058977   \n",
       "4       coconut   30.59   21.98   16.93  94.844272  5.976562  175.686646   \n",
       "5        coffee   29.94  101.20   28.74  58.869846  6.790308  158.066295   \n",
       "6        cotton   19.56  117.77   46.24  79.843474  6.912675   80.398043   \n",
       "7        grapes  200.11   23.18  132.53  81.875228  6.025937   69.611829   \n",
       "8          jute   39.99   78.40   46.86  79.639864  6.732778  174.792798   \n",
       "9   kidneybeans   20.05   20.75   67.54  21.605357  5.749411  105.919778   \n",
       "10       lentil   19.41   18.77   68.36  64.804785  6.927932   45.680454   \n",
       "11        maize   19.79   77.76   48.44  65.092249  6.245190   84.766988   \n",
       "12        mango   29.92   20.07   27.18  50.156573  5.766373   94.704515   \n",
       "13    mothbeans   20.23   21.44   48.01  53.160418  6.831174   51.198487   \n",
       "14     mungbean   19.87   20.99   47.28  85.499975  6.723957   48.403601   \n",
       "15    muskmelon   50.08  100.32   17.72  92.342802  6.358805   24.689952   \n",
       "16       orange   10.01   19.58   16.55  92.170209  7.016957  110.474969   \n",
       "17       papaya   50.04   49.88   59.05  92.403388  6.741442  142.627839   \n",
       "18   pigeonpeas   20.29   20.73   67.73  48.061633  5.794175  149.457564   \n",
       "19  pomegranate   40.21   18.87   18.75  90.125504  6.429172  107.528442   \n",
       "20         rice   39.87   79.89   47.58  82.272822  6.425471  236.181114   \n",
       "21   watermelon   50.22   99.42   17.00  85.160375  6.495778   50.786219   \n",
       "\n",
       "    temperature  \n",
       "0     22.630942  \n",
       "1     27.376798  \n",
       "2     29.973340  \n",
       "3     18.872847  \n",
       "4     27.409892  \n",
       "5     25.540477  \n",
       "6     23.988958  \n",
       "7     23.849575  \n",
       "8     24.958376  \n",
       "9     20.115085  \n",
       "10    24.509052  \n",
       "11    22.389204  \n",
       "12    31.208770  \n",
       "13    28.194920  \n",
       "14    28.525775  \n",
       "15    28.663066  \n",
       "16    22.765725  \n",
       "17    33.723859  \n",
       "18    27.741762  \n",
       "19    21.837842  \n",
       "20    23.689332  \n",
       "21    25.591767  "
      ]
     },
     "execution_count": 27,
     "metadata": {},
     "output_type": "execute_result"
    }
   ],
   "source": [
    "df1= pd.pivot_table(df,index=['label'],aggfunc='mean')\n",
    "df1=df1.reset_index()\n",
    "df1"
   ]
  },
  {
   "cell_type": "code",
   "execution_count": 28,
   "id": "27a9eaed",
   "metadata": {},
   "outputs": [
    {
     "data": {
      "application/vnd.plotly.v1+json": {
       "config": {
        "plotlyServerURL": "https://plot.ly"
       },
       "data": [
        {
         "branchvalues": "total",
         "customdata": [
          [
           40.09
          ],
          [
           49.88000000000001
          ],
          [
           77.76
          ],
          [
           78.4
          ],
          [
           79.89
          ],
          [
           99.42
          ],
          [
           100.23
          ],
          [
           100.32
          ],
          [
           101.2
          ],
          [
           117.77000000000001
          ],
          [
           100.23
          ],
          [
           40.09
          ],
          [
           101.2
          ],
          [
           117.77000000000001
          ],
          [
           78.4
          ],
          [
           77.76
          ],
          [
           100.32
          ],
          [
           49.88000000000001
          ],
          [
           79.89
          ],
          [
           99.42
          ]
         ],
         "domain": {
          "x": [
           0,
           1
          ],
          "y": [
           0,
           1
          ]
         },
         "hovertemplate": "labels=%{label}<br>N_sum=%{value}<br>parent=%{parent}<br>id=%{id}<br>N=%{color}<extra></extra>",
         "ids": [
          "chickpea/40.09",
          "papaya/49.88",
          "maize/77.76",
          "jute/78.4",
          "rice/79.89",
          "watermelon/99.42",
          "banana/100.23",
          "muskmelon/100.32",
          "coffee/101.2",
          "cotton/117.77",
          "banana",
          "chickpea",
          "coffee",
          "cotton",
          "jute",
          "maize",
          "muskmelon",
          "papaya",
          "rice",
          "watermelon"
         ],
         "labels": [
          "40.09",
          "49.88",
          "77.76",
          "78.4",
          "79.89",
          "99.42",
          "100.23",
          "100.32",
          "101.2",
          "117.77",
          "banana",
          "chickpea",
          "coffee",
          "cotton",
          "jute",
          "maize",
          "muskmelon",
          "papaya",
          "rice",
          "watermelon"
         ],
         "marker": {
          "coloraxis": "coloraxis",
          "colors": [
           40.09,
           49.88000000000001,
           77.76,
           78.4,
           79.89,
           99.42,
           100.23,
           100.32,
           101.2,
           117.77000000000001,
           100.23,
           40.09,
           101.2,
           117.77000000000001,
           78.4,
           77.76,
           100.32,
           49.88000000000001,
           79.89,
           99.42
          ]
         },
         "name": "",
         "parents": [
          "chickpea",
          "papaya",
          "maize",
          "jute",
          "rice",
          "watermelon",
          "banana",
          "muskmelon",
          "coffee",
          "cotton",
          "",
          "",
          "",
          "",
          "",
          "",
          "",
          "",
          "",
          ""
         ],
         "type": "sunburst",
         "values": [
          40.09,
          49.88,
          77.76,
          78.4,
          79.89,
          99.42,
          100.23,
          100.32,
          101.2,
          117.77,
          100.23,
          40.09,
          101.2,
          117.77,
          78.4,
          77.76,
          100.32,
          49.88,
          79.89,
          99.42
         ]
        }
       ],
       "layout": {
        "coloraxis": {
         "colorbar": {
          "title": {
           "text": "N"
          }
         },
         "colorscale": [
          [
           0,
           "rgb(247,251,255)"
          ],
          [
           0.125,
           "rgb(222,235,247)"
          ],
          [
           0.25,
           "rgb(198,219,239)"
          ],
          [
           0.375,
           "rgb(158,202,225)"
          ],
          [
           0.5,
           "rgb(107,174,214)"
          ],
          [
           0.625,
           "rgb(66,146,198)"
          ],
          [
           0.75,
           "rgb(33,113,181)"
          ],
          [
           0.875,
           "rgb(8,81,156)"
          ],
          [
           1,
           "rgb(8,48,107)"
          ]
         ]
        },
        "legend": {
         "tracegroupgap": 0
        },
        "margin": {
         "t": 60
        },
        "template": {
         "data": {
          "bar": [
           {
            "error_x": {
             "color": "#2a3f5f"
            },
            "error_y": {
             "color": "#2a3f5f"
            },
            "marker": {
             "line": {
              "color": "#E5ECF6",
              "width": 0.5
             },
             "pattern": {
              "fillmode": "overlay",
              "size": 10,
              "solidity": 0.2
             }
            },
            "type": "bar"
           }
          ],
          "barpolar": [
           {
            "marker": {
             "line": {
              "color": "#E5ECF6",
              "width": 0.5
             },
             "pattern": {
              "fillmode": "overlay",
              "size": 10,
              "solidity": 0.2
             }
            },
            "type": "barpolar"
           }
          ],
          "carpet": [
           {
            "aaxis": {
             "endlinecolor": "#2a3f5f",
             "gridcolor": "white",
             "linecolor": "white",
             "minorgridcolor": "white",
             "startlinecolor": "#2a3f5f"
            },
            "baxis": {
             "endlinecolor": "#2a3f5f",
             "gridcolor": "white",
             "linecolor": "white",
             "minorgridcolor": "white",
             "startlinecolor": "#2a3f5f"
            },
            "type": "carpet"
           }
          ],
          "choropleth": [
           {
            "colorbar": {
             "outlinewidth": 0,
             "ticks": ""
            },
            "type": "choropleth"
           }
          ],
          "contour": [
           {
            "colorbar": {
             "outlinewidth": 0,
             "ticks": ""
            },
            "colorscale": [
             [
              0,
              "#0d0887"
             ],
             [
              0.1111111111111111,
              "#46039f"
             ],
             [
              0.2222222222222222,
              "#7201a8"
             ],
             [
              0.3333333333333333,
              "#9c179e"
             ],
             [
              0.4444444444444444,
              "#bd3786"
             ],
             [
              0.5555555555555556,
              "#d8576b"
             ],
             [
              0.6666666666666666,
              "#ed7953"
             ],
             [
              0.7777777777777778,
              "#fb9f3a"
             ],
             [
              0.8888888888888888,
              "#fdca26"
             ],
             [
              1,
              "#f0f921"
             ]
            ],
            "type": "contour"
           }
          ],
          "contourcarpet": [
           {
            "colorbar": {
             "outlinewidth": 0,
             "ticks": ""
            },
            "type": "contourcarpet"
           }
          ],
          "heatmap": [
           {
            "colorbar": {
             "outlinewidth": 0,
             "ticks": ""
            },
            "colorscale": [
             [
              0,
              "#0d0887"
             ],
             [
              0.1111111111111111,
              "#46039f"
             ],
             [
              0.2222222222222222,
              "#7201a8"
             ],
             [
              0.3333333333333333,
              "#9c179e"
             ],
             [
              0.4444444444444444,
              "#bd3786"
             ],
             [
              0.5555555555555556,
              "#d8576b"
             ],
             [
              0.6666666666666666,
              "#ed7953"
             ],
             [
              0.7777777777777778,
              "#fb9f3a"
             ],
             [
              0.8888888888888888,
              "#fdca26"
             ],
             [
              1,
              "#f0f921"
             ]
            ],
            "type": "heatmap"
           }
          ],
          "heatmapgl": [
           {
            "colorbar": {
             "outlinewidth": 0,
             "ticks": ""
            },
            "colorscale": [
             [
              0,
              "#0d0887"
             ],
             [
              0.1111111111111111,
              "#46039f"
             ],
             [
              0.2222222222222222,
              "#7201a8"
             ],
             [
              0.3333333333333333,
              "#9c179e"
             ],
             [
              0.4444444444444444,
              "#bd3786"
             ],
             [
              0.5555555555555556,
              "#d8576b"
             ],
             [
              0.6666666666666666,
              "#ed7953"
             ],
             [
              0.7777777777777778,
              "#fb9f3a"
             ],
             [
              0.8888888888888888,
              "#fdca26"
             ],
             [
              1,
              "#f0f921"
             ]
            ],
            "type": "heatmapgl"
           }
          ],
          "histogram": [
           {
            "marker": {
             "pattern": {
              "fillmode": "overlay",
              "size": 10,
              "solidity": 0.2
             }
            },
            "type": "histogram"
           }
          ],
          "histogram2d": [
           {
            "colorbar": {
             "outlinewidth": 0,
             "ticks": ""
            },
            "colorscale": [
             [
              0,
              "#0d0887"
             ],
             [
              0.1111111111111111,
              "#46039f"
             ],
             [
              0.2222222222222222,
              "#7201a8"
             ],
             [
              0.3333333333333333,
              "#9c179e"
             ],
             [
              0.4444444444444444,
              "#bd3786"
             ],
             [
              0.5555555555555556,
              "#d8576b"
             ],
             [
              0.6666666666666666,
              "#ed7953"
             ],
             [
              0.7777777777777778,
              "#fb9f3a"
             ],
             [
              0.8888888888888888,
              "#fdca26"
             ],
             [
              1,
              "#f0f921"
             ]
            ],
            "type": "histogram2d"
           }
          ],
          "histogram2dcontour": [
           {
            "colorbar": {
             "outlinewidth": 0,
             "ticks": ""
            },
            "colorscale": [
             [
              0,
              "#0d0887"
             ],
             [
              0.1111111111111111,
              "#46039f"
             ],
             [
              0.2222222222222222,
              "#7201a8"
             ],
             [
              0.3333333333333333,
              "#9c179e"
             ],
             [
              0.4444444444444444,
              "#bd3786"
             ],
             [
              0.5555555555555556,
              "#d8576b"
             ],
             [
              0.6666666666666666,
              "#ed7953"
             ],
             [
              0.7777777777777778,
              "#fb9f3a"
             ],
             [
              0.8888888888888888,
              "#fdca26"
             ],
             [
              1,
              "#f0f921"
             ]
            ],
            "type": "histogram2dcontour"
           }
          ],
          "mesh3d": [
           {
            "colorbar": {
             "outlinewidth": 0,
             "ticks": ""
            },
            "type": "mesh3d"
           }
          ],
          "parcoords": [
           {
            "line": {
             "colorbar": {
              "outlinewidth": 0,
              "ticks": ""
             }
            },
            "type": "parcoords"
           }
          ],
          "pie": [
           {
            "automargin": true,
            "type": "pie"
           }
          ],
          "scatter": [
           {
            "marker": {
             "colorbar": {
              "outlinewidth": 0,
              "ticks": ""
             }
            },
            "type": "scatter"
           }
          ],
          "scatter3d": [
           {
            "line": {
             "colorbar": {
              "outlinewidth": 0,
              "ticks": ""
             }
            },
            "marker": {
             "colorbar": {
              "outlinewidth": 0,
              "ticks": ""
             }
            },
            "type": "scatter3d"
           }
          ],
          "scattercarpet": [
           {
            "marker": {
             "colorbar": {
              "outlinewidth": 0,
              "ticks": ""
             }
            },
            "type": "scattercarpet"
           }
          ],
          "scattergeo": [
           {
            "marker": {
             "colorbar": {
              "outlinewidth": 0,
              "ticks": ""
             }
            },
            "type": "scattergeo"
           }
          ],
          "scattergl": [
           {
            "marker": {
             "colorbar": {
              "outlinewidth": 0,
              "ticks": ""
             }
            },
            "type": "scattergl"
           }
          ],
          "scattermapbox": [
           {
            "marker": {
             "colorbar": {
              "outlinewidth": 0,
              "ticks": ""
             }
            },
            "type": "scattermapbox"
           }
          ],
          "scatterpolar": [
           {
            "marker": {
             "colorbar": {
              "outlinewidth": 0,
              "ticks": ""
             }
            },
            "type": "scatterpolar"
           }
          ],
          "scatterpolargl": [
           {
            "marker": {
             "colorbar": {
              "outlinewidth": 0,
              "ticks": ""
             }
            },
            "type": "scatterpolargl"
           }
          ],
          "scatterternary": [
           {
            "marker": {
             "colorbar": {
              "outlinewidth": 0,
              "ticks": ""
             }
            },
            "type": "scatterternary"
           }
          ],
          "surface": [
           {
            "colorbar": {
             "outlinewidth": 0,
             "ticks": ""
            },
            "colorscale": [
             [
              0,
              "#0d0887"
             ],
             [
              0.1111111111111111,
              "#46039f"
             ],
             [
              0.2222222222222222,
              "#7201a8"
             ],
             [
              0.3333333333333333,
              "#9c179e"
             ],
             [
              0.4444444444444444,
              "#bd3786"
             ],
             [
              0.5555555555555556,
              "#d8576b"
             ],
             [
              0.6666666666666666,
              "#ed7953"
             ],
             [
              0.7777777777777778,
              "#fb9f3a"
             ],
             [
              0.8888888888888888,
              "#fdca26"
             ],
             [
              1,
              "#f0f921"
             ]
            ],
            "type": "surface"
           }
          ],
          "table": [
           {
            "cells": {
             "fill": {
              "color": "#EBF0F8"
             },
             "line": {
              "color": "white"
             }
            },
            "header": {
             "fill": {
              "color": "#C8D4E3"
             },
             "line": {
              "color": "white"
             }
            },
            "type": "table"
           }
          ]
         },
         "layout": {
          "annotationdefaults": {
           "arrowcolor": "#2a3f5f",
           "arrowhead": 0,
           "arrowwidth": 1
          },
          "autotypenumbers": "strict",
          "coloraxis": {
           "colorbar": {
            "outlinewidth": 0,
            "ticks": ""
           }
          },
          "colorscale": {
           "diverging": [
            [
             0,
             "#8e0152"
            ],
            [
             0.1,
             "#c51b7d"
            ],
            [
             0.2,
             "#de77ae"
            ],
            [
             0.3,
             "#f1b6da"
            ],
            [
             0.4,
             "#fde0ef"
            ],
            [
             0.5,
             "#f7f7f7"
            ],
            [
             0.6,
             "#e6f5d0"
            ],
            [
             0.7,
             "#b8e186"
            ],
            [
             0.8,
             "#7fbc41"
            ],
            [
             0.9,
             "#4d9221"
            ],
            [
             1,
             "#276419"
            ]
           ],
           "sequential": [
            [
             0,
             "#0d0887"
            ],
            [
             0.1111111111111111,
             "#46039f"
            ],
            [
             0.2222222222222222,
             "#7201a8"
            ],
            [
             0.3333333333333333,
             "#9c179e"
            ],
            [
             0.4444444444444444,
             "#bd3786"
            ],
            [
             0.5555555555555556,
             "#d8576b"
            ],
            [
             0.6666666666666666,
             "#ed7953"
            ],
            [
             0.7777777777777778,
             "#fb9f3a"
            ],
            [
             0.8888888888888888,
             "#fdca26"
            ],
            [
             1,
             "#f0f921"
            ]
           ],
           "sequentialminus": [
            [
             0,
             "#0d0887"
            ],
            [
             0.1111111111111111,
             "#46039f"
            ],
            [
             0.2222222222222222,
             "#7201a8"
            ],
            [
             0.3333333333333333,
             "#9c179e"
            ],
            [
             0.4444444444444444,
             "#bd3786"
            ],
            [
             0.5555555555555556,
             "#d8576b"
            ],
            [
             0.6666666666666666,
             "#ed7953"
            ],
            [
             0.7777777777777778,
             "#fb9f3a"
            ],
            [
             0.8888888888888888,
             "#fdca26"
            ],
            [
             1,
             "#f0f921"
            ]
           ]
          },
          "colorway": [
           "#636efa",
           "#EF553B",
           "#00cc96",
           "#ab63fa",
           "#FFA15A",
           "#19d3f3",
           "#FF6692",
           "#B6E880",
           "#FF97FF",
           "#FECB52"
          ],
          "font": {
           "color": "#2a3f5f"
          },
          "geo": {
           "bgcolor": "white",
           "lakecolor": "white",
           "landcolor": "#E5ECF6",
           "showlakes": true,
           "showland": true,
           "subunitcolor": "white"
          },
          "hoverlabel": {
           "align": "left"
          },
          "hovermode": "closest",
          "mapbox": {
           "style": "light"
          },
          "paper_bgcolor": "white",
          "plot_bgcolor": "#E5ECF6",
          "polar": {
           "angularaxis": {
            "gridcolor": "white",
            "linecolor": "white",
            "ticks": ""
           },
           "bgcolor": "#E5ECF6",
           "radialaxis": {
            "gridcolor": "white",
            "linecolor": "white",
            "ticks": ""
           }
          },
          "scene": {
           "xaxis": {
            "backgroundcolor": "#E5ECF6",
            "gridcolor": "white",
            "gridwidth": 2,
            "linecolor": "white",
            "showbackground": true,
            "ticks": "",
            "zerolinecolor": "white"
           },
           "yaxis": {
            "backgroundcolor": "#E5ECF6",
            "gridcolor": "white",
            "gridwidth": 2,
            "linecolor": "white",
            "showbackground": true,
            "ticks": "",
            "zerolinecolor": "white"
           },
           "zaxis": {
            "backgroundcolor": "#E5ECF6",
            "gridcolor": "white",
            "gridwidth": 2,
            "linecolor": "white",
            "showbackground": true,
            "ticks": "",
            "zerolinecolor": "white"
           }
          },
          "shapedefaults": {
           "line": {
            "color": "#2a3f5f"
           }
          },
          "ternary": {
           "aaxis": {
            "gridcolor": "white",
            "linecolor": "white",
            "ticks": ""
           },
           "baxis": {
            "gridcolor": "white",
            "linecolor": "white",
            "ticks": ""
           },
           "bgcolor": "#E5ECF6",
           "caxis": {
            "gridcolor": "white",
            "linecolor": "white",
            "ticks": ""
           }
          },
          "title": {
           "x": 0.05
          },
          "xaxis": {
           "automargin": true,
           "gridcolor": "white",
           "linecolor": "white",
           "ticks": "",
           "title": {
            "standoff": 15
           },
           "zerolinecolor": "white",
           "zerolinewidth": 2
          },
          "yaxis": {
           "automargin": true,
           "gridcolor": "white",
           "linecolor": "white",
           "ticks": "",
           "title": {
            "standoff": 15
           },
           "zerolinecolor": "white",
           "zerolinewidth": 2
          }
         }
        },
        "title": {
         "text": "Top 10 crops with most Nitrogen"
        },
        "uniformtext": {
         "minsize": 5
        }
       }
      },
      "text/html": [
       "<div>                            <div id=\"8565791d-9663-4b5a-9227-ecfa564b622d\" class=\"plotly-graph-div\" style=\"height:525px; width:100%;\"></div>            <script type=\"text/javascript\">                require([\"plotly\"], function(Plotly) {                    window.PLOTLYENV=window.PLOTLYENV || {};                                    if (document.getElementById(\"8565791d-9663-4b5a-9227-ecfa564b622d\")) {                    Plotly.newPlot(                        \"8565791d-9663-4b5a-9227-ecfa564b622d\",                        [{\"branchvalues\":\"total\",\"customdata\":[[40.09],[49.88000000000001],[77.76],[78.4],[79.89],[99.42],[100.23],[100.32],[101.2],[117.77000000000001],[100.23],[40.09],[101.2],[117.77000000000001],[78.4],[77.76],[100.32],[49.88000000000001],[79.89],[99.42]],\"domain\":{\"x\":[0.0,1.0],\"y\":[0.0,1.0]},\"hovertemplate\":\"labels=%{label}<br>N_sum=%{value}<br>parent=%{parent}<br>id=%{id}<br>N=%{color}<extra></extra>\",\"ids\":[\"chickpea/40.09\",\"papaya/49.88\",\"maize/77.76\",\"jute/78.4\",\"rice/79.89\",\"watermelon/99.42\",\"banana/100.23\",\"muskmelon/100.32\",\"coffee/101.2\",\"cotton/117.77\",\"banana\",\"chickpea\",\"coffee\",\"cotton\",\"jute\",\"maize\",\"muskmelon\",\"papaya\",\"rice\",\"watermelon\"],\"labels\":[\"40.09\",\"49.88\",\"77.76\",\"78.4\",\"79.89\",\"99.42\",\"100.23\",\"100.32\",\"101.2\",\"117.77\",\"banana\",\"chickpea\",\"coffee\",\"cotton\",\"jute\",\"maize\",\"muskmelon\",\"papaya\",\"rice\",\"watermelon\"],\"marker\":{\"coloraxis\":\"coloraxis\",\"colors\":[40.09,49.88000000000001,77.76,78.4,79.89,99.42,100.23,100.32,101.2,117.77000000000001,100.23,40.09,101.2,117.77000000000001,78.4,77.76,100.32,49.88000000000001,79.89,99.42]},\"name\":\"\",\"parents\":[\"chickpea\",\"papaya\",\"maize\",\"jute\",\"rice\",\"watermelon\",\"banana\",\"muskmelon\",\"coffee\",\"cotton\",\"\",\"\",\"\",\"\",\"\",\"\",\"\",\"\",\"\",\"\"],\"values\":[40.09,49.88,77.76,78.4,79.89,99.42,100.23,100.32,101.2,117.77,100.23,40.09,101.2,117.77,78.4,77.76,100.32,49.88,79.89,99.42],\"type\":\"sunburst\"}],                        {\"template\":{\"data\":{\"bar\":[{\"error_x\":{\"color\":\"#2a3f5f\"},\"error_y\":{\"color\":\"#2a3f5f\"},\"marker\":{\"line\":{\"color\":\"#E5ECF6\",\"width\":0.5},\"pattern\":{\"fillmode\":\"overlay\",\"size\":10,\"solidity\":0.2}},\"type\":\"bar\"}],\"barpolar\":[{\"marker\":{\"line\":{\"color\":\"#E5ECF6\",\"width\":0.5},\"pattern\":{\"fillmode\":\"overlay\",\"size\":10,\"solidity\":0.2}},\"type\":\"barpolar\"}],\"carpet\":[{\"aaxis\":{\"endlinecolor\":\"#2a3f5f\",\"gridcolor\":\"white\",\"linecolor\":\"white\",\"minorgridcolor\":\"white\",\"startlinecolor\":\"#2a3f5f\"},\"baxis\":{\"endlinecolor\":\"#2a3f5f\",\"gridcolor\":\"white\",\"linecolor\":\"white\",\"minorgridcolor\":\"white\",\"startlinecolor\":\"#2a3f5f\"},\"type\":\"carpet\"}],\"choropleth\":[{\"colorbar\":{\"outlinewidth\":0,\"ticks\":\"\"},\"type\":\"choropleth\"}],\"contour\":[{\"colorbar\":{\"outlinewidth\":0,\"ticks\":\"\"},\"colorscale\":[[0.0,\"#0d0887\"],[0.1111111111111111,\"#46039f\"],[0.2222222222222222,\"#7201a8\"],[0.3333333333333333,\"#9c179e\"],[0.4444444444444444,\"#bd3786\"],[0.5555555555555556,\"#d8576b\"],[0.6666666666666666,\"#ed7953\"],[0.7777777777777778,\"#fb9f3a\"],[0.8888888888888888,\"#fdca26\"],[1.0,\"#f0f921\"]],\"type\":\"contour\"}],\"contourcarpet\":[{\"colorbar\":{\"outlinewidth\":0,\"ticks\":\"\"},\"type\":\"contourcarpet\"}],\"heatmap\":[{\"colorbar\":{\"outlinewidth\":0,\"ticks\":\"\"},\"colorscale\":[[0.0,\"#0d0887\"],[0.1111111111111111,\"#46039f\"],[0.2222222222222222,\"#7201a8\"],[0.3333333333333333,\"#9c179e\"],[0.4444444444444444,\"#bd3786\"],[0.5555555555555556,\"#d8576b\"],[0.6666666666666666,\"#ed7953\"],[0.7777777777777778,\"#fb9f3a\"],[0.8888888888888888,\"#fdca26\"],[1.0,\"#f0f921\"]],\"type\":\"heatmap\"}],\"heatmapgl\":[{\"colorbar\":{\"outlinewidth\":0,\"ticks\":\"\"},\"colorscale\":[[0.0,\"#0d0887\"],[0.1111111111111111,\"#46039f\"],[0.2222222222222222,\"#7201a8\"],[0.3333333333333333,\"#9c179e\"],[0.4444444444444444,\"#bd3786\"],[0.5555555555555556,\"#d8576b\"],[0.6666666666666666,\"#ed7953\"],[0.7777777777777778,\"#fb9f3a\"],[0.8888888888888888,\"#fdca26\"],[1.0,\"#f0f921\"]],\"type\":\"heatmapgl\"}],\"histogram\":[{\"marker\":{\"pattern\":{\"fillmode\":\"overlay\",\"size\":10,\"solidity\":0.2}},\"type\":\"histogram\"}],\"histogram2d\":[{\"colorbar\":{\"outlinewidth\":0,\"ticks\":\"\"},\"colorscale\":[[0.0,\"#0d0887\"],[0.1111111111111111,\"#46039f\"],[0.2222222222222222,\"#7201a8\"],[0.3333333333333333,\"#9c179e\"],[0.4444444444444444,\"#bd3786\"],[0.5555555555555556,\"#d8576b\"],[0.6666666666666666,\"#ed7953\"],[0.7777777777777778,\"#fb9f3a\"],[0.8888888888888888,\"#fdca26\"],[1.0,\"#f0f921\"]],\"type\":\"histogram2d\"}],\"histogram2dcontour\":[{\"colorbar\":{\"outlinewidth\":0,\"ticks\":\"\"},\"colorscale\":[[0.0,\"#0d0887\"],[0.1111111111111111,\"#46039f\"],[0.2222222222222222,\"#7201a8\"],[0.3333333333333333,\"#9c179e\"],[0.4444444444444444,\"#bd3786\"],[0.5555555555555556,\"#d8576b\"],[0.6666666666666666,\"#ed7953\"],[0.7777777777777778,\"#fb9f3a\"],[0.8888888888888888,\"#fdca26\"],[1.0,\"#f0f921\"]],\"type\":\"histogram2dcontour\"}],\"mesh3d\":[{\"colorbar\":{\"outlinewidth\":0,\"ticks\":\"\"},\"type\":\"mesh3d\"}],\"parcoords\":[{\"line\":{\"colorbar\":{\"outlinewidth\":0,\"ticks\":\"\"}},\"type\":\"parcoords\"}],\"pie\":[{\"automargin\":true,\"type\":\"pie\"}],\"scatter\":[{\"marker\":{\"colorbar\":{\"outlinewidth\":0,\"ticks\":\"\"}},\"type\":\"scatter\"}],\"scatter3d\":[{\"line\":{\"colorbar\":{\"outlinewidth\":0,\"ticks\":\"\"}},\"marker\":{\"colorbar\":{\"outlinewidth\":0,\"ticks\":\"\"}},\"type\":\"scatter3d\"}],\"scattercarpet\":[{\"marker\":{\"colorbar\":{\"outlinewidth\":0,\"ticks\":\"\"}},\"type\":\"scattercarpet\"}],\"scattergeo\":[{\"marker\":{\"colorbar\":{\"outlinewidth\":0,\"ticks\":\"\"}},\"type\":\"scattergeo\"}],\"scattergl\":[{\"marker\":{\"colorbar\":{\"outlinewidth\":0,\"ticks\":\"\"}},\"type\":\"scattergl\"}],\"scattermapbox\":[{\"marker\":{\"colorbar\":{\"outlinewidth\":0,\"ticks\":\"\"}},\"type\":\"scattermapbox\"}],\"scatterpolar\":[{\"marker\":{\"colorbar\":{\"outlinewidth\":0,\"ticks\":\"\"}},\"type\":\"scatterpolar\"}],\"scatterpolargl\":[{\"marker\":{\"colorbar\":{\"outlinewidth\":0,\"ticks\":\"\"}},\"type\":\"scatterpolargl\"}],\"scatterternary\":[{\"marker\":{\"colorbar\":{\"outlinewidth\":0,\"ticks\":\"\"}},\"type\":\"scatterternary\"}],\"surface\":[{\"colorbar\":{\"outlinewidth\":0,\"ticks\":\"\"},\"colorscale\":[[0.0,\"#0d0887\"],[0.1111111111111111,\"#46039f\"],[0.2222222222222222,\"#7201a8\"],[0.3333333333333333,\"#9c179e\"],[0.4444444444444444,\"#bd3786\"],[0.5555555555555556,\"#d8576b\"],[0.6666666666666666,\"#ed7953\"],[0.7777777777777778,\"#fb9f3a\"],[0.8888888888888888,\"#fdca26\"],[1.0,\"#f0f921\"]],\"type\":\"surface\"}],\"table\":[{\"cells\":{\"fill\":{\"color\":\"#EBF0F8\"},\"line\":{\"color\":\"white\"}},\"header\":{\"fill\":{\"color\":\"#C8D4E3\"},\"line\":{\"color\":\"white\"}},\"type\":\"table\"}]},\"layout\":{\"annotationdefaults\":{\"arrowcolor\":\"#2a3f5f\",\"arrowhead\":0,\"arrowwidth\":1},\"autotypenumbers\":\"strict\",\"coloraxis\":{\"colorbar\":{\"outlinewidth\":0,\"ticks\":\"\"}},\"colorscale\":{\"diverging\":[[0,\"#8e0152\"],[0.1,\"#c51b7d\"],[0.2,\"#de77ae\"],[0.3,\"#f1b6da\"],[0.4,\"#fde0ef\"],[0.5,\"#f7f7f7\"],[0.6,\"#e6f5d0\"],[0.7,\"#b8e186\"],[0.8,\"#7fbc41\"],[0.9,\"#4d9221\"],[1,\"#276419\"]],\"sequential\":[[0.0,\"#0d0887\"],[0.1111111111111111,\"#46039f\"],[0.2222222222222222,\"#7201a8\"],[0.3333333333333333,\"#9c179e\"],[0.4444444444444444,\"#bd3786\"],[0.5555555555555556,\"#d8576b\"],[0.6666666666666666,\"#ed7953\"],[0.7777777777777778,\"#fb9f3a\"],[0.8888888888888888,\"#fdca26\"],[1.0,\"#f0f921\"]],\"sequentialminus\":[[0.0,\"#0d0887\"],[0.1111111111111111,\"#46039f\"],[0.2222222222222222,\"#7201a8\"],[0.3333333333333333,\"#9c179e\"],[0.4444444444444444,\"#bd3786\"],[0.5555555555555556,\"#d8576b\"],[0.6666666666666666,\"#ed7953\"],[0.7777777777777778,\"#fb9f3a\"],[0.8888888888888888,\"#fdca26\"],[1.0,\"#f0f921\"]]},\"colorway\":[\"#636efa\",\"#EF553B\",\"#00cc96\",\"#ab63fa\",\"#FFA15A\",\"#19d3f3\",\"#FF6692\",\"#B6E880\",\"#FF97FF\",\"#FECB52\"],\"font\":{\"color\":\"#2a3f5f\"},\"geo\":{\"bgcolor\":\"white\",\"lakecolor\":\"white\",\"landcolor\":\"#E5ECF6\",\"showlakes\":true,\"showland\":true,\"subunitcolor\":\"white\"},\"hoverlabel\":{\"align\":\"left\"},\"hovermode\":\"closest\",\"mapbox\":{\"style\":\"light\"},\"paper_bgcolor\":\"white\",\"plot_bgcolor\":\"#E5ECF6\",\"polar\":{\"angularaxis\":{\"gridcolor\":\"white\",\"linecolor\":\"white\",\"ticks\":\"\"},\"bgcolor\":\"#E5ECF6\",\"radialaxis\":{\"gridcolor\":\"white\",\"linecolor\":\"white\",\"ticks\":\"\"}},\"scene\":{\"xaxis\":{\"backgroundcolor\":\"#E5ECF6\",\"gridcolor\":\"white\",\"gridwidth\":2,\"linecolor\":\"white\",\"showbackground\":true,\"ticks\":\"\",\"zerolinecolor\":\"white\"},\"yaxis\":{\"backgroundcolor\":\"#E5ECF6\",\"gridcolor\":\"white\",\"gridwidth\":2,\"linecolor\":\"white\",\"showbackground\":true,\"ticks\":\"\",\"zerolinecolor\":\"white\"},\"zaxis\":{\"backgroundcolor\":\"#E5ECF6\",\"gridcolor\":\"white\",\"gridwidth\":2,\"linecolor\":\"white\",\"showbackground\":true,\"ticks\":\"\",\"zerolinecolor\":\"white\"}},\"shapedefaults\":{\"line\":{\"color\":\"#2a3f5f\"}},\"ternary\":{\"aaxis\":{\"gridcolor\":\"white\",\"linecolor\":\"white\",\"ticks\":\"\"},\"baxis\":{\"gridcolor\":\"white\",\"linecolor\":\"white\",\"ticks\":\"\"},\"bgcolor\":\"#E5ECF6\",\"caxis\":{\"gridcolor\":\"white\",\"linecolor\":\"white\",\"ticks\":\"\"}},\"title\":{\"x\":0.05},\"xaxis\":{\"automargin\":true,\"gridcolor\":\"white\",\"linecolor\":\"white\",\"ticks\":\"\",\"title\":{\"standoff\":15},\"zerolinecolor\":\"white\",\"zerolinewidth\":2},\"yaxis\":{\"automargin\":true,\"gridcolor\":\"white\",\"linecolor\":\"white\",\"ticks\":\"\",\"title\":{\"standoff\":15},\"zerolinecolor\":\"white\",\"zerolinewidth\":2}}},\"coloraxis\":{\"colorbar\":{\"title\":{\"text\":\"N\"}},\"colorscale\":[[0.0,\"rgb(247,251,255)\"],[0.125,\"rgb(222,235,247)\"],[0.25,\"rgb(198,219,239)\"],[0.375,\"rgb(158,202,225)\"],[0.5,\"rgb(107,174,214)\"],[0.625,\"rgb(66,146,198)\"],[0.75,\"rgb(33,113,181)\"],[0.875,\"rgb(8,81,156)\"],[1.0,\"rgb(8,48,107)\"]]},\"legend\":{\"tracegroupgap\":0},\"margin\":{\"t\":60},\"title\":{\"text\":\"Top 10 crops with most Nitrogen\"},\"uniformtext\":{\"minsize\":5}},                        {\"responsive\": true}                    ).then(function(){\n",
       "                            \n",
       "var gd = document.getElementById('8565791d-9663-4b5a-9227-ecfa564b622d');\n",
       "var x = new MutationObserver(function (mutations, observer) {{\n",
       "        var display = window.getComputedStyle(gd).display;\n",
       "        if (!display || display === 'none') {{\n",
       "            console.log([gd, 'removed!']);\n",
       "            Plotly.purge(gd);\n",
       "            observer.disconnect();\n",
       "        }}\n",
       "}});\n",
       "\n",
       "// Listen for the removal of the full notebook cells\n",
       "var notebookContainer = gd.closest('#notebook-container');\n",
       "if (notebookContainer) {{\n",
       "    x.observe(notebookContainer, {childList: true});\n",
       "}}\n",
       "\n",
       "// Listen for the clearing of the current output cell\n",
       "var outputEl = gd.closest('.output');\n",
       "if (outputEl) {{\n",
       "    x.observe(outputEl, {childList: true});\n",
       "}}\n",
       "\n",
       "                        })                };                });            </script>        </div>"
      ]
     },
     "metadata": {},
     "output_type": "display_data"
    }
   ],
   "source": [
    "crops_with_most_nitrogen=df1.sort_values(by='N',ascending=False)\n",
    "crops_with_most_nitrogen_sort=crops_with_most_nitrogen[:10]\n",
    "fig = px.sunburst(\n",
    "    crops_with_most_nitrogen_sort,\n",
    "    path=['label','N'],\n",
    "    values='N',\n",
    "    color='N',\n",
    "    color_continuous_scale='Blues'\n",
    ")\n",
    "fig.update_layout(\n",
    "    title_text='Top 10 crops with most Nitrogen',\n",
    "    uniformtext=dict(minsize=5))\n",
    "fig.show()"
   ]
  },
  {
   "cell_type": "code",
   "execution_count": 29,
   "id": "e1c960bc",
   "metadata": {},
   "outputs": [
    {
     "data": {
      "application/vnd.plotly.v1+json": {
       "config": {
        "plotlyServerURL": "https://plot.ly"
       },
       "data": [
        {
         "branchvalues": "total",
         "customdata": [
          [
           48.44
          ],
          [
           59.05
          ],
          [
           67.47
          ],
          [
           67.54
          ],
          [
           67.73
          ],
          [
           67.79
          ],
          [
           68.36
          ],
          [
           82.01
          ],
          [
           132.53
          ],
          [
           134.22
          ],
          [
           134.22
          ],
          [
           82.01
          ],
          [
           67.47
          ],
          [
           67.79
          ],
          [
           132.53
          ],
          [
           67.54
          ],
          [
           68.36
          ],
          [
           48.44
          ],
          [
           59.05
          ],
          [
           67.73
          ]
         ],
         "domain": {
          "x": [
           0,
           1
          ],
          "y": [
           0,
           1
          ]
         },
         "hovertemplate": "labels=%{label}<br>P_sum=%{value}<br>parent=%{parent}<br>id=%{id}<br>P=%{color}<extra></extra>",
         "ids": [
          "maize/48.44",
          "papaya/59.05",
          "blackgram/67.47",
          "kidneybeans/67.54",
          "pigeonpeas/67.73",
          "chickpea/67.79",
          "lentil/68.36",
          "banana/82.01",
          "grapes/132.53",
          "apple/134.22",
          "apple",
          "banana",
          "blackgram",
          "chickpea",
          "grapes",
          "kidneybeans",
          "lentil",
          "maize",
          "papaya",
          "pigeonpeas"
         ],
         "labels": [
          "48.44",
          "59.05",
          "67.47",
          "67.54",
          "67.73",
          "67.79",
          "68.36",
          "82.01",
          "132.53",
          "134.22",
          "apple",
          "banana",
          "blackgram",
          "chickpea",
          "grapes",
          "kidneybeans",
          "lentil",
          "maize",
          "papaya",
          "pigeonpeas"
         ],
         "marker": {
          "coloraxis": "coloraxis",
          "colors": [
           48.44,
           59.05,
           67.47,
           67.54,
           67.73,
           67.79,
           68.36,
           82.01,
           132.53,
           134.22,
           134.22,
           82.01,
           67.47,
           67.79,
           132.53,
           67.54,
           68.36,
           48.44,
           59.05,
           67.73
          ]
         },
         "name": "",
         "parents": [
          "maize",
          "papaya",
          "blackgram",
          "kidneybeans",
          "pigeonpeas",
          "chickpea",
          "lentil",
          "banana",
          "grapes",
          "apple",
          "",
          "",
          "",
          "",
          "",
          "",
          "",
          "",
          "",
          ""
         ],
         "type": "sunburst",
         "values": [
          48.44,
          59.05,
          67.47,
          67.54,
          67.73,
          67.79,
          68.36,
          82.01,
          132.53,
          134.22,
          134.22,
          82.01,
          67.47,
          67.79,
          132.53,
          67.54,
          68.36,
          48.44,
          59.05,
          67.73
         ]
        }
       ],
       "layout": {
        "coloraxis": {
         "colorbar": {
          "title": {
           "text": "P"
          }
         },
         "colorscale": [
          [
           0,
           "rgb(252,251,253)"
          ],
          [
           0.125,
           "rgb(239,237,245)"
          ],
          [
           0.25,
           "rgb(218,218,235)"
          ],
          [
           0.375,
           "rgb(188,189,220)"
          ],
          [
           0.5,
           "rgb(158,154,200)"
          ],
          [
           0.625,
           "rgb(128,125,186)"
          ],
          [
           0.75,
           "rgb(106,81,163)"
          ],
          [
           0.875,
           "rgb(84,39,143)"
          ],
          [
           1,
           "rgb(63,0,125)"
          ]
         ]
        },
        "legend": {
         "tracegroupgap": 0
        },
        "margin": {
         "t": 60
        },
        "template": {
         "data": {
          "bar": [
           {
            "error_x": {
             "color": "#2a3f5f"
            },
            "error_y": {
             "color": "#2a3f5f"
            },
            "marker": {
             "line": {
              "color": "#E5ECF6",
              "width": 0.5
             },
             "pattern": {
              "fillmode": "overlay",
              "size": 10,
              "solidity": 0.2
             }
            },
            "type": "bar"
           }
          ],
          "barpolar": [
           {
            "marker": {
             "line": {
              "color": "#E5ECF6",
              "width": 0.5
             },
             "pattern": {
              "fillmode": "overlay",
              "size": 10,
              "solidity": 0.2
             }
            },
            "type": "barpolar"
           }
          ],
          "carpet": [
           {
            "aaxis": {
             "endlinecolor": "#2a3f5f",
             "gridcolor": "white",
             "linecolor": "white",
             "minorgridcolor": "white",
             "startlinecolor": "#2a3f5f"
            },
            "baxis": {
             "endlinecolor": "#2a3f5f",
             "gridcolor": "white",
             "linecolor": "white",
             "minorgridcolor": "white",
             "startlinecolor": "#2a3f5f"
            },
            "type": "carpet"
           }
          ],
          "choropleth": [
           {
            "colorbar": {
             "outlinewidth": 0,
             "ticks": ""
            },
            "type": "choropleth"
           }
          ],
          "contour": [
           {
            "colorbar": {
             "outlinewidth": 0,
             "ticks": ""
            },
            "colorscale": [
             [
              0,
              "#0d0887"
             ],
             [
              0.1111111111111111,
              "#46039f"
             ],
             [
              0.2222222222222222,
              "#7201a8"
             ],
             [
              0.3333333333333333,
              "#9c179e"
             ],
             [
              0.4444444444444444,
              "#bd3786"
             ],
             [
              0.5555555555555556,
              "#d8576b"
             ],
             [
              0.6666666666666666,
              "#ed7953"
             ],
             [
              0.7777777777777778,
              "#fb9f3a"
             ],
             [
              0.8888888888888888,
              "#fdca26"
             ],
             [
              1,
              "#f0f921"
             ]
            ],
            "type": "contour"
           }
          ],
          "contourcarpet": [
           {
            "colorbar": {
             "outlinewidth": 0,
             "ticks": ""
            },
            "type": "contourcarpet"
           }
          ],
          "heatmap": [
           {
            "colorbar": {
             "outlinewidth": 0,
             "ticks": ""
            },
            "colorscale": [
             [
              0,
              "#0d0887"
             ],
             [
              0.1111111111111111,
              "#46039f"
             ],
             [
              0.2222222222222222,
              "#7201a8"
             ],
             [
              0.3333333333333333,
              "#9c179e"
             ],
             [
              0.4444444444444444,
              "#bd3786"
             ],
             [
              0.5555555555555556,
              "#d8576b"
             ],
             [
              0.6666666666666666,
              "#ed7953"
             ],
             [
              0.7777777777777778,
              "#fb9f3a"
             ],
             [
              0.8888888888888888,
              "#fdca26"
             ],
             [
              1,
              "#f0f921"
             ]
            ],
            "type": "heatmap"
           }
          ],
          "heatmapgl": [
           {
            "colorbar": {
             "outlinewidth": 0,
             "ticks": ""
            },
            "colorscale": [
             [
              0,
              "#0d0887"
             ],
             [
              0.1111111111111111,
              "#46039f"
             ],
             [
              0.2222222222222222,
              "#7201a8"
             ],
             [
              0.3333333333333333,
              "#9c179e"
             ],
             [
              0.4444444444444444,
              "#bd3786"
             ],
             [
              0.5555555555555556,
              "#d8576b"
             ],
             [
              0.6666666666666666,
              "#ed7953"
             ],
             [
              0.7777777777777778,
              "#fb9f3a"
             ],
             [
              0.8888888888888888,
              "#fdca26"
             ],
             [
              1,
              "#f0f921"
             ]
            ],
            "type": "heatmapgl"
           }
          ],
          "histogram": [
           {
            "marker": {
             "pattern": {
              "fillmode": "overlay",
              "size": 10,
              "solidity": 0.2
             }
            },
            "type": "histogram"
           }
          ],
          "histogram2d": [
           {
            "colorbar": {
             "outlinewidth": 0,
             "ticks": ""
            },
            "colorscale": [
             [
              0,
              "#0d0887"
             ],
             [
              0.1111111111111111,
              "#46039f"
             ],
             [
              0.2222222222222222,
              "#7201a8"
             ],
             [
              0.3333333333333333,
              "#9c179e"
             ],
             [
              0.4444444444444444,
              "#bd3786"
             ],
             [
              0.5555555555555556,
              "#d8576b"
             ],
             [
              0.6666666666666666,
              "#ed7953"
             ],
             [
              0.7777777777777778,
              "#fb9f3a"
             ],
             [
              0.8888888888888888,
              "#fdca26"
             ],
             [
              1,
              "#f0f921"
             ]
            ],
            "type": "histogram2d"
           }
          ],
          "histogram2dcontour": [
           {
            "colorbar": {
             "outlinewidth": 0,
             "ticks": ""
            },
            "colorscale": [
             [
              0,
              "#0d0887"
             ],
             [
              0.1111111111111111,
              "#46039f"
             ],
             [
              0.2222222222222222,
              "#7201a8"
             ],
             [
              0.3333333333333333,
              "#9c179e"
             ],
             [
              0.4444444444444444,
              "#bd3786"
             ],
             [
              0.5555555555555556,
              "#d8576b"
             ],
             [
              0.6666666666666666,
              "#ed7953"
             ],
             [
              0.7777777777777778,
              "#fb9f3a"
             ],
             [
              0.8888888888888888,
              "#fdca26"
             ],
             [
              1,
              "#f0f921"
             ]
            ],
            "type": "histogram2dcontour"
           }
          ],
          "mesh3d": [
           {
            "colorbar": {
             "outlinewidth": 0,
             "ticks": ""
            },
            "type": "mesh3d"
           }
          ],
          "parcoords": [
           {
            "line": {
             "colorbar": {
              "outlinewidth": 0,
              "ticks": ""
             }
            },
            "type": "parcoords"
           }
          ],
          "pie": [
           {
            "automargin": true,
            "type": "pie"
           }
          ],
          "scatter": [
           {
            "marker": {
             "colorbar": {
              "outlinewidth": 0,
              "ticks": ""
             }
            },
            "type": "scatter"
           }
          ],
          "scatter3d": [
           {
            "line": {
             "colorbar": {
              "outlinewidth": 0,
              "ticks": ""
             }
            },
            "marker": {
             "colorbar": {
              "outlinewidth": 0,
              "ticks": ""
             }
            },
            "type": "scatter3d"
           }
          ],
          "scattercarpet": [
           {
            "marker": {
             "colorbar": {
              "outlinewidth": 0,
              "ticks": ""
             }
            },
            "type": "scattercarpet"
           }
          ],
          "scattergeo": [
           {
            "marker": {
             "colorbar": {
              "outlinewidth": 0,
              "ticks": ""
             }
            },
            "type": "scattergeo"
           }
          ],
          "scattergl": [
           {
            "marker": {
             "colorbar": {
              "outlinewidth": 0,
              "ticks": ""
             }
            },
            "type": "scattergl"
           }
          ],
          "scattermapbox": [
           {
            "marker": {
             "colorbar": {
              "outlinewidth": 0,
              "ticks": ""
             }
            },
            "type": "scattermapbox"
           }
          ],
          "scatterpolar": [
           {
            "marker": {
             "colorbar": {
              "outlinewidth": 0,
              "ticks": ""
             }
            },
            "type": "scatterpolar"
           }
          ],
          "scatterpolargl": [
           {
            "marker": {
             "colorbar": {
              "outlinewidth": 0,
              "ticks": ""
             }
            },
            "type": "scatterpolargl"
           }
          ],
          "scatterternary": [
           {
            "marker": {
             "colorbar": {
              "outlinewidth": 0,
              "ticks": ""
             }
            },
            "type": "scatterternary"
           }
          ],
          "surface": [
           {
            "colorbar": {
             "outlinewidth": 0,
             "ticks": ""
            },
            "colorscale": [
             [
              0,
              "#0d0887"
             ],
             [
              0.1111111111111111,
              "#46039f"
             ],
             [
              0.2222222222222222,
              "#7201a8"
             ],
             [
              0.3333333333333333,
              "#9c179e"
             ],
             [
              0.4444444444444444,
              "#bd3786"
             ],
             [
              0.5555555555555556,
              "#d8576b"
             ],
             [
              0.6666666666666666,
              "#ed7953"
             ],
             [
              0.7777777777777778,
              "#fb9f3a"
             ],
             [
              0.8888888888888888,
              "#fdca26"
             ],
             [
              1,
              "#f0f921"
             ]
            ],
            "type": "surface"
           }
          ],
          "table": [
           {
            "cells": {
             "fill": {
              "color": "#EBF0F8"
             },
             "line": {
              "color": "white"
             }
            },
            "header": {
             "fill": {
              "color": "#C8D4E3"
             },
             "line": {
              "color": "white"
             }
            },
            "type": "table"
           }
          ]
         },
         "layout": {
          "annotationdefaults": {
           "arrowcolor": "#2a3f5f",
           "arrowhead": 0,
           "arrowwidth": 1
          },
          "autotypenumbers": "strict",
          "coloraxis": {
           "colorbar": {
            "outlinewidth": 0,
            "ticks": ""
           }
          },
          "colorscale": {
           "diverging": [
            [
             0,
             "#8e0152"
            ],
            [
             0.1,
             "#c51b7d"
            ],
            [
             0.2,
             "#de77ae"
            ],
            [
             0.3,
             "#f1b6da"
            ],
            [
             0.4,
             "#fde0ef"
            ],
            [
             0.5,
             "#f7f7f7"
            ],
            [
             0.6,
             "#e6f5d0"
            ],
            [
             0.7,
             "#b8e186"
            ],
            [
             0.8,
             "#7fbc41"
            ],
            [
             0.9,
             "#4d9221"
            ],
            [
             1,
             "#276419"
            ]
           ],
           "sequential": [
            [
             0,
             "#0d0887"
            ],
            [
             0.1111111111111111,
             "#46039f"
            ],
            [
             0.2222222222222222,
             "#7201a8"
            ],
            [
             0.3333333333333333,
             "#9c179e"
            ],
            [
             0.4444444444444444,
             "#bd3786"
            ],
            [
             0.5555555555555556,
             "#d8576b"
            ],
            [
             0.6666666666666666,
             "#ed7953"
            ],
            [
             0.7777777777777778,
             "#fb9f3a"
            ],
            [
             0.8888888888888888,
             "#fdca26"
            ],
            [
             1,
             "#f0f921"
            ]
           ],
           "sequentialminus": [
            [
             0,
             "#0d0887"
            ],
            [
             0.1111111111111111,
             "#46039f"
            ],
            [
             0.2222222222222222,
             "#7201a8"
            ],
            [
             0.3333333333333333,
             "#9c179e"
            ],
            [
             0.4444444444444444,
             "#bd3786"
            ],
            [
             0.5555555555555556,
             "#d8576b"
            ],
            [
             0.6666666666666666,
             "#ed7953"
            ],
            [
             0.7777777777777778,
             "#fb9f3a"
            ],
            [
             0.8888888888888888,
             "#fdca26"
            ],
            [
             1,
             "#f0f921"
            ]
           ]
          },
          "colorway": [
           "#636efa",
           "#EF553B",
           "#00cc96",
           "#ab63fa",
           "#FFA15A",
           "#19d3f3",
           "#FF6692",
           "#B6E880",
           "#FF97FF",
           "#FECB52"
          ],
          "font": {
           "color": "#2a3f5f"
          },
          "geo": {
           "bgcolor": "white",
           "lakecolor": "white",
           "landcolor": "#E5ECF6",
           "showlakes": true,
           "showland": true,
           "subunitcolor": "white"
          },
          "hoverlabel": {
           "align": "left"
          },
          "hovermode": "closest",
          "mapbox": {
           "style": "light"
          },
          "paper_bgcolor": "white",
          "plot_bgcolor": "#E5ECF6",
          "polar": {
           "angularaxis": {
            "gridcolor": "white",
            "linecolor": "white",
            "ticks": ""
           },
           "bgcolor": "#E5ECF6",
           "radialaxis": {
            "gridcolor": "white",
            "linecolor": "white",
            "ticks": ""
           }
          },
          "scene": {
           "xaxis": {
            "backgroundcolor": "#E5ECF6",
            "gridcolor": "white",
            "gridwidth": 2,
            "linecolor": "white",
            "showbackground": true,
            "ticks": "",
            "zerolinecolor": "white"
           },
           "yaxis": {
            "backgroundcolor": "#E5ECF6",
            "gridcolor": "white",
            "gridwidth": 2,
            "linecolor": "white",
            "showbackground": true,
            "ticks": "",
            "zerolinecolor": "white"
           },
           "zaxis": {
            "backgroundcolor": "#E5ECF6",
            "gridcolor": "white",
            "gridwidth": 2,
            "linecolor": "white",
            "showbackground": true,
            "ticks": "",
            "zerolinecolor": "white"
           }
          },
          "shapedefaults": {
           "line": {
            "color": "#2a3f5f"
           }
          },
          "ternary": {
           "aaxis": {
            "gridcolor": "white",
            "linecolor": "white",
            "ticks": ""
           },
           "baxis": {
            "gridcolor": "white",
            "linecolor": "white",
            "ticks": ""
           },
           "bgcolor": "#E5ECF6",
           "caxis": {
            "gridcolor": "white",
            "linecolor": "white",
            "ticks": ""
           }
          },
          "title": {
           "x": 0.05
          },
          "xaxis": {
           "automargin": true,
           "gridcolor": "white",
           "linecolor": "white",
           "ticks": "",
           "title": {
            "standoff": 15
           },
           "zerolinecolor": "white",
           "zerolinewidth": 2
          },
          "yaxis": {
           "automargin": true,
           "gridcolor": "white",
           "linecolor": "white",
           "ticks": "",
           "title": {
            "standoff": 15
           },
           "zerolinecolor": "white",
           "zerolinewidth": 2
          }
         }
        },
        "title": {
         "text": "Top 10 crops with most Phosphrus"
        },
        "uniformtext": {
         "minsize": 8
        }
       }
      },
      "text/html": [
       "<div>                            <div id=\"d39f4e10-a94b-4572-9e7d-79f2add2652c\" class=\"plotly-graph-div\" style=\"height:525px; width:100%;\"></div>            <script type=\"text/javascript\">                require([\"plotly\"], function(Plotly) {                    window.PLOTLYENV=window.PLOTLYENV || {};                                    if (document.getElementById(\"d39f4e10-a94b-4572-9e7d-79f2add2652c\")) {                    Plotly.newPlot(                        \"d39f4e10-a94b-4572-9e7d-79f2add2652c\",                        [{\"branchvalues\":\"total\",\"customdata\":[[48.44],[59.05],[67.47],[67.54],[67.73],[67.79],[68.36],[82.01],[132.53],[134.22],[134.22],[82.01],[67.47],[67.79],[132.53],[67.54],[68.36],[48.44],[59.05],[67.73]],\"domain\":{\"x\":[0.0,1.0],\"y\":[0.0,1.0]},\"hovertemplate\":\"labels=%{label}<br>P_sum=%{value}<br>parent=%{parent}<br>id=%{id}<br>P=%{color}<extra></extra>\",\"ids\":[\"maize/48.44\",\"papaya/59.05\",\"blackgram/67.47\",\"kidneybeans/67.54\",\"pigeonpeas/67.73\",\"chickpea/67.79\",\"lentil/68.36\",\"banana/82.01\",\"grapes/132.53\",\"apple/134.22\",\"apple\",\"banana\",\"blackgram\",\"chickpea\",\"grapes\",\"kidneybeans\",\"lentil\",\"maize\",\"papaya\",\"pigeonpeas\"],\"labels\":[\"48.44\",\"59.05\",\"67.47\",\"67.54\",\"67.73\",\"67.79\",\"68.36\",\"82.01\",\"132.53\",\"134.22\",\"apple\",\"banana\",\"blackgram\",\"chickpea\",\"grapes\",\"kidneybeans\",\"lentil\",\"maize\",\"papaya\",\"pigeonpeas\"],\"marker\":{\"coloraxis\":\"coloraxis\",\"colors\":[48.44,59.05,67.47,67.54,67.73,67.79,68.36,82.01,132.53,134.22,134.22,82.01,67.47,67.79,132.53,67.54,68.36,48.44,59.05,67.73]},\"name\":\"\",\"parents\":[\"maize\",\"papaya\",\"blackgram\",\"kidneybeans\",\"pigeonpeas\",\"chickpea\",\"lentil\",\"banana\",\"grapes\",\"apple\",\"\",\"\",\"\",\"\",\"\",\"\",\"\",\"\",\"\",\"\"],\"values\":[48.44,59.05,67.47,67.54,67.73,67.79,68.36,82.01,132.53,134.22,134.22,82.01,67.47,67.79,132.53,67.54,68.36,48.44,59.05,67.73],\"type\":\"sunburst\"}],                        {\"template\":{\"data\":{\"bar\":[{\"error_x\":{\"color\":\"#2a3f5f\"},\"error_y\":{\"color\":\"#2a3f5f\"},\"marker\":{\"line\":{\"color\":\"#E5ECF6\",\"width\":0.5},\"pattern\":{\"fillmode\":\"overlay\",\"size\":10,\"solidity\":0.2}},\"type\":\"bar\"}],\"barpolar\":[{\"marker\":{\"line\":{\"color\":\"#E5ECF6\",\"width\":0.5},\"pattern\":{\"fillmode\":\"overlay\",\"size\":10,\"solidity\":0.2}},\"type\":\"barpolar\"}],\"carpet\":[{\"aaxis\":{\"endlinecolor\":\"#2a3f5f\",\"gridcolor\":\"white\",\"linecolor\":\"white\",\"minorgridcolor\":\"white\",\"startlinecolor\":\"#2a3f5f\"},\"baxis\":{\"endlinecolor\":\"#2a3f5f\",\"gridcolor\":\"white\",\"linecolor\":\"white\",\"minorgridcolor\":\"white\",\"startlinecolor\":\"#2a3f5f\"},\"type\":\"carpet\"}],\"choropleth\":[{\"colorbar\":{\"outlinewidth\":0,\"ticks\":\"\"},\"type\":\"choropleth\"}],\"contour\":[{\"colorbar\":{\"outlinewidth\":0,\"ticks\":\"\"},\"colorscale\":[[0.0,\"#0d0887\"],[0.1111111111111111,\"#46039f\"],[0.2222222222222222,\"#7201a8\"],[0.3333333333333333,\"#9c179e\"],[0.4444444444444444,\"#bd3786\"],[0.5555555555555556,\"#d8576b\"],[0.6666666666666666,\"#ed7953\"],[0.7777777777777778,\"#fb9f3a\"],[0.8888888888888888,\"#fdca26\"],[1.0,\"#f0f921\"]],\"type\":\"contour\"}],\"contourcarpet\":[{\"colorbar\":{\"outlinewidth\":0,\"ticks\":\"\"},\"type\":\"contourcarpet\"}],\"heatmap\":[{\"colorbar\":{\"outlinewidth\":0,\"ticks\":\"\"},\"colorscale\":[[0.0,\"#0d0887\"],[0.1111111111111111,\"#46039f\"],[0.2222222222222222,\"#7201a8\"],[0.3333333333333333,\"#9c179e\"],[0.4444444444444444,\"#bd3786\"],[0.5555555555555556,\"#d8576b\"],[0.6666666666666666,\"#ed7953\"],[0.7777777777777778,\"#fb9f3a\"],[0.8888888888888888,\"#fdca26\"],[1.0,\"#f0f921\"]],\"type\":\"heatmap\"}],\"heatmapgl\":[{\"colorbar\":{\"outlinewidth\":0,\"ticks\":\"\"},\"colorscale\":[[0.0,\"#0d0887\"],[0.1111111111111111,\"#46039f\"],[0.2222222222222222,\"#7201a8\"],[0.3333333333333333,\"#9c179e\"],[0.4444444444444444,\"#bd3786\"],[0.5555555555555556,\"#d8576b\"],[0.6666666666666666,\"#ed7953\"],[0.7777777777777778,\"#fb9f3a\"],[0.8888888888888888,\"#fdca26\"],[1.0,\"#f0f921\"]],\"type\":\"heatmapgl\"}],\"histogram\":[{\"marker\":{\"pattern\":{\"fillmode\":\"overlay\",\"size\":10,\"solidity\":0.2}},\"type\":\"histogram\"}],\"histogram2d\":[{\"colorbar\":{\"outlinewidth\":0,\"ticks\":\"\"},\"colorscale\":[[0.0,\"#0d0887\"],[0.1111111111111111,\"#46039f\"],[0.2222222222222222,\"#7201a8\"],[0.3333333333333333,\"#9c179e\"],[0.4444444444444444,\"#bd3786\"],[0.5555555555555556,\"#d8576b\"],[0.6666666666666666,\"#ed7953\"],[0.7777777777777778,\"#fb9f3a\"],[0.8888888888888888,\"#fdca26\"],[1.0,\"#f0f921\"]],\"type\":\"histogram2d\"}],\"histogram2dcontour\":[{\"colorbar\":{\"outlinewidth\":0,\"ticks\":\"\"},\"colorscale\":[[0.0,\"#0d0887\"],[0.1111111111111111,\"#46039f\"],[0.2222222222222222,\"#7201a8\"],[0.3333333333333333,\"#9c179e\"],[0.4444444444444444,\"#bd3786\"],[0.5555555555555556,\"#d8576b\"],[0.6666666666666666,\"#ed7953\"],[0.7777777777777778,\"#fb9f3a\"],[0.8888888888888888,\"#fdca26\"],[1.0,\"#f0f921\"]],\"type\":\"histogram2dcontour\"}],\"mesh3d\":[{\"colorbar\":{\"outlinewidth\":0,\"ticks\":\"\"},\"type\":\"mesh3d\"}],\"parcoords\":[{\"line\":{\"colorbar\":{\"outlinewidth\":0,\"ticks\":\"\"}},\"type\":\"parcoords\"}],\"pie\":[{\"automargin\":true,\"type\":\"pie\"}],\"scatter\":[{\"marker\":{\"colorbar\":{\"outlinewidth\":0,\"ticks\":\"\"}},\"type\":\"scatter\"}],\"scatter3d\":[{\"line\":{\"colorbar\":{\"outlinewidth\":0,\"ticks\":\"\"}},\"marker\":{\"colorbar\":{\"outlinewidth\":0,\"ticks\":\"\"}},\"type\":\"scatter3d\"}],\"scattercarpet\":[{\"marker\":{\"colorbar\":{\"outlinewidth\":0,\"ticks\":\"\"}},\"type\":\"scattercarpet\"}],\"scattergeo\":[{\"marker\":{\"colorbar\":{\"outlinewidth\":0,\"ticks\":\"\"}},\"type\":\"scattergeo\"}],\"scattergl\":[{\"marker\":{\"colorbar\":{\"outlinewidth\":0,\"ticks\":\"\"}},\"type\":\"scattergl\"}],\"scattermapbox\":[{\"marker\":{\"colorbar\":{\"outlinewidth\":0,\"ticks\":\"\"}},\"type\":\"scattermapbox\"}],\"scatterpolar\":[{\"marker\":{\"colorbar\":{\"outlinewidth\":0,\"ticks\":\"\"}},\"type\":\"scatterpolar\"}],\"scatterpolargl\":[{\"marker\":{\"colorbar\":{\"outlinewidth\":0,\"ticks\":\"\"}},\"type\":\"scatterpolargl\"}],\"scatterternary\":[{\"marker\":{\"colorbar\":{\"outlinewidth\":0,\"ticks\":\"\"}},\"type\":\"scatterternary\"}],\"surface\":[{\"colorbar\":{\"outlinewidth\":0,\"ticks\":\"\"},\"colorscale\":[[0.0,\"#0d0887\"],[0.1111111111111111,\"#46039f\"],[0.2222222222222222,\"#7201a8\"],[0.3333333333333333,\"#9c179e\"],[0.4444444444444444,\"#bd3786\"],[0.5555555555555556,\"#d8576b\"],[0.6666666666666666,\"#ed7953\"],[0.7777777777777778,\"#fb9f3a\"],[0.8888888888888888,\"#fdca26\"],[1.0,\"#f0f921\"]],\"type\":\"surface\"}],\"table\":[{\"cells\":{\"fill\":{\"color\":\"#EBF0F8\"},\"line\":{\"color\":\"white\"}},\"header\":{\"fill\":{\"color\":\"#C8D4E3\"},\"line\":{\"color\":\"white\"}},\"type\":\"table\"}]},\"layout\":{\"annotationdefaults\":{\"arrowcolor\":\"#2a3f5f\",\"arrowhead\":0,\"arrowwidth\":1},\"autotypenumbers\":\"strict\",\"coloraxis\":{\"colorbar\":{\"outlinewidth\":0,\"ticks\":\"\"}},\"colorscale\":{\"diverging\":[[0,\"#8e0152\"],[0.1,\"#c51b7d\"],[0.2,\"#de77ae\"],[0.3,\"#f1b6da\"],[0.4,\"#fde0ef\"],[0.5,\"#f7f7f7\"],[0.6,\"#e6f5d0\"],[0.7,\"#b8e186\"],[0.8,\"#7fbc41\"],[0.9,\"#4d9221\"],[1,\"#276419\"]],\"sequential\":[[0.0,\"#0d0887\"],[0.1111111111111111,\"#46039f\"],[0.2222222222222222,\"#7201a8\"],[0.3333333333333333,\"#9c179e\"],[0.4444444444444444,\"#bd3786\"],[0.5555555555555556,\"#d8576b\"],[0.6666666666666666,\"#ed7953\"],[0.7777777777777778,\"#fb9f3a\"],[0.8888888888888888,\"#fdca26\"],[1.0,\"#f0f921\"]],\"sequentialminus\":[[0.0,\"#0d0887\"],[0.1111111111111111,\"#46039f\"],[0.2222222222222222,\"#7201a8\"],[0.3333333333333333,\"#9c179e\"],[0.4444444444444444,\"#bd3786\"],[0.5555555555555556,\"#d8576b\"],[0.6666666666666666,\"#ed7953\"],[0.7777777777777778,\"#fb9f3a\"],[0.8888888888888888,\"#fdca26\"],[1.0,\"#f0f921\"]]},\"colorway\":[\"#636efa\",\"#EF553B\",\"#00cc96\",\"#ab63fa\",\"#FFA15A\",\"#19d3f3\",\"#FF6692\",\"#B6E880\",\"#FF97FF\",\"#FECB52\"],\"font\":{\"color\":\"#2a3f5f\"},\"geo\":{\"bgcolor\":\"white\",\"lakecolor\":\"white\",\"landcolor\":\"#E5ECF6\",\"showlakes\":true,\"showland\":true,\"subunitcolor\":\"white\"},\"hoverlabel\":{\"align\":\"left\"},\"hovermode\":\"closest\",\"mapbox\":{\"style\":\"light\"},\"paper_bgcolor\":\"white\",\"plot_bgcolor\":\"#E5ECF6\",\"polar\":{\"angularaxis\":{\"gridcolor\":\"white\",\"linecolor\":\"white\",\"ticks\":\"\"},\"bgcolor\":\"#E5ECF6\",\"radialaxis\":{\"gridcolor\":\"white\",\"linecolor\":\"white\",\"ticks\":\"\"}},\"scene\":{\"xaxis\":{\"backgroundcolor\":\"#E5ECF6\",\"gridcolor\":\"white\",\"gridwidth\":2,\"linecolor\":\"white\",\"showbackground\":true,\"ticks\":\"\",\"zerolinecolor\":\"white\"},\"yaxis\":{\"backgroundcolor\":\"#E5ECF6\",\"gridcolor\":\"white\",\"gridwidth\":2,\"linecolor\":\"white\",\"showbackground\":true,\"ticks\":\"\",\"zerolinecolor\":\"white\"},\"zaxis\":{\"backgroundcolor\":\"#E5ECF6\",\"gridcolor\":\"white\",\"gridwidth\":2,\"linecolor\":\"white\",\"showbackground\":true,\"ticks\":\"\",\"zerolinecolor\":\"white\"}},\"shapedefaults\":{\"line\":{\"color\":\"#2a3f5f\"}},\"ternary\":{\"aaxis\":{\"gridcolor\":\"white\",\"linecolor\":\"white\",\"ticks\":\"\"},\"baxis\":{\"gridcolor\":\"white\",\"linecolor\":\"white\",\"ticks\":\"\"},\"bgcolor\":\"#E5ECF6\",\"caxis\":{\"gridcolor\":\"white\",\"linecolor\":\"white\",\"ticks\":\"\"}},\"title\":{\"x\":0.05},\"xaxis\":{\"automargin\":true,\"gridcolor\":\"white\",\"linecolor\":\"white\",\"ticks\":\"\",\"title\":{\"standoff\":15},\"zerolinecolor\":\"white\",\"zerolinewidth\":2},\"yaxis\":{\"automargin\":true,\"gridcolor\":\"white\",\"linecolor\":\"white\",\"ticks\":\"\",\"title\":{\"standoff\":15},\"zerolinecolor\":\"white\",\"zerolinewidth\":2}}},\"coloraxis\":{\"colorbar\":{\"title\":{\"text\":\"P\"}},\"colorscale\":[[0.0,\"rgb(252,251,253)\"],[0.125,\"rgb(239,237,245)\"],[0.25,\"rgb(218,218,235)\"],[0.375,\"rgb(188,189,220)\"],[0.5,\"rgb(158,154,200)\"],[0.625,\"rgb(128,125,186)\"],[0.75,\"rgb(106,81,163)\"],[0.875,\"rgb(84,39,143)\"],[1.0,\"rgb(63,0,125)\"]]},\"legend\":{\"tracegroupgap\":0},\"margin\":{\"t\":60},\"title\":{\"text\":\"Top 10 crops with most Phosphrus\"},\"uniformtext\":{\"minsize\":8}},                        {\"responsive\": true}                    ).then(function(){\n",
       "                            \n",
       "var gd = document.getElementById('d39f4e10-a94b-4572-9e7d-79f2add2652c');\n",
       "var x = new MutationObserver(function (mutations, observer) {{\n",
       "        var display = window.getComputedStyle(gd).display;\n",
       "        if (!display || display === 'none') {{\n",
       "            console.log([gd, 'removed!']);\n",
       "            Plotly.purge(gd);\n",
       "            observer.disconnect();\n",
       "        }}\n",
       "}});\n",
       "\n",
       "// Listen for the removal of the full notebook cells\n",
       "var notebookContainer = gd.closest('#notebook-container');\n",
       "if (notebookContainer) {{\n",
       "    x.observe(notebookContainer, {childList: true});\n",
       "}}\n",
       "\n",
       "// Listen for the clearing of the current output cell\n",
       "var outputEl = gd.closest('.output');\n",
       "if (outputEl) {{\n",
       "    x.observe(outputEl, {childList: true});\n",
       "}}\n",
       "\n",
       "                        })                };                });            </script>        </div>"
      ]
     },
     "metadata": {},
     "output_type": "display_data"
    }
   ],
   "source": [
    "crops_with_most_Phosphorus=df1.sort_values(by='P',ascending=False)\n",
    "crops_with_most_phosphorus_sort=crops_with_most_Phosphorus[:10]\n",
    "fig = px.sunburst(\n",
    "    crops_with_most_phosphorus_sort,\n",
    "    path=['label','P'],\n",
    "    values='P',\n",
    "    color='P',\n",
    "    color_continuous_scale='purples'\n",
    ")\n",
    "fig.update_layout(\n",
    "    title_text='Top 10 crops with most Phosphrus',\n",
    "    uniformtext=dict(minsize=8))\n",
    "fig.show()"
   ]
  },
  {
   "cell_type": "code",
   "execution_count": 30,
   "id": "e5e706f4",
   "metadata": {},
   "outputs": [
    {
     "data": {
      "application/vnd.plotly.v1+json": {
       "config": {
        "plotlyServerURL": "https://plot.ly"
       },
       "data": [
        {
         "branchvalues": "total",
         "customdata": [
          [
           39.87
          ],
          [
           39.99
          ],
          [
           40.21
          ],
          [
           50.04
          ],
          [
           50.05
          ],
          [
           50.08
          ],
          [
           50.21999999999999
          ],
          [
           79.92
          ],
          [
           199.89
          ],
          [
           200.11
          ],
          [
           199.89
          ],
          [
           50.05
          ],
          [
           79.92
          ],
          [
           200.11
          ],
          [
           39.99
          ],
          [
           50.08
          ],
          [
           50.04
          ],
          [
           40.21
          ],
          [
           39.87
          ],
          [
           50.21999999999999
          ]
         ],
         "domain": {
          "x": [
           0,
           1
          ],
          "y": [
           0,
           1
          ]
         },
         "hovertemplate": "labels=%{label}<br>K_sum=%{value}<br>parent=%{parent}<br>id=%{id}<br>K=%{color}<extra></extra>",
         "ids": [
          "rice/39.87",
          "jute/39.99",
          "pomegranate/40.21",
          "papaya/50.04",
          "banana/50.05",
          "muskmelon/50.08",
          "watermelon/50.22",
          "chickpea/79.92",
          "apple/199.89",
          "grapes/200.11",
          "apple",
          "banana",
          "chickpea",
          "grapes",
          "jute",
          "muskmelon",
          "papaya",
          "pomegranate",
          "rice",
          "watermelon"
         ],
         "labels": [
          "39.87",
          "39.99",
          "40.21",
          "50.04",
          "50.05",
          "50.08",
          "50.22",
          "79.92",
          "199.89",
          "200.11",
          "apple",
          "banana",
          "chickpea",
          "grapes",
          "jute",
          "muskmelon",
          "papaya",
          "pomegranate",
          "rice",
          "watermelon"
         ],
         "marker": {
          "coloraxis": "coloraxis",
          "colors": [
           39.87,
           39.99,
           40.21,
           50.04,
           50.05,
           50.08,
           50.21999999999999,
           79.92,
           199.89,
           200.11,
           199.89,
           50.05,
           79.92,
           200.11,
           39.99,
           50.08,
           50.04,
           40.21,
           39.87,
           50.21999999999999
          ]
         },
         "name": "",
         "parents": [
          "rice",
          "jute",
          "pomegranate",
          "papaya",
          "banana",
          "muskmelon",
          "watermelon",
          "chickpea",
          "apple",
          "grapes",
          "",
          "",
          "",
          "",
          "",
          "",
          "",
          "",
          "",
          ""
         ],
         "type": "sunburst",
         "values": [
          39.87,
          39.99,
          40.21,
          50.04,
          50.05,
          50.08,
          50.22,
          79.92,
          199.89,
          200.11,
          199.89,
          50.05,
          79.92,
          200.11,
          39.99,
          50.08,
          50.04,
          40.21,
          39.87,
          50.22
         ]
        }
       ],
       "layout": {
        "coloraxis": {
         "colorbar": {
          "title": {
           "text": "K"
          }
         },
         "colorscale": [
          [
           0,
           "rgb(255,245,235)"
          ],
          [
           0.125,
           "rgb(254,230,206)"
          ],
          [
           0.25,
           "rgb(253,208,162)"
          ],
          [
           0.375,
           "rgb(253,174,107)"
          ],
          [
           0.5,
           "rgb(253,141,60)"
          ],
          [
           0.625,
           "rgb(241,105,19)"
          ],
          [
           0.75,
           "rgb(217,72,1)"
          ],
          [
           0.875,
           "rgb(166,54,3)"
          ],
          [
           1,
           "rgb(127,39,4)"
          ]
         ]
        },
        "legend": {
         "tracegroupgap": 0
        },
        "margin": {
         "t": 60
        },
        "template": {
         "data": {
          "bar": [
           {
            "error_x": {
             "color": "#2a3f5f"
            },
            "error_y": {
             "color": "#2a3f5f"
            },
            "marker": {
             "line": {
              "color": "#E5ECF6",
              "width": 0.5
             },
             "pattern": {
              "fillmode": "overlay",
              "size": 10,
              "solidity": 0.2
             }
            },
            "type": "bar"
           }
          ],
          "barpolar": [
           {
            "marker": {
             "line": {
              "color": "#E5ECF6",
              "width": 0.5
             },
             "pattern": {
              "fillmode": "overlay",
              "size": 10,
              "solidity": 0.2
             }
            },
            "type": "barpolar"
           }
          ],
          "carpet": [
           {
            "aaxis": {
             "endlinecolor": "#2a3f5f",
             "gridcolor": "white",
             "linecolor": "white",
             "minorgridcolor": "white",
             "startlinecolor": "#2a3f5f"
            },
            "baxis": {
             "endlinecolor": "#2a3f5f",
             "gridcolor": "white",
             "linecolor": "white",
             "minorgridcolor": "white",
             "startlinecolor": "#2a3f5f"
            },
            "type": "carpet"
           }
          ],
          "choropleth": [
           {
            "colorbar": {
             "outlinewidth": 0,
             "ticks": ""
            },
            "type": "choropleth"
           }
          ],
          "contour": [
           {
            "colorbar": {
             "outlinewidth": 0,
             "ticks": ""
            },
            "colorscale": [
             [
              0,
              "#0d0887"
             ],
             [
              0.1111111111111111,
              "#46039f"
             ],
             [
              0.2222222222222222,
              "#7201a8"
             ],
             [
              0.3333333333333333,
              "#9c179e"
             ],
             [
              0.4444444444444444,
              "#bd3786"
             ],
             [
              0.5555555555555556,
              "#d8576b"
             ],
             [
              0.6666666666666666,
              "#ed7953"
             ],
             [
              0.7777777777777778,
              "#fb9f3a"
             ],
             [
              0.8888888888888888,
              "#fdca26"
             ],
             [
              1,
              "#f0f921"
             ]
            ],
            "type": "contour"
           }
          ],
          "contourcarpet": [
           {
            "colorbar": {
             "outlinewidth": 0,
             "ticks": ""
            },
            "type": "contourcarpet"
           }
          ],
          "heatmap": [
           {
            "colorbar": {
             "outlinewidth": 0,
             "ticks": ""
            },
            "colorscale": [
             [
              0,
              "#0d0887"
             ],
             [
              0.1111111111111111,
              "#46039f"
             ],
             [
              0.2222222222222222,
              "#7201a8"
             ],
             [
              0.3333333333333333,
              "#9c179e"
             ],
             [
              0.4444444444444444,
              "#bd3786"
             ],
             [
              0.5555555555555556,
              "#d8576b"
             ],
             [
              0.6666666666666666,
              "#ed7953"
             ],
             [
              0.7777777777777778,
              "#fb9f3a"
             ],
             [
              0.8888888888888888,
              "#fdca26"
             ],
             [
              1,
              "#f0f921"
             ]
            ],
            "type": "heatmap"
           }
          ],
          "heatmapgl": [
           {
            "colorbar": {
             "outlinewidth": 0,
             "ticks": ""
            },
            "colorscale": [
             [
              0,
              "#0d0887"
             ],
             [
              0.1111111111111111,
              "#46039f"
             ],
             [
              0.2222222222222222,
              "#7201a8"
             ],
             [
              0.3333333333333333,
              "#9c179e"
             ],
             [
              0.4444444444444444,
              "#bd3786"
             ],
             [
              0.5555555555555556,
              "#d8576b"
             ],
             [
              0.6666666666666666,
              "#ed7953"
             ],
             [
              0.7777777777777778,
              "#fb9f3a"
             ],
             [
              0.8888888888888888,
              "#fdca26"
             ],
             [
              1,
              "#f0f921"
             ]
            ],
            "type": "heatmapgl"
           }
          ],
          "histogram": [
           {
            "marker": {
             "pattern": {
              "fillmode": "overlay",
              "size": 10,
              "solidity": 0.2
             }
            },
            "type": "histogram"
           }
          ],
          "histogram2d": [
           {
            "colorbar": {
             "outlinewidth": 0,
             "ticks": ""
            },
            "colorscale": [
             [
              0,
              "#0d0887"
             ],
             [
              0.1111111111111111,
              "#46039f"
             ],
             [
              0.2222222222222222,
              "#7201a8"
             ],
             [
              0.3333333333333333,
              "#9c179e"
             ],
             [
              0.4444444444444444,
              "#bd3786"
             ],
             [
              0.5555555555555556,
              "#d8576b"
             ],
             [
              0.6666666666666666,
              "#ed7953"
             ],
             [
              0.7777777777777778,
              "#fb9f3a"
             ],
             [
              0.8888888888888888,
              "#fdca26"
             ],
             [
              1,
              "#f0f921"
             ]
            ],
            "type": "histogram2d"
           }
          ],
          "histogram2dcontour": [
           {
            "colorbar": {
             "outlinewidth": 0,
             "ticks": ""
            },
            "colorscale": [
             [
              0,
              "#0d0887"
             ],
             [
              0.1111111111111111,
              "#46039f"
             ],
             [
              0.2222222222222222,
              "#7201a8"
             ],
             [
              0.3333333333333333,
              "#9c179e"
             ],
             [
              0.4444444444444444,
              "#bd3786"
             ],
             [
              0.5555555555555556,
              "#d8576b"
             ],
             [
              0.6666666666666666,
              "#ed7953"
             ],
             [
              0.7777777777777778,
              "#fb9f3a"
             ],
             [
              0.8888888888888888,
              "#fdca26"
             ],
             [
              1,
              "#f0f921"
             ]
            ],
            "type": "histogram2dcontour"
           }
          ],
          "mesh3d": [
           {
            "colorbar": {
             "outlinewidth": 0,
             "ticks": ""
            },
            "type": "mesh3d"
           }
          ],
          "parcoords": [
           {
            "line": {
             "colorbar": {
              "outlinewidth": 0,
              "ticks": ""
             }
            },
            "type": "parcoords"
           }
          ],
          "pie": [
           {
            "automargin": true,
            "type": "pie"
           }
          ],
          "scatter": [
           {
            "marker": {
             "colorbar": {
              "outlinewidth": 0,
              "ticks": ""
             }
            },
            "type": "scatter"
           }
          ],
          "scatter3d": [
           {
            "line": {
             "colorbar": {
              "outlinewidth": 0,
              "ticks": ""
             }
            },
            "marker": {
             "colorbar": {
              "outlinewidth": 0,
              "ticks": ""
             }
            },
            "type": "scatter3d"
           }
          ],
          "scattercarpet": [
           {
            "marker": {
             "colorbar": {
              "outlinewidth": 0,
              "ticks": ""
             }
            },
            "type": "scattercarpet"
           }
          ],
          "scattergeo": [
           {
            "marker": {
             "colorbar": {
              "outlinewidth": 0,
              "ticks": ""
             }
            },
            "type": "scattergeo"
           }
          ],
          "scattergl": [
           {
            "marker": {
             "colorbar": {
              "outlinewidth": 0,
              "ticks": ""
             }
            },
            "type": "scattergl"
           }
          ],
          "scattermapbox": [
           {
            "marker": {
             "colorbar": {
              "outlinewidth": 0,
              "ticks": ""
             }
            },
            "type": "scattermapbox"
           }
          ],
          "scatterpolar": [
           {
            "marker": {
             "colorbar": {
              "outlinewidth": 0,
              "ticks": ""
             }
            },
            "type": "scatterpolar"
           }
          ],
          "scatterpolargl": [
           {
            "marker": {
             "colorbar": {
              "outlinewidth": 0,
              "ticks": ""
             }
            },
            "type": "scatterpolargl"
           }
          ],
          "scatterternary": [
           {
            "marker": {
             "colorbar": {
              "outlinewidth": 0,
              "ticks": ""
             }
            },
            "type": "scatterternary"
           }
          ],
          "surface": [
           {
            "colorbar": {
             "outlinewidth": 0,
             "ticks": ""
            },
            "colorscale": [
             [
              0,
              "#0d0887"
             ],
             [
              0.1111111111111111,
              "#46039f"
             ],
             [
              0.2222222222222222,
              "#7201a8"
             ],
             [
              0.3333333333333333,
              "#9c179e"
             ],
             [
              0.4444444444444444,
              "#bd3786"
             ],
             [
              0.5555555555555556,
              "#d8576b"
             ],
             [
              0.6666666666666666,
              "#ed7953"
             ],
             [
              0.7777777777777778,
              "#fb9f3a"
             ],
             [
              0.8888888888888888,
              "#fdca26"
             ],
             [
              1,
              "#f0f921"
             ]
            ],
            "type": "surface"
           }
          ],
          "table": [
           {
            "cells": {
             "fill": {
              "color": "#EBF0F8"
             },
             "line": {
              "color": "white"
             }
            },
            "header": {
             "fill": {
              "color": "#C8D4E3"
             },
             "line": {
              "color": "white"
             }
            },
            "type": "table"
           }
          ]
         },
         "layout": {
          "annotationdefaults": {
           "arrowcolor": "#2a3f5f",
           "arrowhead": 0,
           "arrowwidth": 1
          },
          "autotypenumbers": "strict",
          "coloraxis": {
           "colorbar": {
            "outlinewidth": 0,
            "ticks": ""
           }
          },
          "colorscale": {
           "diverging": [
            [
             0,
             "#8e0152"
            ],
            [
             0.1,
             "#c51b7d"
            ],
            [
             0.2,
             "#de77ae"
            ],
            [
             0.3,
             "#f1b6da"
            ],
            [
             0.4,
             "#fde0ef"
            ],
            [
             0.5,
             "#f7f7f7"
            ],
            [
             0.6,
             "#e6f5d0"
            ],
            [
             0.7,
             "#b8e186"
            ],
            [
             0.8,
             "#7fbc41"
            ],
            [
             0.9,
             "#4d9221"
            ],
            [
             1,
             "#276419"
            ]
           ],
           "sequential": [
            [
             0,
             "#0d0887"
            ],
            [
             0.1111111111111111,
             "#46039f"
            ],
            [
             0.2222222222222222,
             "#7201a8"
            ],
            [
             0.3333333333333333,
             "#9c179e"
            ],
            [
             0.4444444444444444,
             "#bd3786"
            ],
            [
             0.5555555555555556,
             "#d8576b"
            ],
            [
             0.6666666666666666,
             "#ed7953"
            ],
            [
             0.7777777777777778,
             "#fb9f3a"
            ],
            [
             0.8888888888888888,
             "#fdca26"
            ],
            [
             1,
             "#f0f921"
            ]
           ],
           "sequentialminus": [
            [
             0,
             "#0d0887"
            ],
            [
             0.1111111111111111,
             "#46039f"
            ],
            [
             0.2222222222222222,
             "#7201a8"
            ],
            [
             0.3333333333333333,
             "#9c179e"
            ],
            [
             0.4444444444444444,
             "#bd3786"
            ],
            [
             0.5555555555555556,
             "#d8576b"
            ],
            [
             0.6666666666666666,
             "#ed7953"
            ],
            [
             0.7777777777777778,
             "#fb9f3a"
            ],
            [
             0.8888888888888888,
             "#fdca26"
            ],
            [
             1,
             "#f0f921"
            ]
           ]
          },
          "colorway": [
           "#636efa",
           "#EF553B",
           "#00cc96",
           "#ab63fa",
           "#FFA15A",
           "#19d3f3",
           "#FF6692",
           "#B6E880",
           "#FF97FF",
           "#FECB52"
          ],
          "font": {
           "color": "#2a3f5f"
          },
          "geo": {
           "bgcolor": "white",
           "lakecolor": "white",
           "landcolor": "#E5ECF6",
           "showlakes": true,
           "showland": true,
           "subunitcolor": "white"
          },
          "hoverlabel": {
           "align": "left"
          },
          "hovermode": "closest",
          "mapbox": {
           "style": "light"
          },
          "paper_bgcolor": "white",
          "plot_bgcolor": "#E5ECF6",
          "polar": {
           "angularaxis": {
            "gridcolor": "white",
            "linecolor": "white",
            "ticks": ""
           },
           "bgcolor": "#E5ECF6",
           "radialaxis": {
            "gridcolor": "white",
            "linecolor": "white",
            "ticks": ""
           }
          },
          "scene": {
           "xaxis": {
            "backgroundcolor": "#E5ECF6",
            "gridcolor": "white",
            "gridwidth": 2,
            "linecolor": "white",
            "showbackground": true,
            "ticks": "",
            "zerolinecolor": "white"
           },
           "yaxis": {
            "backgroundcolor": "#E5ECF6",
            "gridcolor": "white",
            "gridwidth": 2,
            "linecolor": "white",
            "showbackground": true,
            "ticks": "",
            "zerolinecolor": "white"
           },
           "zaxis": {
            "backgroundcolor": "#E5ECF6",
            "gridcolor": "white",
            "gridwidth": 2,
            "linecolor": "white",
            "showbackground": true,
            "ticks": "",
            "zerolinecolor": "white"
           }
          },
          "shapedefaults": {
           "line": {
            "color": "#2a3f5f"
           }
          },
          "ternary": {
           "aaxis": {
            "gridcolor": "white",
            "linecolor": "white",
            "ticks": ""
           },
           "baxis": {
            "gridcolor": "white",
            "linecolor": "white",
            "ticks": ""
           },
           "bgcolor": "#E5ECF6",
           "caxis": {
            "gridcolor": "white",
            "linecolor": "white",
            "ticks": ""
           }
          },
          "title": {
           "x": 0.05
          },
          "xaxis": {
           "automargin": true,
           "gridcolor": "white",
           "linecolor": "white",
           "ticks": "",
           "title": {
            "standoff": 15
           },
           "zerolinecolor": "white",
           "zerolinewidth": 2
          },
          "yaxis": {
           "automargin": true,
           "gridcolor": "white",
           "linecolor": "white",
           "ticks": "",
           "title": {
            "standoff": 15
           },
           "zerolinecolor": "white",
           "zerolinewidth": 2
          }
         }
        },
        "title": {
         "text": "Top 10 crops with most Potassium"
        },
        "uniformtext": {
         "minsize": 8
        }
       }
      },
      "text/html": [
       "<div>                            <div id=\"390c3af3-2844-4933-82f9-7cc3b1714b5f\" class=\"plotly-graph-div\" style=\"height:525px; width:100%;\"></div>            <script type=\"text/javascript\">                require([\"plotly\"], function(Plotly) {                    window.PLOTLYENV=window.PLOTLYENV || {};                                    if (document.getElementById(\"390c3af3-2844-4933-82f9-7cc3b1714b5f\")) {                    Plotly.newPlot(                        \"390c3af3-2844-4933-82f9-7cc3b1714b5f\",                        [{\"branchvalues\":\"total\",\"customdata\":[[39.87],[39.99],[40.21],[50.04],[50.05],[50.08],[50.21999999999999],[79.92],[199.89],[200.11],[199.89],[50.05],[79.92],[200.11],[39.99],[50.08],[50.04],[40.21],[39.87],[50.21999999999999]],\"domain\":{\"x\":[0.0,1.0],\"y\":[0.0,1.0]},\"hovertemplate\":\"labels=%{label}<br>K_sum=%{value}<br>parent=%{parent}<br>id=%{id}<br>K=%{color}<extra></extra>\",\"ids\":[\"rice/39.87\",\"jute/39.99\",\"pomegranate/40.21\",\"papaya/50.04\",\"banana/50.05\",\"muskmelon/50.08\",\"watermelon/50.22\",\"chickpea/79.92\",\"apple/199.89\",\"grapes/200.11\",\"apple\",\"banana\",\"chickpea\",\"grapes\",\"jute\",\"muskmelon\",\"papaya\",\"pomegranate\",\"rice\",\"watermelon\"],\"labels\":[\"39.87\",\"39.99\",\"40.21\",\"50.04\",\"50.05\",\"50.08\",\"50.22\",\"79.92\",\"199.89\",\"200.11\",\"apple\",\"banana\",\"chickpea\",\"grapes\",\"jute\",\"muskmelon\",\"papaya\",\"pomegranate\",\"rice\",\"watermelon\"],\"marker\":{\"coloraxis\":\"coloraxis\",\"colors\":[39.87,39.99,40.21,50.04,50.05,50.08,50.21999999999999,79.92,199.89,200.11,199.89,50.05,79.92,200.11,39.99,50.08,50.04,40.21,39.87,50.21999999999999]},\"name\":\"\",\"parents\":[\"rice\",\"jute\",\"pomegranate\",\"papaya\",\"banana\",\"muskmelon\",\"watermelon\",\"chickpea\",\"apple\",\"grapes\",\"\",\"\",\"\",\"\",\"\",\"\",\"\",\"\",\"\",\"\"],\"values\":[39.87,39.99,40.21,50.04,50.05,50.08,50.22,79.92,199.89,200.11,199.89,50.05,79.92,200.11,39.99,50.08,50.04,40.21,39.87,50.22],\"type\":\"sunburst\"}],                        {\"template\":{\"data\":{\"bar\":[{\"error_x\":{\"color\":\"#2a3f5f\"},\"error_y\":{\"color\":\"#2a3f5f\"},\"marker\":{\"line\":{\"color\":\"#E5ECF6\",\"width\":0.5},\"pattern\":{\"fillmode\":\"overlay\",\"size\":10,\"solidity\":0.2}},\"type\":\"bar\"}],\"barpolar\":[{\"marker\":{\"line\":{\"color\":\"#E5ECF6\",\"width\":0.5},\"pattern\":{\"fillmode\":\"overlay\",\"size\":10,\"solidity\":0.2}},\"type\":\"barpolar\"}],\"carpet\":[{\"aaxis\":{\"endlinecolor\":\"#2a3f5f\",\"gridcolor\":\"white\",\"linecolor\":\"white\",\"minorgridcolor\":\"white\",\"startlinecolor\":\"#2a3f5f\"},\"baxis\":{\"endlinecolor\":\"#2a3f5f\",\"gridcolor\":\"white\",\"linecolor\":\"white\",\"minorgridcolor\":\"white\",\"startlinecolor\":\"#2a3f5f\"},\"type\":\"carpet\"}],\"choropleth\":[{\"colorbar\":{\"outlinewidth\":0,\"ticks\":\"\"},\"type\":\"choropleth\"}],\"contour\":[{\"colorbar\":{\"outlinewidth\":0,\"ticks\":\"\"},\"colorscale\":[[0.0,\"#0d0887\"],[0.1111111111111111,\"#46039f\"],[0.2222222222222222,\"#7201a8\"],[0.3333333333333333,\"#9c179e\"],[0.4444444444444444,\"#bd3786\"],[0.5555555555555556,\"#d8576b\"],[0.6666666666666666,\"#ed7953\"],[0.7777777777777778,\"#fb9f3a\"],[0.8888888888888888,\"#fdca26\"],[1.0,\"#f0f921\"]],\"type\":\"contour\"}],\"contourcarpet\":[{\"colorbar\":{\"outlinewidth\":0,\"ticks\":\"\"},\"type\":\"contourcarpet\"}],\"heatmap\":[{\"colorbar\":{\"outlinewidth\":0,\"ticks\":\"\"},\"colorscale\":[[0.0,\"#0d0887\"],[0.1111111111111111,\"#46039f\"],[0.2222222222222222,\"#7201a8\"],[0.3333333333333333,\"#9c179e\"],[0.4444444444444444,\"#bd3786\"],[0.5555555555555556,\"#d8576b\"],[0.6666666666666666,\"#ed7953\"],[0.7777777777777778,\"#fb9f3a\"],[0.8888888888888888,\"#fdca26\"],[1.0,\"#f0f921\"]],\"type\":\"heatmap\"}],\"heatmapgl\":[{\"colorbar\":{\"outlinewidth\":0,\"ticks\":\"\"},\"colorscale\":[[0.0,\"#0d0887\"],[0.1111111111111111,\"#46039f\"],[0.2222222222222222,\"#7201a8\"],[0.3333333333333333,\"#9c179e\"],[0.4444444444444444,\"#bd3786\"],[0.5555555555555556,\"#d8576b\"],[0.6666666666666666,\"#ed7953\"],[0.7777777777777778,\"#fb9f3a\"],[0.8888888888888888,\"#fdca26\"],[1.0,\"#f0f921\"]],\"type\":\"heatmapgl\"}],\"histogram\":[{\"marker\":{\"pattern\":{\"fillmode\":\"overlay\",\"size\":10,\"solidity\":0.2}},\"type\":\"histogram\"}],\"histogram2d\":[{\"colorbar\":{\"outlinewidth\":0,\"ticks\":\"\"},\"colorscale\":[[0.0,\"#0d0887\"],[0.1111111111111111,\"#46039f\"],[0.2222222222222222,\"#7201a8\"],[0.3333333333333333,\"#9c179e\"],[0.4444444444444444,\"#bd3786\"],[0.5555555555555556,\"#d8576b\"],[0.6666666666666666,\"#ed7953\"],[0.7777777777777778,\"#fb9f3a\"],[0.8888888888888888,\"#fdca26\"],[1.0,\"#f0f921\"]],\"type\":\"histogram2d\"}],\"histogram2dcontour\":[{\"colorbar\":{\"outlinewidth\":0,\"ticks\":\"\"},\"colorscale\":[[0.0,\"#0d0887\"],[0.1111111111111111,\"#46039f\"],[0.2222222222222222,\"#7201a8\"],[0.3333333333333333,\"#9c179e\"],[0.4444444444444444,\"#bd3786\"],[0.5555555555555556,\"#d8576b\"],[0.6666666666666666,\"#ed7953\"],[0.7777777777777778,\"#fb9f3a\"],[0.8888888888888888,\"#fdca26\"],[1.0,\"#f0f921\"]],\"type\":\"histogram2dcontour\"}],\"mesh3d\":[{\"colorbar\":{\"outlinewidth\":0,\"ticks\":\"\"},\"type\":\"mesh3d\"}],\"parcoords\":[{\"line\":{\"colorbar\":{\"outlinewidth\":0,\"ticks\":\"\"}},\"type\":\"parcoords\"}],\"pie\":[{\"automargin\":true,\"type\":\"pie\"}],\"scatter\":[{\"marker\":{\"colorbar\":{\"outlinewidth\":0,\"ticks\":\"\"}},\"type\":\"scatter\"}],\"scatter3d\":[{\"line\":{\"colorbar\":{\"outlinewidth\":0,\"ticks\":\"\"}},\"marker\":{\"colorbar\":{\"outlinewidth\":0,\"ticks\":\"\"}},\"type\":\"scatter3d\"}],\"scattercarpet\":[{\"marker\":{\"colorbar\":{\"outlinewidth\":0,\"ticks\":\"\"}},\"type\":\"scattercarpet\"}],\"scattergeo\":[{\"marker\":{\"colorbar\":{\"outlinewidth\":0,\"ticks\":\"\"}},\"type\":\"scattergeo\"}],\"scattergl\":[{\"marker\":{\"colorbar\":{\"outlinewidth\":0,\"ticks\":\"\"}},\"type\":\"scattergl\"}],\"scattermapbox\":[{\"marker\":{\"colorbar\":{\"outlinewidth\":0,\"ticks\":\"\"}},\"type\":\"scattermapbox\"}],\"scatterpolar\":[{\"marker\":{\"colorbar\":{\"outlinewidth\":0,\"ticks\":\"\"}},\"type\":\"scatterpolar\"}],\"scatterpolargl\":[{\"marker\":{\"colorbar\":{\"outlinewidth\":0,\"ticks\":\"\"}},\"type\":\"scatterpolargl\"}],\"scatterternary\":[{\"marker\":{\"colorbar\":{\"outlinewidth\":0,\"ticks\":\"\"}},\"type\":\"scatterternary\"}],\"surface\":[{\"colorbar\":{\"outlinewidth\":0,\"ticks\":\"\"},\"colorscale\":[[0.0,\"#0d0887\"],[0.1111111111111111,\"#46039f\"],[0.2222222222222222,\"#7201a8\"],[0.3333333333333333,\"#9c179e\"],[0.4444444444444444,\"#bd3786\"],[0.5555555555555556,\"#d8576b\"],[0.6666666666666666,\"#ed7953\"],[0.7777777777777778,\"#fb9f3a\"],[0.8888888888888888,\"#fdca26\"],[1.0,\"#f0f921\"]],\"type\":\"surface\"}],\"table\":[{\"cells\":{\"fill\":{\"color\":\"#EBF0F8\"},\"line\":{\"color\":\"white\"}},\"header\":{\"fill\":{\"color\":\"#C8D4E3\"},\"line\":{\"color\":\"white\"}},\"type\":\"table\"}]},\"layout\":{\"annotationdefaults\":{\"arrowcolor\":\"#2a3f5f\",\"arrowhead\":0,\"arrowwidth\":1},\"autotypenumbers\":\"strict\",\"coloraxis\":{\"colorbar\":{\"outlinewidth\":0,\"ticks\":\"\"}},\"colorscale\":{\"diverging\":[[0,\"#8e0152\"],[0.1,\"#c51b7d\"],[0.2,\"#de77ae\"],[0.3,\"#f1b6da\"],[0.4,\"#fde0ef\"],[0.5,\"#f7f7f7\"],[0.6,\"#e6f5d0\"],[0.7,\"#b8e186\"],[0.8,\"#7fbc41\"],[0.9,\"#4d9221\"],[1,\"#276419\"]],\"sequential\":[[0.0,\"#0d0887\"],[0.1111111111111111,\"#46039f\"],[0.2222222222222222,\"#7201a8\"],[0.3333333333333333,\"#9c179e\"],[0.4444444444444444,\"#bd3786\"],[0.5555555555555556,\"#d8576b\"],[0.6666666666666666,\"#ed7953\"],[0.7777777777777778,\"#fb9f3a\"],[0.8888888888888888,\"#fdca26\"],[1.0,\"#f0f921\"]],\"sequentialminus\":[[0.0,\"#0d0887\"],[0.1111111111111111,\"#46039f\"],[0.2222222222222222,\"#7201a8\"],[0.3333333333333333,\"#9c179e\"],[0.4444444444444444,\"#bd3786\"],[0.5555555555555556,\"#d8576b\"],[0.6666666666666666,\"#ed7953\"],[0.7777777777777778,\"#fb9f3a\"],[0.8888888888888888,\"#fdca26\"],[1.0,\"#f0f921\"]]},\"colorway\":[\"#636efa\",\"#EF553B\",\"#00cc96\",\"#ab63fa\",\"#FFA15A\",\"#19d3f3\",\"#FF6692\",\"#B6E880\",\"#FF97FF\",\"#FECB52\"],\"font\":{\"color\":\"#2a3f5f\"},\"geo\":{\"bgcolor\":\"white\",\"lakecolor\":\"white\",\"landcolor\":\"#E5ECF6\",\"showlakes\":true,\"showland\":true,\"subunitcolor\":\"white\"},\"hoverlabel\":{\"align\":\"left\"},\"hovermode\":\"closest\",\"mapbox\":{\"style\":\"light\"},\"paper_bgcolor\":\"white\",\"plot_bgcolor\":\"#E5ECF6\",\"polar\":{\"angularaxis\":{\"gridcolor\":\"white\",\"linecolor\":\"white\",\"ticks\":\"\"},\"bgcolor\":\"#E5ECF6\",\"radialaxis\":{\"gridcolor\":\"white\",\"linecolor\":\"white\",\"ticks\":\"\"}},\"scene\":{\"xaxis\":{\"backgroundcolor\":\"#E5ECF6\",\"gridcolor\":\"white\",\"gridwidth\":2,\"linecolor\":\"white\",\"showbackground\":true,\"ticks\":\"\",\"zerolinecolor\":\"white\"},\"yaxis\":{\"backgroundcolor\":\"#E5ECF6\",\"gridcolor\":\"white\",\"gridwidth\":2,\"linecolor\":\"white\",\"showbackground\":true,\"ticks\":\"\",\"zerolinecolor\":\"white\"},\"zaxis\":{\"backgroundcolor\":\"#E5ECF6\",\"gridcolor\":\"white\",\"gridwidth\":2,\"linecolor\":\"white\",\"showbackground\":true,\"ticks\":\"\",\"zerolinecolor\":\"white\"}},\"shapedefaults\":{\"line\":{\"color\":\"#2a3f5f\"}},\"ternary\":{\"aaxis\":{\"gridcolor\":\"white\",\"linecolor\":\"white\",\"ticks\":\"\"},\"baxis\":{\"gridcolor\":\"white\",\"linecolor\":\"white\",\"ticks\":\"\"},\"bgcolor\":\"#E5ECF6\",\"caxis\":{\"gridcolor\":\"white\",\"linecolor\":\"white\",\"ticks\":\"\"}},\"title\":{\"x\":0.05},\"xaxis\":{\"automargin\":true,\"gridcolor\":\"white\",\"linecolor\":\"white\",\"ticks\":\"\",\"title\":{\"standoff\":15},\"zerolinecolor\":\"white\",\"zerolinewidth\":2},\"yaxis\":{\"automargin\":true,\"gridcolor\":\"white\",\"linecolor\":\"white\",\"ticks\":\"\",\"title\":{\"standoff\":15},\"zerolinecolor\":\"white\",\"zerolinewidth\":2}}},\"coloraxis\":{\"colorbar\":{\"title\":{\"text\":\"K\"}},\"colorscale\":[[0.0,\"rgb(255,245,235)\"],[0.125,\"rgb(254,230,206)\"],[0.25,\"rgb(253,208,162)\"],[0.375,\"rgb(253,174,107)\"],[0.5,\"rgb(253,141,60)\"],[0.625,\"rgb(241,105,19)\"],[0.75,\"rgb(217,72,1)\"],[0.875,\"rgb(166,54,3)\"],[1.0,\"rgb(127,39,4)\"]]},\"legend\":{\"tracegroupgap\":0},\"margin\":{\"t\":60},\"title\":{\"text\":\"Top 10 crops with most Potassium\"},\"uniformtext\":{\"minsize\":8}},                        {\"responsive\": true}                    ).then(function(){\n",
       "                            \n",
       "var gd = document.getElementById('390c3af3-2844-4933-82f9-7cc3b1714b5f');\n",
       "var x = new MutationObserver(function (mutations, observer) {{\n",
       "        var display = window.getComputedStyle(gd).display;\n",
       "        if (!display || display === 'none') {{\n",
       "            console.log([gd, 'removed!']);\n",
       "            Plotly.purge(gd);\n",
       "            observer.disconnect();\n",
       "        }}\n",
       "}});\n",
       "\n",
       "// Listen for the removal of the full notebook cells\n",
       "var notebookContainer = gd.closest('#notebook-container');\n",
       "if (notebookContainer) {{\n",
       "    x.observe(notebookContainer, {childList: true});\n",
       "}}\n",
       "\n",
       "// Listen for the clearing of the current output cell\n",
       "var outputEl = gd.closest('.output');\n",
       "if (outputEl) {{\n",
       "    x.observe(outputEl, {childList: true});\n",
       "}}\n",
       "\n",
       "                        })                };                });            </script>        </div>"
      ]
     },
     "metadata": {},
     "output_type": "display_data"
    }
   ],
   "source": [
    "crops_with_most_Potassium=df1.sort_values(by='K',ascending=False)\n",
    "crops_with_most_Potassium_sort=crops_with_most_Potassium[:10]\n",
    "fig = px.sunburst(\n",
    "    crops_with_most_Potassium_sort,\n",
    "    path=['label','K'],\n",
    "    values='K',\n",
    "    color='K',\n",
    "    color_continuous_scale='oranges'\n",
    ")\n",
    "fig.update_layout(\n",
    "    title_text='Top 10 crops with most Potassium',\n",
    "    uniformtext=dict(minsize=8))\n",
    "fig.show()"
   ]
  },
  {
   "cell_type": "code",
   "execution_count": 31,
   "id": "84d9ef9d",
   "metadata": {},
   "outputs": [
    {
     "data": {
      "application/vnd.plotly.v1+json": {
       "config": {
        "plotlyServerURL": "https://plot.ly"
       },
       "data": [
        {
         "hovertemplate": "label=rice<br>temperature=%{x}<br>humidity=%{y}<extra></extra>",
         "legendgroup": "rice",
         "marker": {
          "color": "#636efa",
          "symbol": "circle"
         },
         "mode": "markers",
         "name": "rice",
         "showlegend": true,
         "type": "scattergl",
         "x": [
          20.87974371,
          21.77046169,
          23.00445915,
          26.49109635,
          20.13017482,
          23.05804872,
          22.70883798,
          20.27774362,
          24.51588066,
          23.22397386,
          26.52723513,
          23.97898217,
          26.80079604,
          24.01497622,
          25.66585205,
          24.28209415,
          21.58711777,
          23.79391957,
          21.8652524,
          23.57943626,
          21.32504158,
          25.15745531,
          21.94766735,
          21.0525355,
          23.48381344,
          25.0756354,
          26.35927159,
          24.52922681,
          20.77576147,
          22.30157427,
          21.44653958,
          22.17931888,
          24.52783742,
          20.26707606,
          25.7354293,
          26.79533926,
          26.75754171,
          23.86330467,
          21.01944696,
          24.17298839,
          22.78133816,
          25.62980105,
          25.59704938,
          23.83067496,
          26.31355498,
          24.8972823,
          24.958779,
          23.24113501,
          21.66628296,
          24.63544858,
          23.43121862,
          20.0454142,
          23.85724032,
          21.97199397,
          26.22916897,
          23.44676801,
          25.65553461,
          24.44345477,
          20.2801937,
          21.7238313,
          20.41447029,
          25.75528612,
          20.61521424,
          21.84106875,
          20.08369642,
          24.45802087,
          21.14347496,
          25.78720567,
          23.64124821,
          23.43191632,
          24.97669518,
          22.72791041,
          24.87300744,
          21.32376327,
          26.29465461,
          22.2286982,
          26.73072391,
          24.88921174,
          26.88444878,
          22.67846116,
          26.08867875,
          25.42977518,
          26.40323239,
          26.04371967,
          25.2827223,
          22.08576562,
          23.28617173,
          25.48591986,
          23.67575393,
          20.82477109,
          26.92995077,
          23.83509503,
          26.52872817,
          26.46428311,
          22.69657794,
          22.68319059,
          21.53346343,
          21.40865769,
          26.54348085,
          23.35905428
         ],
         "xaxis": "x",
         "y": [
          82.00274423,
          80.31964408,
          82.3207629,
          80.15836264,
          81.60487287,
          83.37011772,
          82.63941394,
          82.89408619,
          83.53521629999999,
          83.03322691,
          81.41753846,
          81.45061596,
          80.88684822,
          82.05687182,
          80.66385045,
          80.30025587,
          82.7883708,
          80.41817957,
          80.1923008,
          83.58760316,
          80.47476396,
          83.11713476,
          80.97384195,
          82.67839517,
          81.33265073,
          80.52389148,
          84.04403589,
          80.54498576,
          84.49774397,
          80.64416466,
          84.94375962,
          80.33127223,
          82.73685569,
          81.63895217,
          83.88266234,
          82.1480873,
          81.17734011,
          83.15250801,
          82.95221726,
          83.7287574,
          82.06719137,
          83.52842314,
          80.14509262,
          84.81360127,
          82.36698992,
          80.52586088,
          84.47963372,
          84.59201843,
          80.70960551,
          80.41363018,
          83.06310136,
          80.3477562,
          82.22572988,
          81.89918197,
          83.83625819,
          84.79352417,
          83.47021081,
          82.45432595,
          82.1235421,
          80.2389895,
          82.20802629,
          83.51827127,
          83.77345559,
          80.72886384,
          83.29114712,
          82.74835604,
          80.33502926,
          82.11124033,
          80.28597873,
          80.56887849,
          83.891805,
          82.17068809999998,
          82.84022551,
          83.00320459,
          84.56919326,
          81.85872947,
          81.78596776,
          81.97927117,
          81.46033732,
          83.72874389,
          80.37979919,
          82.94682591,
          81.05635517,
          84.96907151,
          80.54372813,
          83.47038318,
          81.43321641,
          81.40633547,
          81.03569343,
          84.1341879,
          81.91411159,
          83.88387074,
          80.12267476,
          83.85642678,
          82.81088865,
          83.46358271,
          82.14004101,
          83.32931909999998,
          84.67353597,
          83.59512273
         ],
         "yaxis": "y"
        },
        {
         "hovertemplate": "label=maize<br>temperature=%{x}<br>humidity=%{y}<extra></extra>",
         "legendgroup": "maize",
         "marker": {
          "color": "#EF553B",
          "symbol": "diamond"
         },
         "mode": "markers",
         "name": "maize",
         "showlegend": true,
         "type": "scattergl",
         "x": [
          22.61359953,
          26.10018422,
          23.55882094,
          19.97215954,
          18.47891261,
          21.77689322,
          25.6217169,
          25.19192419,
          20.41683147,
          24.92162194,
          23.31689124,
          24.84016732,
          22.27526694,
          18.87751445,
          25.19008683,
          18.25405352,
          24.612911800000006,
          25.1420613,
          23.09348056,
          18.05033737,
          24.9321581,
          18.14710054,
          18.28362235,
          18.83344471,
          25.71895816,
          25.33797709,
          23.89114571,
          21.53574127,
          23.08974909,
          25.61707368,
          21.44526922,
          18.51816776,
          22.53510514,
          23.02038334,
          24.89364635,
          25.77175115,
          19.39851734,
          21.54156232,
          23.79746068,
          18.9802729,
          24.10859207,
          24.7947077,
          21.63162756,
          25.37548751,
          22.21738222,
          20.58314011,
          24.87502824,
          20.03728219,
          25.95263264,
          19.28889933,
          20.57981887,
          24.71417533,
          20.27317074,
          18.41932981,
          23.39128187,
          19.84939404,
          21.869274,
          22.8056033,
          19.0781471,
          22.02720976,
          23.80546189,
          18.52510753,
          23.50297882,
          26.54986394,
          19.29563411,
          20.68899915,
          19.32666088,
          24.60532218,
          22.27373646,
          25.70196694,
          19.20129357,
          21.70181447,
          20.51716779,
          23.30355338,
          24.2547451,
          24.86374934,
          22.6265115,
          18.04185513,
          23.26237612,
          22.88330922,
          25.97482359,
          26.14384005,
          18.66116213,
          25.10787449,
          23.33844615,
          25.08239719,
          25.36768364,
          25.34217103,
          25.00933355,
          18.66746724,
          20.37999665,
          18.09300227,
          26.16985907,
          18.65396672,
          26.07470121,
          18.92851916,
          23.30546753,
          18.74826712,
          19.74213321,
          25.73044432
         ],
         "xaxis": "x",
         "y": [
          63.69070564,
          71.57476937,
          71.59351368,
          57.68272924,
          62.69503871,
          57.80840636,
          66.50415474,
          66.69029010000001,
          62.55424820000001,
          66.78627406,
          73.4541537,
          68.3584573,
          58.84015925,
          65.76816093,
          60.200168700000006,
          55.28220433,
          70.4162444,
          65.26185135,
          60.11593810000001,
          62.89366992,
          73.80435276,
          71.09445342,
          66.65952796,
          58.75082029,
          67.22190688,
          68.49835977,
          57.48775781,
          71.50905983,
          63.10459626,
          63.4711755,
          63.1621551,
          55.53128131,
          67.99257471,
          61.89472002,
          65.61418761,
          74.089114,
          62.35750641,
          59.64024162,
          74.82913698,
          74.52600826,
          73.13112261,
          70.04556743,
          60.27766379,
          57.21025565,
          72.85462807,
          69.00128641,
          68.74248334,
          56.35606753,
          61.89082199,
          65.47050802,
          65.34583901,
          56.73426469,
          63.91281869,
          64.23580251,
          61.74427165,
          61.24500053,
          61.91044947,
          56.50768935,
          69.02298571,
          65.35549924,
          59.24537979,
          69.0276233,
          61.32026065,
          72.89187265,
          69.63481219,
          59.4375337,
          68.03449300000001,
          73.58868502,
          59.52193158,
          61.33450447,
          68.30578978,
          60.47470519,
          59.21235483,
          73.62548442,
          55.64709899,
          65.7420046,
          65.77472881,
          60.61494304,
          72.33125523,
          71.59722446,
          69.36385721,
          66.20569924,
          61.55327249,
          55.97732754,
          59.24580604,
          65.92195844,
          72.52054555,
          63.31801994,
          67.816568,
          71.516474,
          63.73849998,
          72.61024172,
          71.96246617,
          61.37879671,
          59.37147589,
          72.80086137,
          63.24648023,
          62.49878458,
          59.66263104,
          70.74739256
         ],
         "yaxis": "y"
        },
        {
         "hovertemplate": "label=chickpea<br>temperature=%{x}<br>humidity=%{y}<extra></extra>",
         "legendgroup": "chickpea",
         "marker": {
          "color": "#00cc96",
          "symbol": "square"
         },
         "mode": "markers",
         "name": "chickpea",
         "showlegend": true,
         "type": "scattergl",
         "x": [
          17.02498456,
          19.02061277,
          17.88776475,
          18.86805647,
          18.36952567,
          20.45078582,
          20.6543203,
          17.3348681,
          18.17912258,
          18.01272266,
          20.99373558,
          19.46233971,
          19.81344531,
          18.97424756,
          18.19737048,
          18.72963144,
          20.99502153,
          20.28155898,
          17.48042641,
          20.88818675,
          17.08498521,
          20.09340593,
          17.57212145,
          19.12065218,
          18.57665902,
          17.16606398,
          18.2872007,
          19.03025305,
          17.141861399999996,
          17.47809436,
          20.56601874,
          17.22385224,
          19.69141713,
          17.84851658,
          18.8202251,
          17.47500984,
          18.72649425,
          18.65580107,
          18.2356751,
          18.81198127,
          18.65054116,
          20.36720401,
          18.38120357,
          17.17012591,
          19.37101121,
          17.92845928,
          19.45339934,
          19.12829388,
          19.1034283,
          17.48504075,
          19.40751744,
          20.18649426,
          17.30287885,
          17.50361137,
          18.17234999,
          17.57445618,
          20.93175255,
          19.71098332,
          19.07937684,
          18.54988627,
          18.19903647,
          18.88852533,
          18.49311205,
          19.48974337,
          17.25769499,
          19.62416326,
          20.67526473,
          20.02381489,
          20.118744600000007,
          20.65691793,
          19.2582557,
          17.927806,
          19.16288268,
          20.26942271,
          17.09104223,
          17.06579293,
          20.62767492,
          20.8248451,
          19.46210401,
          17.18248372,
          17.48911699,
          17.48395377,
          19.48316794,
          19.71359733,
          19.48649305,
          19.95264829,
          19.41789736,
          19.45591848,
          20.19137759,
          18.8392908,
          20.71219282,
          18.99424448,
          19.96837462,
          17.81564548,
          20.71424384,
          17.34150229,
          17.43732714,
          18.89780215,
          18.59190771,
          18.31561493
         ],
         "xaxis": "x",
         "y": [
          16.98861173,
          17.13159126,
          15.40589717,
          15.65809214,
          19.56381041,
          15.40312102,
          16.60820843,
          18.74926979,
          18.90426935,
          18.30968112,
          19.33470387,
          15.22538951,
          14.69765308,
          19.5161216,
          14.71070537,
          19.18197264,
          19.8601304,
          16.39535215,
          15.7559405,
          14.32313811,
          16.14565756,
          15.11279612,
          14.99927489,
          18.43475844,
          19.22008229,
          14.42457525,
          16.67921616,
          18.66725565,
          17.0662427,
          17.93253975,
          14.25803981,
          15.82069268,
          19.44225438,
          19.09172907,
          16.1074793,
          16.54314829,
          17.58406365,
          16.17772668,
          19.68538502,
          15.21618225,
          17.80852431,
          16.89574311,
          16.63805158,
          17.30457712,
          15.77458129,
          14.27327988,
          18.23490739,
          14.92241479,
          17.26184541,
          16.96070581,
          18.98030507,
          19.63719995,
          15.15405941,
          15.48083156,
          14.70085967,
          16.71826572,
          18.91295403,
          17.63879418,
          17.86754927,
          16.02542689,
          17.41333199,
          14.99451145,
          14.72115044,
          17.17260319,
          18.74943955,
          18.71483156,
          19.85388984,
          16.63294455,
          14.44228303,
          15.84572566,
          14.2804191,
          15.85622899,
          15.83500655,
          19.96978871,
          18.25142068,
          17.54024066,
          14.44008871,
          17.85057083,
          18.72831993,
          16.42891834,
          16.39055394,
          14.76014523,
          17.44534641,
          18.09665739,
          16.06240074,
          14.82633099,
          16.80472243,
          18.02235902,
          16.41998269,
          14.74071856,
          19.83643308,
          15.9362937,
          15.57324389,
          17.60756635,
          15.27824066,
          18.75626255,
          14.33847406,
          19.76182946,
          14.77959596,
          15.36143547
         ],
         "yaxis": "y"
        },
        {
         "hovertemplate": "label=kidneybeans<br>temperature=%{x}<br>humidity=%{y}<extra></extra>",
         "legendgroup": "kidneybeans",
         "marker": {
          "color": "#ab63fa",
          "symbol": "x"
         },
         "mode": "markers",
         "name": "kidneybeans",
         "showlegend": true,
         "type": "scattergl",
         "x": [
          17.13692774,
          19.63474332,
          22.91350245,
          16.43340342,
          22.13974653,
          17.84806561,
          19.88394011,
          19.32509638,
          18.416700100000003,
          21.81167649,
          19.72702528,
          17.15432954,
          19.62207826,
          21.63149148,
          16.06522754,
          20.61162204,
          21.42451099,
          19.07096165,
          21.18853178,
          23.0429097,
          20.65375833,
          18.09551014,
          18.23775702,
          17.48189735,
          19.9191786,
          20.27514686,
          15.77370214,
          16.71170642,
          17.66148158,
          18.50692825,
          24.51324787,
          18.87614998,
          21.59343016,
          20.12373284,
          15.43546065,
          22.64236876,
          21.98560799,
          20.53052663,
          15.78601387,
          19.6365349,
          20.57341244,
          20.16080524,
          21.53989176,
          15.53834801,
          19.91853092,
          20.76952209,
          23.46168338,
          24.32116642,
          20.12574053,
          21.80619564,
          19.52226241,
          17.00067625,
          16.78791503,
          24.84906168,
          16.51783455,
          18.15300153,
          23.18864385,
          23.38002569,
          18.358923,
          19.25975367,
          22.95458237,
          20.120043,
          21.14011423,
          24.92360104,
          15.33042636,
          18.81097271,
          23.44260668,
          22.8352024,
          24.9035819,
          23.78709569,
          22.05592283,
          18.87492997,
          18.62328774,
          23.00884744,
          19.33162606,
          16.24469193,
          17.91652287,
          15.46789263,
          17.06104474,
          21.32776028,
          23.90910104,
          23.89756791,
          22.98666928,
          21.35135729,
          24.1638445,
          24.62835037,
          21.02213209,
          17.30844532,
          23.82576704,
          19.30607278,
          16.03768615,
          19.18572809,
          19.92889503,
          19.56376468,
          18.31357543,
          20.10993761,
          23.60506572,
          19.73136909,
          20.93409877,
          18.78226261
         ],
         "xaxis": "x",
         "y": [
          20.59541693,
          18.90705639,
          21.33953114,
          24.24045875,
          23.02251117,
          18.77621951,
          20.31564139,
          23.3334788,
          23.42829938,
          23.20591245,
          18.28173015,
          19.87070659,
          18.67170854,
          21.17919701,
          18.72479695,
          24.36314135,
          20.39659714,
          21.21092266,
          19.63438599,
          22.42610972,
          23.10538637,
          18.29318436,
          21.07643273,
          18.8251973,
          21.47324158,
          23.2353604,
          19.2303162,
          19.17651433,
          18.15302753,
          23.61670065,
          20.81527638,
          24.54038287,
          20.31871249,
          24.45202552,
          18.37477907,
          21.59396123,
          24.87304788,
          18.09224048,
          21.14544088,
          19.68751084,
          19.7520218,
          24.84207559,
          24.25386207,
          23.75560241,
          20.70099804,
          18.93146941,
          23.22197648,
          21.0278674,
          24.96969858,
          18.57086554,
          24.92607153,
          19.90790546,
          24.96881755,
          22.89464642,
          20.4555596,
          19.38602098,
          22.3104551,
          21.98879437,
          19.37703396,
          20.51346956,
          24.03553105,
          22.89845607,
          22.7182355,
          18.22590825,
          24.91506728,
          21.27833035,
          22.77255917,
          18.97267518,
          22.27512704,
          24.35679348,
          19.60379304,
          20.18238348,
          23.02410338,
          18.86880997,
          24.13995025,
          21.35793891,
          24.90814655,
          21.43780702,
          23.77201471,
          18.48522915,
          20.74619325,
          22.74378977,
          20.57940608,
          22.91244883,
          19.27907819,
          18.18325169,
          24.93896255,
          20.01730914,
          24.75485098,
          23.96362799,
          22.33195853,
          20.83398341,
          21.79992115,
          24.67385131,
          24.32991649,
          23.22323766,
          21.90539577,
          24.89487354,
          21.1893007,
          20.24768314
         ],
         "yaxis": "y"
        },
        {
         "hovertemplate": "label=pigeonpeas<br>temperature=%{x}<br>humidity=%{y}<extra></extra>",
         "legendgroup": "pigeonpeas",
         "marker": {
          "color": "#FFA15A",
          "symbol": "cross"
         },
         "mode": "markers",
         "name": "pigeonpeas",
         "showlegend": true,
         "type": "scattergl",
         "x": [
          36.51268371,
          36.89163721,
          29.23540524,
          27.33534897,
          21.0643684,
          30.33276599,
          31.80130272,
          33.18184225,
          29.38538562,
          30.27374995,
          35.45790488,
          33.80020039,
          28.69180475,
          31.24021696,
          28.98039357,
          27.32198928,
          21.47607807,
          18.31910448,
          36.97794384,
          24.80467592,
          19.3479443,
          28.88302142,
          19.54314136,
          24.7741949,
          18.33124824,
          19.14729038,
          28.23416057,
          30.11812084,
          33.4126864,
          24.18553163,
          26.88630675,
          31.33170829,
          33.30711818,
          23.45379018,
          34.53823889,
          19.50112224,
          28.76794904,
          30.97758716,
          18.39759147,
          35.09357419,
          34.93174223,
          29.50523036,
          34.51934775,
          28.43430726,
          18.41645629,
          31.07508973,
          20.89342749,
          30.90607799,
          27.9348279,
          35.95176642,
          19.54317155,
          19.63736208,
          31.2192752,
          33.50876355,
          24.80710166,
          36.20970524,
          30.50420876,
          26.01630259,
          31.48469278,
          33.15122581,
          23.50222822,
          34.87248659,
          28.09269012,
          24.54757829,
          33.64769646,
          20.5591255,
          19.95991719,
          28.87667593,
          36.04353699,
          23.6734328,
          25.74679443,
          31.08564994,
          18.72987676,
          29.50304807,
          20.43517772,
          36.00415838,
          31.46846241,
          36.30049702,
          29.49096726,
          30.5753044,
          24.69487673,
          23.17409556,
          19.04380471,
          29.32379604,
          34.6455408,
          21.9989826,
          22.99774444,
          30.55992394,
          31.46417866,
          25.95058595,
          21.01142393,
          19.25100056,
          19.24462755,
          22.47253208,
          36.75087487,
          29.89286629,
          29.37735586,
          29.65052947,
          19.54284889,
          20.04611791
         ],
         "xaxis": "x",
         "y": [
          57.92887167,
          62.73178224,
          59.38967583,
          43.35795962,
          55.46985938,
          42.35249879,
          45.03186173,
          38.23184742,
          63.47742011,
          67.38680755,
          68.75810535,
          40.03262418,
          49.47225353,
          56.67369054,
          57.23265151,
          34.13737127,
          38.80023714,
          34.69776639,
          37.73992903,
          40.1242747,
          55.96805489,
          50.12323801,
          47.19188279,
          50.54621094,
          38.40975482,
          45.3733757,
          49.4421345,
          34.13307843,
          35.42910045,
          46.68746847,
          41.69617915,
          57.97429171,
          67.07780816,
          46.48714759,
          39.04468913,
          34.51086611,
          37.57792132,
          32.24914235,
          36.82639309,
          30.98685456,
          30.40046769,
          35.72032498,
          47.52980027,
          52.10010827,
          34.80541039,
          47.19847683,
          46.24856523,
          52.79913039,
          66.45457122,
          36.52780776,
          56.92831399,
          32.31528909,
          56.46868874,
          45.70976142,
          45.01110015,
          31.94550613,
          35.48885969,
          49.94704718,
          35.6395615,
          32.45974539,
          51.29019509,
          38.83786012,
          44.93322042,
          57.3414485,
          48.41490082,
          60.54880693,
          59.33157782,
          62.4901206,
          43.61444121,
          47.2879691,
          40.7192594,
          66.68832981,
          61.33186249,
          63.46513414,
          39.37252634,
          56.01334416,
          35.39454002,
          56.03021253,
          67.10604388,
          34.75591197,
          59.96669215,
          36.67847052,
          33.10695144,
          45.93248374,
          54.32342534,
          56.31006755,
          60.24218572,
          35.29006485,
          48.17631461,
          40.58227261,
          69.69141302,
          47.70351758,
          50.54495302,
          62.56532471,
          58.25799145,
          66.35375127,
          44.82294584,
          42.89833235,
          66.34777265,
          48.93905624
         ],
         "yaxis": "y"
        },
        {
         "hovertemplate": "label=mothbeans<br>temperature=%{x}<br>humidity=%{y}<extra></extra>",
         "legendgroup": "mothbeans",
         "marker": {
          "color": "#19d3f3",
          "symbol": "circle"
         },
         "mode": "markers",
         "name": "mothbeans",
         "showlegend": true,
         "type": "scattergl",
         "x": [
          27.91095209,
          27.32220619,
          28.66024187,
          29.02955344,
          27.78031515,
          31.99928579,
          27.33580911,
          28.92952635,
          27.65472156,
          28.52396666,
          31.02215872,
          25.74095321,
          31.70447482,
          24.47876451,
          31.46511256,
          25.60973447,
          30.30260453,
          28.17489437,
          25.50634557,
          31.12896766,
          26.34043268,
          28.23494706,
          27.04453473,
          25.16125354,
          27.3179125,
          25.4123765,
          31.21629982,
          30.573999,
          25.42517036,
          27.09400578,
          24.30935081,
          30.06142622,
          28.09568993,
          26.33908791,
          28.61409059,
          28.70012137,
          24.21610338,
          28.50677929,
          25.97948991,
          30.88482722,
          25.5042419,
          25.12528913,
          27.10508014,
          31.1006247,
          26.45707778,
          30.04132304,
          27.77799528,
          30.99256944,
          26.4908332,
          31.96987867,
          25.36140526,
          25.54249137,
          28.99319096,
          29.34317422,
          28.63618921,
          24.83206631,
          25.44689075,
          31.01274943,
          27.06179658,
          27.0956288,
          28.56800579,
          28.79929247,
          27.94293692,
          30.47757686,
          30.58139475,
          26.85911286,
          26.31051759,
          28.77833449,
          28.90245417,
          29.37687468,
          24.17093241,
          26.65333029,
          28.19912143,
          28.76488954,
          29.3499706,
          28.00937423,
          26.85851927,
          31.2123945,
          24.20422636,
          29.98835437,
          29.93964907,
          31.2119298,
          26.80474415,
          31.49398069,
          30.99694676,
          29.61253065,
          29.97604322,
          30.88883074,
          30.39321309,
          30.43683729,
          25.32688786,
          30.53684308,
          30.38257873,
          24.01825377,
          28.69841277,
          29.33743412,
          27.96583691,
          24.86803974,
          25.87682261,
          31.01963639
         ],
         "xaxis": "x",
         "y": [
          64.70930606,
          51.27868781,
          59.3189118,
          61.09387478,
          54.65030015,
          54.1077461,
          55.27755933,
          53.57014709,
          58.59986279,
          55.77264351,
          45.89239456,
          45.38497051,
          56.85420099,
          58.51663927,
          51.79939437,
          50.7330069,
          47.18283631,
          43.6672299,
          44.8302551,
          43.58788762,
          55.59160391,
          61.5620517,
          49.32609633,
          55.25435777,
          51.66921088,
          49.66474269,
          46.01868196,
          58.22686794,
          53.22082660000001,
          43.65305437,
          56.32938343,
          45.90067655,
          60.98353839999999,
          40.00933429,
          57.14218792,
          44.359648,
          59.79236306,
          45.20094476,
          64.95585424,
          41.36561835,
          61.66852372,
          51.33189406,
          63.56791363,
          44.82069159,
          56.40226277,
          63.56222995,
          54.82130787,
          43.02151392,
          47.36534833,
          57.17377029,
          46.82652785,
          56.96640758,
          62.85948245,
          60.50320928,
          61.39451307,
          44.17085032,
          58.55363573,
          62.40392519,
          52.3003173,
          42.26206161,
          57.30636014,
          49.84213387,
          45.41393636,
          61.58245338,
          50.77148138,
          41.81420849,
          61.18749126,
          44.2252605,
          43.35365671,
          57.69622912,
          58.25204566,
          59.79023382,
          53.50567601,
          52.62741529,
          61.25353851,
          52.60950014,
          48.8246387,
          40.92604945,
          61.43378674,
          49.60384796,
          54.61813464,
          41.55934359,
          48.23991436,
          62.84916863,
          46.42693735,
          63.04749127,
          57.03184356,
          52.62696801,
          60.16299493,
          55.20522037,
          63.18180319,
          59.96664731,
          40.5926071,
          53.76623369,
          61.14754363,
          49.00323081,
          61.34900107,
          48.27531965,
          45.96341933,
          49.97675220000001
         ],
         "yaxis": "y"
        },
        {
         "hovertemplate": "label=mungbean<br>temperature=%{x}<br>humidity=%{y}<extra></extra>",
         "legendgroup": "mungbean",
         "marker": {
          "color": "#FF6692",
          "symbol": "diamond"
         },
         "mode": "markers",
         "name": "mungbean",
         "showlegend": true,
         "type": "scattergl",
         "x": [
          27.43329405,
          28.3340432,
          27.01470397,
          28.17432665,
          29.87888063,
          29.89232778,
          28.56212158,
          27.53592929,
          29.68361658,
          28.14448546,
          29.53037621,
          27.88352946,
          28.22471276,
          29.008124,
          29.75538903,
          29.78416743,
          27.8640132,
          27.11026483,
          27.11030369,
          28.95451232,
          29.21780035,
          28.7420098,
          29.65021184,
          27.23924995,
          28.95172351,
          28.18837136,
          28.30041493,
          27.89636126,
          28.6899851,
          27.826262300000003,
          28.70562673,
          28.6362812,
          28.28511547,
          27.60887393,
          28.60901145,
          29.24598976,
          28.62911222,
          29.57329479,
          27.82684262,
          29.8757015,
          27.33684386,
          29.83040388,
          28.2753171,
          29.86860065,
          29.5888162,
          28.07219563,
          27.84026517,
          27.10818093,
          27.68515114,
          29.34594634,
          28.36319404,
          27.65280218,
          27.31372793,
          27.06909959,
          28.06642822,
          27.73329078,
          27.53632932,
          29.66461594,
          29.914544300000006,
          28.36363858,
          29.46416042,
          29.73013036,
          27.46852989,
          27.77076285,
          29.12939524,
          27.10606808,
          28.88078945,
          28.14720892,
          29.89129144,
          27.41503453,
          29.27308605,
          29.65296893,
          28.44524991,
          27.96235681,
          29.25649321,
          28.36291385,
          27.62749466,
          28.66086349,
          29.2114218,
          29.40889385,
          28.02952623,
          28.08657178,
          29.16174608,
          29.8596912,
          29.06631494,
          27.38538997,
          27.93034941,
          29.2808618,
          28.9973145,
          27.92678579,
          28.5474135,
          29.36488409,
          28.56149805,
          28.43683487,
          28.79728147,
          28.7275267,
          27.95639663,
          28.17458662,
          28.77653519,
          28.438097
         ],
         "xaxis": "x",
         "y": [
          87.80507732,
          80.77275974,
          84.34262707,
          81.04554836,
          87.32761241,
          89.71503316,
          83.24855855,
          85.57019009999998,
          87.93598094,
          82.1193047,
          86.73346018,
          86.45147631,
          82.35916228,
          84.96089355,
          86.45193297,
          85.16906976,
          80.4513142,
          84.96771717,
          83.64274107,
          89.07866095,
          87.93724219,
          85.81675947,
          80.29868321,
          86.404241,
          81.67085323,
          82.60629652,
          86.20681554,
          88.71782287,
          87.50436797,
          88.73100226,
          81.59200689,
          84.61431076,
          88.4393979,
          86.13316408,
          86.99495766,
          84.80084105,
          89.11480590000002,
          88.07505524,
          87.16679147,
          83.14796296,
          88.50229102,
          89.30428305,
          82.76020821,
          85.99127934,
          89.9939693,
          82.9116472,
          89.99615558,
          87.45126690000002,
          81.94268594,
          85.60472562,
          84.8593608,
          89.80650642,
          85.44815232,
          86.89934108,
          85.91625451,
          81.13903037,
          89.92908171,
          84.28187572,
          85.85384444,
          87.59810657,
          87.60890009,
          82.89166381,
          87.17649,
          87.09979549,
          88.48312598,
          89.89593328,
          86.94206817,
          83.8001509,
          80.14487166,
          80.98004661,
          89.4875022,
          88.48587386,
          82.67639542,
          83.97586797,
          81.97952224,
          88.00989267,
          86.49366929,
          86.12194568,
          87.11497805,
          86.16063492,
          84.8845732,
          80.35005927,
          80.28038146,
          80.03499648,
          83.6869203,
          88.66663953,
          85.42058715,
          81.8009244,
          83.78911515,
          86.5543196,
          88.9570454,
          89.1886954,
          83.63802195,
          87.91332682,
          80.45744422,
          89.12760359,
          83.52706038,
          83.69659318,
          86.69133979,
          83.48991368
         ],
         "yaxis": "y"
        },
        {
         "hovertemplate": "label=blackgram<br>temperature=%{x}<br>humidity=%{y}<extra></extra>",
         "legendgroup": "blackgram",
         "marker": {
          "color": "#B6E880",
          "symbol": "square"
         },
         "mode": "markers",
         "name": "blackgram",
         "showlegend": true,
         "type": "scattergl",
         "x": [
          29.48439992,
          26.73433965,
          26.27274407,
          34.03679184,
          28.03644051,
          28.81460716,
          34.03619494,
          33.8642935,
          32.84213012,
          27.10053268,
          25.65842532,
          32.34744009,
          29.58949031,
          30.91219459,
          28.12787838,
          30.08545364,
          31.74379487,
          27.81326852,
          32.88733849,
          29.36358721,
          27.82592799,
          28.49538735,
          27.74274761,
          30.41588462,
          27.3254209,
          30.28496619,
          28.56840626,
          25.36586097,
          34.9466155,
          25.09737391,
          32.47648301,
          33.86351172,
          25.19857725,
          31.77681682,
          34.89814946,
          31.74105409,
          27.16159076,
          26.23773129,
          30.20157245,
          31.55846339,
          29.67892453,
          27.05365239,
          34.63880966,
          33.39438752,
          28.84079155,
          31.49338309,
          25.54960633,
          34.37329112,
          34.600824700000004,
          29.43463808,
          29.10713092,
          28.57006111,
          27.54384835,
          33.04687968,
          33.95309131,
          30.11873003,
          29.57812712,
          27.26458947,
          31.35730791,
          31.52104732,
          29.39982732,
          29.38400259,
          28.38686534,
          28.47442276,
          30.64095781,
          25.25596239,
          32.97030511,
          33.66855394,
          32.83963757,
          27.45853567,
          25.68576704,
          30.0328403,
          28.20667264,
          28.27265858,
          28.541723600000005,
          26.87187036,
          32.79766751,
          26.42333018,
          29.79181107,
          27.44003279,
          34.1262979,
          30.94908189,
          28.75751783,
          27.24766491,
          28.63005477,
          26.41768321,
          32.81705216,
          29.6321052,
          33.49077065,
          31.86847286,
          30.32992227,
          28.546224,
          30.02629908,
          31.65531175,
          30.33499674,
          33.36984395,
          31.4345059,
          27.71678273,
          32.63918668,
          32.7477393
         ],
         "xaxis": "x",
         "y": [
          63.19915325,
          68.13999721,
          62.28814857,
          67.21113844,
          65.06601664,
          65.33538112,
          64.28791388,
          61.57072498,
          68.68401492,
          63.36085585,
          61.18235808,
          66.61452812,
          68.32176769,
          68.79427388,
          64.2097765,
          69.34811988,
          62.51007687,
          62.50460464,
          64.59457409,
          64.98742947,
          67.58618829999999,
          60.44848407,
          68.53997144,
          67.66323804,
          69.09047809,
          61.69295127,
          61.53278622,
          66.6379724,
          65.26774011,
          67.72837887,
          64.34848735,
          68.59232289,
          60.37332688,
          69.01852894,
          63.59948557,
          68.63525428,
          66.76017239,
          67.88521396,
          60.06534859,
          67.83563765,
          69.0854554,
          67.7017527,
          61.38597868,
          62.93692886,
          63.37230676,
          63.0563645,
          63.95425534,
          69.69366426,
          63.11296779,
          64.94329356,
          67.90577375,
          65.71765781,
          69.3478631,
          68.93875631,
          69.96100028,
          60.11680815,
          66.17587668,
          68.01232937,
          64.24992106,
          66.55723677,
          64.25510719,
          64.14928485,
          61.88871127,
          63.53604453,
          61.14508627,
          61.36669662,
          60.18122078,
          66.60416867,
          67.99803573,
          62.90020977,
          69.84354028,
          64.14800537,
          68.27085245,
          61.18956161,
          64.2020154,
          61.61367264,
          68.77994074,
          64.51136845,
          63.38789228,
          67.10464369,
          65.14877461,
          64.23364112,
          61.02701476,
          66.10123083,
          66.770943,
          63.64698302,
          66.15665137,
          65.91359954,
          62.73317204,
          66.74217464,
          65.62971858,
          66.31394098,
          67.88811637,
          60.13263713,
          63.54718862,
          65.67718163,
          62.99303471,
          63.29103387,
          61.3009051,
          67.77954584
         ],
         "yaxis": "y"
        },
        {
         "hovertemplate": "label=lentil<br>temperature=%{x}<br>humidity=%{y}<extra></extra>",
         "legendgroup": "lentil",
         "marker": {
          "color": "#FF97FF",
          "symbol": "x"
         },
         "mode": "markers",
         "name": "lentil",
         "showlegend": true,
         "type": "scattergl",
         "x": [
          28.05153602,
          19.44084326,
          29.84823072,
          21.36383757,
          26.28663931,
          22.17499963,
          26.57597546,
          26.58972517,
          19.1345771,
          28.75273118,
          25.78746268,
          23.89271875,
          28.67408774,
          28.42062847,
          21.35499456,
          21.12695586,
          24.02037872,
          25.40474421,
          29.03017561,
          20.21368219,
          29.19585548,
          18.29783597,
          27.41434987,
          24.84063998,
          29.94413861,
          25.87990287,
          20.0467711,
          22.99451999,
          25.13163619,
          28.49584395,
          18.28766124,
          24.38041875,
          21.31852148,
          18.54141834,
          25.28710601,
          25.43459777,
          28.83600962,
          27.37659643,
          28.31886863,
          27.4818649,
          18.28072173,
          27.61204997,
          23.43974653,
          20.95628486,
          23.7937153,
          22.6371424,
          21.53577883,
          29.87854588,
          25.2653291,
          25.17885316,
          24.12192608,
          23.33565221,
          21.74600081,
          27.60195453,
          24.388717,
          24.98287462,
          28.234829,
          26.03026959,
          28.04849594,
          24.87425505,
          23.97081395,
          20.06003985,
          19.59221047,
          29.77013109,
          27.52135365,
          25.62896213,
          20.39078312,
          25.39038396,
          24.91079638,
          27.70496805,
          18.06486101,
          18.13027797,
          23.82723528,
          23.19305333,
          25.08966129,
          25.86928193,
          18.43966037,
          27.14911056,
          23.33375853,
          26.7230014,
          19.55750776,
          26.13708256,
          27.99990346,
          29.05941162,
          25.71269843,
          21.79792649,
          24.70626432,
          20.94981756,
          24.84918386,
          21.91041045,
          25.93381964,
          29.82112112,
          27.52185591,
          27.99627907,
          20.76774783,
          23.05276444,
          21.65845777,
          26.25070298,
          20.97195263,
          23.89736406
         ],
         "xaxis": "x",
         "y": [
          63.49802189,
          63.27771461,
          60.63872613,
          69.92375891,
          68.51966729,
          62.13873825,
          60.97876599,
          66.14007674,
          62.57526895,
          69.15640149,
          60.2816298,
          61.78779413,
          63.18832976,
          61.77336343,
          62.60136323,
          63.18738532,
          61.62313345,
          65.8567539,
          64.49166566,
          68.65257685,
          68.01965728,
          69.6897615,
          63.41785982,
          60.09116626,
          67.31323084,
          67.55109024,
          65.84395319,
          66.70897237,
          66.92642362,
          62.44616219,
          69.48515056,
          61.18458224,
          66.43934593,
          62.70637578,
          60.85993533,
          69.12613376,
          69.76112921,
          63.93927841,
          60.19461399,
          62.04814951,
          68.10365387,
          69.29786244,
          63.22011726,
          63.68128841,
          68.03209183,
          65.44544859,
          65.47227704,
          65.73085206,
          67.10004577,
          68.93307305,
          61.09533545,
          67.40460704,
          63.39503184,
          63.46170674,
          62.50453062,
          66.895409,
          69.3159965,
          69.55863145,
          64.07691942,
          64.00213929,
          62.35557553,
          67.76252583,
          61.28633405,
          66.29327012,
          60.53657684,
          63.14909763,
          60.47528931,
          60.4989659,
          60.71367427,
          63.20915034,
          65.1034354,
          62.45851612,
          67.89815262,
          62.74710773,
          68.17543102,
          61.88321072,
          68.05394959,
          67.02664337,
          64.50515776,
          62.96841833,
          64.45268309,
          66.7729209,
          65.57653373,
          62.10652364,
          64.1123333,
          63.73086065,
          60.26854183,
          65.8108757,
          68.98088448,
          65.21662467,
          68.70533022,
          69.4073209,
          63.13215259,
          68.6428593,
          63.90164154,
          60.424786,
          63.58337146,
          67.62779652,
          63.83179889,
          66.32102048
         ],
         "yaxis": "y"
        },
        {
         "hovertemplate": "label=pomegranate<br>temperature=%{x}<br>humidity=%{y}<extra></extra>",
         "legendgroup": "pomegranate",
         "marker": {
          "color": "#FECB52",
          "symbol": "cross"
         },
         "mode": "markers",
         "name": "pomegranate",
         "showlegend": true,
         "type": "scattergl",
         "x": [
          24.55981624,
          19.65690085,
          18.78359608,
          24.1469628,
          22.44581266,
          24.96273236,
          22.5526059,
          22.77035608,
          19.20090378,
          23.12808226,
          24.92639065,
          24.77464458,
          19.8671184,
          24.26601316,
          23.62600218,
          19.67832052,
          22.36509395,
          21.57936934,
          18.26233221,
          23.71028128,
          22.48720144,
          21.66024980000001,
          20.13037175,
          18.41164435,
          19.68291173,
          23.20242586,
          18.92157197,
          22.10621387,
          18.47412402,
          19.81069447,
          24.4880844,
          18.75927679,
          19.54128063,
          18.91251245,
          19.91330523,
          19.72620525,
          23.83185873,
          24.94467632,
          24.692258,
          24.72485577,
          20.12644921,
          21.02432943,
          22.40423537,
          20.33691147,
          24.24779615,
          24.81530144,
          19.66329768,
          22.43377991,
          22.92052307,
          22.91843172,
          24.88244467,
          23.40981539,
          21.20725375,
          18.20230419,
          22.34375696,
          24.32770134,
          19.75088482,
          19.86173586,
          18.07132963,
          23.89162561,
          23.98598756,
          20.93892916,
          20.82210727,
          20.86474944,
          24.45840036,
          24.51147697,
          24.56811204,
          24.63228709,
          20.07386547,
          21.80523051,
          22.8122645,
          22.73031253,
          23.2801227,
          19.30106297,
          19.0087067,
          24.35193812,
          24.72235539,
          21.92513945,
          24.83954414,
          18.09691127,
          20.24104904,
          23.22594,
          23.50128217,
          19.44623085,
          20.51343484,
          18.90223032,
          18.90592319,
          22.63045168,
          19.38603815,
          24.38318965,
          23.77989026,
          22.59890174,
          24.37766782,
          20.89273273,
          18.09903225,
          20.00218987,
          19.85139326,
          21.25433607,
          23.65374106,
          23.88404783
         ],
         "xaxis": "x",
         "y": [
          91.63536236,
          89.93701023,
          87.4024767,
          94.5110662,
          89.90147027,
          92.40501423,
          89.32594859999998,
          91.45498527,
          94.27659596,
          92.68328358,
          85.19098079,
          85.63608688,
          86.35590206,
          93.7974061,
          89.73266695,
          89.08935702,
          92.30882391,
          94.88267728,
          88.16779129,
          89.61794165,
          89.9224883,
          94.79397419,
          89.31505137,
          91.11927248,
          89.75272999,
          91.19442671,
          87.31290342,
          91.34039616,
          89.68919664,
          88.92944254,
          90.83687246,
          89.93457597,
          90.29751796,
          87.74938524,
          94.95031368,
          89.64934166,
          87.84034604,
          94.25702672,
          93.87030088,
          85.56083187,
          87.59629625,
          93.0569505,
          88.1508343,
          89.38003827,
          85.56033312,
          91.90842992,
          87.95158129,
          90.3396556,
          85.12912161,
          85.40695044,
          89.39686219,
          93.13277,
          94.26304717,
          91.12282162,
          89.7870345,
          90.88292835,
          88.71691157,
          86.19740917,
          93.14554876,
          89.61850203,
          93.34236582,
          85.42912869,
          87.22815682,
          91.61793636,
          86.10874614,
          90.64498715,
          92.03009222,
          89.01574455,
          90.97819712,
          94.63612858,
          86.34233767,
          88.48567856,
          94.94330457,
          87.1775172,
          88.83768149,
          90.88612388,
          88.87651295,
          94.46485312,
          86.88738076,
          90.42177379,
          91.08706822,
          94.42971362,
          92.97527546,
          89.02127045,
          92.51675903,
          94.99897537,
          89.24126808,
          88.45577158,
          86.79058496,
          91.19431555,
          92.93386903,
          93.16343942,
          85.4017118,
          91.07776977,
          85.70786282,
          85.83618191,
          89.80732335,
          92.65058936,
          93.32657504,
          86.20613842
         ],
         "yaxis": "y"
        },
        {
         "hovertemplate": "label=banana<br>temperature=%{x}<br>humidity=%{y}<extra></extra>",
         "legendgroup": "banana",
         "marker": {
          "color": "#636efa",
          "symbol": "circle"
         },
         "mode": "markers",
         "name": "banana",
         "showlegend": true,
         "type": "scattergl",
         "x": [
          29.36792366,
          27.33368994,
          27.40053601,
          29.3159075,
          26.05433004,
          25.86632408,
          27.00932084,
          29.55054817,
          26.28845991,
          29.16226551,
          28.65003945,
          29.07311132,
          28.08166093,
          27.1994597,
          28.05484146,
          25.14748006,
          25.94019018,
          27.66752761,
          25.56703012,
          28.6956201,
          26.33544853,
          25.93730186,
          25.13686519,
          27.50527651,
          26.21009246,
          29.10403455,
          29.244063800000006,
          25.56202173,
          26.3985515,
          28.09577643,
          27.84767901,
          27.39341554,
          25.14517635,
          28.65456263,
          29.16093424,
          27.57278064,
          25.40909896,
          25.99069521,
          26.29039046,
          29.14827211,
          26.59743595,
          25.36059237,
          29.12036889,
          27.53911354,
          29.66727337,
          25.05802193,
          25.86824781,
          25.85036988,
          26.51682337,
          28.66725136,
          28.14938935,
          26.42313317,
          26.59386409,
          27.71822477,
          28.98333432,
          29.42017919,
          27.39872329,
          26.4020227,
          27.81251452,
          25.19640218,
          28.31193338,
          25.90113128,
          27.48612983,
          29.38254012,
          29.22118628,
          27.09062164,
          26.12643374,
          29.01207743,
          27.96799119,
          28.0764455,
          25.16278237,
          25.78749808,
          25.34119774,
          29.44795403,
          26.47522633,
          27.39489579,
          25.08347445,
          26.671983500000003,
          25.44926208,
          28.22776705,
          28.127950899999995,
          28.9470467,
          27.96236771,
          28.00316034,
          29.1400919,
          27.9122104,
          25.43480512,
          28.55980972,
          26.59580783,
          27.19711623,
          25.29391516,
          29.90888522,
          27.94972463,
          25.01018457,
          29.21144871,
          27.35911627,
          28.0106804,
          28.67208915,
          27.34585147,
          29.50704598
         ],
         "xaxis": "x",
         "y": [
          76.24900101,
          83.67675197,
          82.96221306,
          80.11585705,
          79.39654531,
          84.42379269,
          80.18546798,
          78.06762846,
          83.390039,
          76.16151562,
          82.68752542,
          76.50045221,
          75.26429821,
          78.80860679999998,
          78.04602887,
          83.34688193,
          78.3422098,
          79.68542782,
          75.94067692,
          82.54195839,
          76.8532006,
          78.89864446,
          84.88394407,
          80.79783998,
          82.34429458,
          79.19588629,
          77.32017166,
          77.38229006,
          81.36028902,
          77.79586769,
          83.31110751,
          81.4654833,
          81.38204104,
          79.28693687,
          76.67484233,
          82.0638878,
          82.36208097,
          83.33983116,
          81.06003778,
          78.71024836,
          79.35898915,
          75.03193255,
          80.18080728,
          77.25629897,
          83.51014178,
          84.97323747,
          78.52399914,
          81.95580471,
          77.79913575,
          79.59242542,
          81.54448882,
          83.69950440000002,
          81.40740301,
          76.57853189,
          82.95958244,
          83.96754496,
          81.10523402,
          84.41007614,
          82.69285419,
          83.55829874,
          75.77363772,
          80.47152737,
          76.11239849,
          83.50423735,
          81.08183635,
          81.33506906,
          81.81365007,
          77.95192527,
          79.28625709,
          76.05522115,
          84.97849241,
          84.51194224,
          84.47321314,
          78.34971537,
          78.51833782,
          83.31172003,
          80.26173100000003,
          76.48541655,
          79.49221962,
          80.64303840000002,
          77.48247073,
          82.1888998,
          84.15403614,
          78.90085998,
          80.1190228,
          83.36307683,
          81.53977797,
          84.51602322,
          82.99556744,
          77.39706290000002,
          79.29122198,
          76.98740841,
          76.63713353,
          78.76260938,
          84.70189923,
          84.54625006,
          76.52808057,
          82.20793613,
          78.48738349999998,
          78.20585613
         ],
         "yaxis": "y"
        },
        {
         "hovertemplate": "label=mango<br>temperature=%{x}<br>humidity=%{y}<extra></extra>",
         "legendgroup": "mango",
         "marker": {
          "color": "#EF553B",
          "symbol": "diamond"
         },
         "mode": "markers",
         "name": "mango",
         "showlegend": true,
         "type": "scattergl",
         "x": [
          29.73770045,
          33.55695561,
          27.00315545,
          33.56150184,
          35.89855625,
          34.17719782,
          30.01592643,
          31.74592134,
          35.99009679,
          31.86641378,
          27.75518664,
          34.72413192,
          27.53907547,
          27.69637763,
          27.25373364,
          30.33723921,
          31.85744939,
          35.39986338,
          29.80747243,
          34.16438906,
          28.93270187,
          27.98392787,
          31.20478173,
          32.13409675,
          28.91862016,
          31.09779147,
          34.73823882,
          29.98080499,
          33.80398664,
          30.07202564,
          27.92063282,
          31.40948821,
          35.7877738,
          33.36140093,
          35.96054636,
          28.33333307,
          32.27652024,
          31.99490489,
          27.58258929,
          29.38471637,
          32.38697531,
          30.91471455,
          35.37775595,
          32.32362177,
          28.22373428,
          27.27433181,
          27.10710832,
          34.89226666,
          33.7462686,
          27.351105600000004,
          32.89300162,
          35.38598705,
          27.552973600000005,
          32.82141065,
          30.17294105,
          29.26382931,
          32.06097197,
          28.69818144,
          29.14305008,
          28.347161100000005,
          27.67256197,
          28.1218093,
          30.79375683,
          28.89409382,
          33.33024826,
          27.78912455,
          31.65333432,
          29.75150773,
          31.32995611,
          35.63627319,
          31.66524687,
          32.26935342,
          27.81005614,
          34.58561471,
          31.27180992,
          33.93679864,
          31.09154239,
          31.89356292,
          32.45465292,
          35.47478322,
          27.32961444,
          30.90225239,
          29.09382275,
          30.02086169,
          34.13072188,
          33.44619894,
          35.3915464,
          31.53356352,
          30.764551500000003,
          30.01821337,
          31.32863689,
          33.88004781,
          28.07802689,
          35.53845018,
          28.70595247,
          31.48451729,
          27.69819273,
          30.41235793,
          32.17752026,
          32.611261400000004
         ],
         "xaxis": "x",
         "y": [
          47.54885174,
          53.72979826,
          47.67525434,
          45.53556603,
          54.25964196,
          50.62161586,
          53.19212381,
          45.16127859,
          52.22780489,
          52.19331595,
          52.34605806,
          51.4271781,
          53.63549533,
          48.56224879999999,
          52.66319725,
          48.88704844,
          45.53106268,
          49.45962621,
          52.13797867,
          54.16482251,
          47.94053996,
          53.33018851,
          54.49960506,
          50.52559148,
          48.13974548,
          47.41196659,
          49.08864345,
          49.48613279,
          46.12866113,
          50.96040505,
          51.77965917,
          49.21729127,
          51.94190321,
          45.02236377,
          48.69677802,
          51.39586505,
          50.19368841,
          50.84881347,
          48.56916221,
          45.88744691,
          53.2328243,
          49.92963856,
          45.58110023,
          52.58967710000001,
          47.40519056,
          47.16808054,
          50.70880979,
          48.75613373,
          48.50387598,
          54.43945147,
          52.61323969,
          51.42664176,
          47.90859131,
          47.45553843,
          51.0845903,
          54.82257868,
          51.08494181,
          47.71875722,
          49.40983294,
          53.53903102,
          45.41692012,
          46.16888595,
          46.69536813,
          54.80750249,
          45.61143594,
          53.96886679,
          48.20662669,
          46.73723302,
          50.22287593,
          48.97047762,
          51.98594645,
          53.56092806,
          51.59445462,
          50.34035336,
          52.23810152,
          52.72170281,
          47.02058367,
          49.02450149,
          50.69693751,
          47.97230503,
          49.30347234,
          49.95955487,
          45.5661059,
          46.78393776,
          51.25786185,
          53.05980465,
          52.48823147,
          53.06009323,
          47.93791463,
          50.09831810000001,
          47.59319575,
          54.39416048,
          54.9640534,
          52.94641947,
          50.44030129,
          48.77926304,
          51.41593238,
          52.48100602,
          54.01352682,
          47.74916499
         ],
         "yaxis": "y"
        },
        {
         "hovertemplate": "label=grapes<br>temperature=%{x}<br>humidity=%{y}<extra></extra>",
         "legendgroup": "grapes",
         "marker": {
          "color": "#00cc96",
          "symbol": "square"
         },
         "mode": "markers",
         "name": "grapes",
         "showlegend": true,
         "type": "scattergl",
         "x": [
          29.99677232,
          30.7280404,
          32.44577836,
          37.46566825,
          22.03296178,
          39.64851881,
          16.77557314,
          12.14190714,
          12.7567962,
          39.04071989,
          39.70772192,
          9.467960445,
          29.58748357,
          17.82803682,
          8.825674745,
          27.83487131,
          11.02105378,
          17.5862944,
          19.89363946,
          29.93707596,
          36.73126647,
          20.42094753,
          25.51939719,
          30.50734778,
          18.426993600000007,
          12.087022,
          23.60115364,
          12.80000387,
          38.06099482,
          39.06555518,
          33.78372897,
          16.76201707,
          35.89307536,
          21.01245395,
          10.89875873,
          16.36251869,
          20.28370163,
          25.11108456,
          33.4641162,
          11.7976469,
          11.36300891,
          25.23542319,
          15.99050693,
          22.4359017,
          34.76086052,
          31.11047251,
          28.57828803,
          41.18664903,
          27.02766138,
          21.19339319,
          10.38004759,
          31.3115978,
          20.46657776,
          29.36947679,
          10.72302459,
          14.97846952,
          15.3246651,
          18.73932187,
          19.3642553,
          41.20733624,
          33.34214482,
          23.81995682,
          40.66012294,
          11.82768186,
          13.28504331,
          35.83089092,
          26.18159716,
          24.57558351,
          29.67229086,
          39.37102553,
          17.66558428,
          24.06679352,
          15.31413469,
          21.77466746,
          26.91624843,
          41.65602996,
          17.98667801,
          29.12033769,
          34.38922481,
          41.36106301,
          35.12158265,
          19.6491772,
          16.27852801,
          21.11903604,
          19.2077707,
          25.96308415,
          25.67385024,
          41.94865736,
          11.18994268,
          17.5438296,
          13.05809741,
          9.724457611,
          27.92004934,
          9.535585543,
          13.42988625,
          9.851242629,
          24.97256132,
          27.23708304,
          18.70679077,
          9.949929082
         ],
         "xaxis": "x",
         "y": [
          81.54156612,
          82.42614055,
          83.88504863,
          80.65968681,
          83.74372787,
          82.21079946,
          82.75241875,
          83.56812483,
          81.62497448,
          80.18393287,
          82.68593454,
          82.29335466,
          80.91934392,
          80.96093443,
          82.89753705,
          83.51444973,
          80.55557235,
          80.84806564,
          82.73366439,
          81.77713468,
          80.58931938,
          81.54185044,
          83.98351748,
          82.71775569,
          80.55625868,
          83.59398734,
          82.48336987,
          81.20876367,
          82.24729637,
          82.03812973,
          81.16314317,
          82.00335557,
          82.66850729,
          81.17931863,
          80.01639435,
          83.00471609,
          81.32235739,
          83.25447587,
          83.86742974,
          80.86325389,
          80.03100049,
          80.68700527,
          81.23966573,
          80.18612085,
          81.03544763,
          83.34010951,
          80.95628959,
          81.01783402,
          83.17093908,
          82.33098331,
          83.44518113,
          82.56407013,
          80.97598029,
          81.53996362,
          80.02130636,
          80.49979873,
          81.67215994,
          81.12109244,
          83.36094029,
          81.61051026,
          82.51034633,
          80.12211649,
          81.24995984,
          80.2827185,
          83.54193816,
          83.32560104,
          81.03886263,
          80.70695797,
          83.71498986,
          81.25353895,
          82.92903419,
          82.66396666,
          80.09711412,
          80.54942557,
          80.76838926,
          82.22118237,
          81.17712085,
          82.79092939,
          83.18392806,
          82.79782954,
          82.26890793,
          80.15215777,
          82.94270065,
          80.63399198,
          82.90428409999998,
          82.57813624,
          81.6212135,
          81.15595212,
          80.8084305,
          82.94703302,
          80.28297993,
          83.74765639,
          82.93262435,
          80.73112694,
          80.06633966,
          80.22631717,
          82.72828653,
          82.94573346,
          83.4795292,
          82.55138983
         ],
         "yaxis": "y"
        },
        {
         "hovertemplate": "label=watermelon<br>temperature=%{x}<br>humidity=%{y}<extra></extra>",
         "legendgroup": "watermelon",
         "marker": {
          "color": "#ab63fa",
          "symbol": "x"
         },
         "mode": "markers",
         "name": "watermelon",
         "showlegend": true,
         "type": "scattergl",
         "x": [
          26.47330219,
          25.18780042,
          25.29954705,
          24.74631269,
          26.58740671,
          24.53442564,
          26.0713757,
          25.96534238,
          26.22338015,
          24.41311871,
          26.49195283,
          24.04355803,
          25.5421695,
          26.74550678,
          25.7131428,
          25.76484262,
          26.79489868,
          24.9004602,
          26.80750629,
          25.11189154,
          26.2148837,
          24.9103226,
          25.79448878,
          25.26931156,
          25.76402693,
          25.85483596,
          24.33528185,
          25.37601283,
          24.86094646,
          24.71885473,
          24.21495706,
          25.81692236,
          24.47018505,
          24.13078816,
          26.1793464,
          26.17668721,
          26.03867719,
          26.53259325,
          26.81938687,
          25.50405534,
          26.20234499,
          25.13735887,
          25.92030221,
          26.6634609,
          24.06731461,
          24.6774157,
          26.11440416,
          26.81530456,
          25.15623099,
          25.2801372,
          26.22005978,
          24.92093261,
          26.21667586,
          26.81383586,
          24.31334971,
          24.29105004,
          24.42998931,
          25.66576039,
          25.07803672,
          24.88910524,
          25.42900869,
          24.37118217,
          26.493064500000006,
          25.83202912,
          24.41592661,
          24.37190239,
          24.24782473,
          24.64458469,
          24.89681131,
          25.41864024,
          26.26028739,
          24.90123934,
          24.84740848,
          26.98212846,
          26.90435747,
          25.86475496,
          26.70607759,
          26.44019475,
          26.283443,
          26.84366082,
          26.03967219,
          24.92994759,
          25.50736962,
          25.4438391,
          26.12588914,
          25.10474753,
          26.27520631,
          26.27061608,
          26.73690828,
          25.04746944,
          24.69368934,
          24.54356968,
          25.89762315,
          26.6333118,
          25.35794749,
          25.28784623,
          26.63838589,
          25.3310446,
          26.89750174,
          26.98603693
         ],
         "xaxis": "x",
         "y": [
          80.92254421,
          83.44621709,
          81.77527562,
          88.30866319,
          81.32563243,
          88.989272,
          88.7285657,
          89.77076659,
          85.34866045,
          89.81574032,
          80.04678201,
          84.18406764,
          83.31883376,
          83.9195902,
          80.22972777,
          84.17269959999999,
          89.64815231,
          89.73524177,
          88.22874955,
          80.02621335,
          87.68839820000002,
          86.97190046,
          84.26830701,
          87.55055105,
          87.5931128,
          89.13163965,
          81.44030363,
          80.99313508,
          85.05318563,
          88.94568335,
          84.20576992,
          82.043255,
          84.16390229,
          84.84494575,
          86.52258079,
          86.72952049999998,
          84.6378378,
          82.39053979,
          87.8274604,
          81.40297428,
          80.38266489,
          89.28272716,
          83.47202566,
          89.98405233,
          81.64075303,
          82.75411437,
          87.64081095,
          87.65694462,
          80.27525115,
          83.15393658,
          80.90127035,
          80.61750795,
          81.01009354,
          87.21986949,
          87.47409052,
          88.04541346,
          86.33904774,
          88.6984228,
          83.46230461,
          85.87059083,
          82.91481799,
          87.1269128,
          88.59143088,
          89.00481725,
          89.39655519,
          81.2514818,
          83.03687902,
          85.49938185,
          86.10782926,
          81.12122989,
          86.14585891,
          87.20772913,
          89.20454622,
          86.70068316,
          86.25426228,
          86.67468041,
          81.14149505,
          80.91934337,
          84.42478917,
          83.85039964,
          83.9862443,
          85.00802358,
          84.24340241,
          87.93923120000002,
          86.5507939,
          87.52676159999999,
          86.63249555,
          83.09194521,
          87.82430156,
          85.5667282,
          85.56967628,
          84.60808277,
          81.96664832,
          84.31756844,
          80.45846265,
          89.63667876,
          84.69546874,
          84.30533791,
          83.89241484,
          89.4138489
         ],
         "yaxis": "y"
        },
        {
         "hovertemplate": "label=muskmelon<br>temperature=%{x}<br>humidity=%{y}<extra></extra>",
         "legendgroup": "muskmelon",
         "marker": {
          "color": "#FFA15A",
          "symbol": "cross"
         },
         "mode": "markers",
         "name": "muskmelon",
         "showlegend": true,
         "type": "scattergl",
         "x": [
          27.57826922,
          27.82054812,
          29.09910406,
          28.04943594,
          29.91690582,
          29.86895762,
          29.17220859,
          29.24908541,
          27.76317235,
          28.82629037,
          28.52379742,
          29.06785065,
          29.08417927,
          28.47090661,
          28.27973674,
          28.47212559,
          29.68846716,
          27.02415146,
          29.09588297,
          29.69238699,
          28.20619412,
          29.05248036,
          29.57240298,
          29.10968327,
          28.20480805,
          29.11858526,
          29.62800691,
          29.81196601,
          27.72338349,
          29.26092798,
          29.72791119,
          28.91105641,
          28.96361426,
          28.59052369,
          27.33897716,
          29.90415889,
          27.42711692,
          29.55657523,
          29.84070774,
          28.53545677,
          27.11535046,
          27.84492803,
          29.03157242,
          27.82424457,
          27.72653142,
          28.69708334,
          29.73019662,
          29.54097171,
          28.80311922,
          27.29035669,
          27.46583649,
          29.49401389,
          27.79161808,
          29.12533739,
          27.93114233,
          29.45771748,
          27.96872279,
          29.48882958,
          29.47156259,
          27.076726500000003,
          27.30008597,
          29.82729394,
          29.93061247,
          29.94349168,
          28.03306461,
          29.8843055,
          27.7058373,
          29.78714005,
          28.57819995,
          29.48069921,
          27.51492243,
          28.05457761,
          29.03167341,
          28.5854649,
          27.08808014,
          27.99611732,
          27.87317436,
          28.96586565,
          28.87726019,
          29.17052093,
          29.34033587,
          29.07265321,
          28.68275966,
          28.92705913,
          27.99901833,
          27.59350075,
          29.87331077,
          28.55852465,
          29.19378695,
          27.98780984,
          28.05380704,
          27.350629600000005,
          29.34081108,
          28.61475136,
          27.04863538,
          29.5275305,
          28.50416396,
          28.89578588,
          27.04927452,
          28.96017885
         ],
         "xaxis": "x",
         "y": [
          94.11878202,
          93.03555162,
          94.22237826,
          90.83130708,
          94.55695552,
          93.25103208,
          92.21405224,
          90.06998135,
          90.35567642,
          94.26765349,
          92.09688432,
          90.97685539,
          90.73891887,
          94.79453182,
          90.38971208,
          91.21322065,
          94.30111601,
          91.66737633,
          94.16748386,
          92.58862544,
          92.86798698,
          93.92217834,
          93.61870344,
          92.43510994,
          92.91440379,
          92.12543021,
          90.10051615,
          90.36881284,
          90.93897939,
          92.92367701,
          94.29753295,
          90.78413842,
          93.88482153,
          91.33617236,
          90.69759008,
          90.75284363,
          90.02696201,
          90.70937262,
          93.76312893,
          91.72742702,
          94.86907886,
          91.60666594,
          91.82172592,
          90.56698742,
          92.00687531,
          94.30759855,
          90.97015715,
          92.91778307,
          91.78336933,
          90.53330091,
          94.87679041,
          94.72981338,
          92.51054946,
          91.52291141,
          93.56161439,
          92.12534736,
          92.17444796,
          91.07574233,
          90.77069618,
          90.14362622,
          90.80015308,
          90.79007335,
          93.22980899,
          93.90741192,
          91.47355778,
          94.0371147,
          92.91185695,
          94.65343534,
          92.86597437,
          90.33698678,
          94.96218673,
          94.81637388,
          93.12603235,
          91.89216849,
          93.42402083,
          90.84660317,
          91.14849627,
          90.71832938,
          92.48839665,
          94.19790371,
          90.01506395,
          91.91533173,
          92.50969311,
          91.39356832,
          91.64193051,
          91.79742953,
          90.60932469,
          90.45773041,
          91.46241065,
          92.78226196,
          91.81758779,
          94.29119509999998,
          94.5513539,
          94.22253035,
          91.34685096,
          94.57459443,
          93.46806467,
          94.78993038,
          91.3821731,
          91.69532178
         ],
         "yaxis": "y"
        },
        {
         "hovertemplate": "label=apple<br>temperature=%{x}<br>humidity=%{y}<extra></extra>",
         "legendgroup": "apple",
         "marker": {
          "color": "#19d3f3",
          "symbol": "circle"
         },
         "mode": "markers",
         "name": "apple",
         "showlegend": true,
         "type": "scattergl",
         "x": [
          22.75088787,
          23.8494014,
          22.60800988,
          21.18667419,
          23.41044706,
          22.86006627,
          22.48403042,
          22.02775403,
          21.91191314,
          23.71059131,
          21.37784654,
          22.84852833,
          23.1094265,
          23.25230817,
          23.67287749,
          23.76881552,
          23.34386401,
          22.63946441,
          22.45696744,
          22.96388477,
          21.07273439,
          22.44075021,
          22.71271308,
          21.70416965,
          22.43324518,
          21.25941052,
          22.9215706,
          22.81212536,
          21.12152071,
          21.11478672,
          23.59997268,
          23.12652652,
          22.98458907,
          22.12659387,
          22.53779727,
          22.49095104,
          22.35548159,
          22.20700989,
          22.44516988,
          22.76643029,
          22.19109412,
          23.6119202,
          23.86087054,
          21.42177231,
          22.36629253,
          23.99686172,
          21.80129837,
          23.80436344,
          23.71475278,
          23.34467359,
          22.31253665,
          23.50201428,
          23.46260321,
          23.06204373,
          22.47420512,
          22.69780133,
          23.66682067,
          22.50050273,
          23.83053666,
          23.64142354,
          21.41363812,
          22.85267372,
          22.98208095,
          21.19909519,
          23.87192332,
          21.0365275,
          22.61711614,
          21.45278675,
          22.81227579,
          21.98141856,
          22.52709326,
          22.35628673,
          21.19852186,
          23.8812458,
          22.78234161,
          22.19055385,
          22.91430043,
          23.08950736,
          21.72484506,
          22.44307715,
          21.1316077,
          22.71750705,
          23.75033085,
          23.76121837,
          22.13450646,
          21.17089176,
          22.36238282,
          22.77856513,
          21.22503442,
          23.15791104,
          22.42776057,
          23.64082979,
          22.29423493,
          23.35225078,
          22.03911546,
          23.80593812,
          22.31944084,
          22.14464104,
          23.65167552,
          22.16939473
         ],
         "xaxis": "x",
         "y": [
          90.69489172,
          94.34814995,
          94.58900601,
          91.13435689,
          91.69913296,
          93.12859895,
          93.40819246,
          92.96129462,
          91.68748063,
          93.27392415,
          92.72043743,
          94.32130209,
          92.79630809,
          94.54128292,
          90.4935574,
          90.59810302,
          91.47684705,
          90.18451645,
          94.76285385,
          93.58065995,
          93.56585985,
          92.70785115,
          90.45261746,
          93.44006288,
          92.48667725,
          92.84416234,
          94.89613443,
          91.51861705,
          90.6878768,
          90.31528693,
          90.97597665,
          94.71203306,
          93.3204487,
          90.97818277,
          91.48135786,
          91.70292746,
          94.47811755,
          93.50574163,
          94.73763514,
          92.12438519,
          90.02575116,
          91.70293849,
          94.92048112,
          92.62665309,
          90.78572467,
          91.61001707,
          92.73446667,
          92.80441624,
          91.53331177,
          90.37981478,
          90.03577124,
          92.21083961,
          91.45665004,
          92.39544055,
          91.22759742,
          92.82223419,
          93.90191078,
          92.45878335,
          90.84422164,
          93.74461474,
          92.99124545,
          94.57645809999998,
          93.84505029,
          90.80819418,
          90.49939035,
          94.33919546,
          93.51978375,
          90.74531921,
          92.12992101,
          91.12719303,
          92.54780429,
          91.92360477,
          92.15595143,
          93.45067555,
          94.36803516,
          92.43764169,
          90.70475565,
          90.22507299,
          92.83975602,
          91.59234006,
          91.95769858,
          92.25479855,
          92.88160462,
          93.661643,
          94.67695747,
          90.23730166,
          91.15761594,
          92.70124029,
          90.09877774,
          90.34396882,
          93.91722423,
          90.95257927,
          90.69033986,
          90.90054697,
          94.58075845,
          92.48879468,
          90.85174383,
          93.82567435,
          94.50528753,
          90.27185592
         ],
         "yaxis": "y"
        },
        {
         "hovertemplate": "label=orange<br>temperature=%{x}<br>humidity=%{y}<extra></extra>",
         "legendgroup": "orange",
         "marker": {
          "color": "#FF6692",
          "symbol": "diamond"
         },
         "mode": "markers",
         "name": "orange",
         "showlegend": true,
         "type": "scattergl",
         "x": [
          15.78144173,
          26.03097313,
          13.36050601,
          18.87957654,
          29.47741671,
          28.06903173,
          25.66901098,
          29.77149434,
          30.55472573,
          23.96147583,
          23.98289638,
          25.26052689,
          31.08368929,
          14.78003032,
          26.56608303,
          24.85903405,
          34.51465139,
          24.12188673,
          23.85340379,
          24.60297538,
          15.63211033,
          19.33516809,
          28.2620488,
          22.67594476,
          21.03200078,
          33.23453301,
          22.30318989,
          11.50322938,
          14.34320488,
          33.105698100000005,
          30.49183837,
          30.25578031,
          12.22816189,
          10.01081312,
          22.79196751,
          20.18432263,
          30.72119881,
          24.35590861,
          21.21306973,
          10.78689755,
          11.89925671,
          22.56664172,
          18.86883219,
          17.34083741,
          34.90665289,
          24.53610067,
          13.8377282,
          22.3551049,
          34.74004942,
          11.54785707,
          23.13338811,
          29.98364695,
          20.87947369,
          17.24944623,
          15.83388699,
          23.01014302,
          16.39624284,
          24.45132792,
          31.87859192,
          31.34920143,
          18.05142392,
          30.84835031,
          22.45616931,
          13.70319166,
          20.48954522,
          13.20844373,
          32.31944397,
          20.68185224,
          31.52675982,
          25.35467646,
          17.66545409,
          12.59093977,
          11.86631922,
          11.03367937,
          25.2990432,
          32.23797837,
          17.68408797,
          10.2708877,
          17.22034507,
          19.667056,
          10.35609594,
          27.255435,
          34.591784600000004,
          32.39523995,
          10.16431299,
          21.49118657,
          16.53460397,
          31.852069399999998,
          28.04799508,
          31.75048899,
          29.07412717,
          19.14381903,
          16.14820285,
          34.05296914,
          34.51423957,
          32.71748548,
          25.16296632,
          27.68167318,
          21.35093384,
          11.69894639
         ],
         "xaxis": "x",
         "y": [
          92.51077745,
          91.50819306,
          91.35608208,
          92.04304496,
          91.57802915,
          92.91487288,
          92.04670813,
          92.00719952,
          90.90343769,
          90.26408017,
          91.5473145,
          90.31153735,
          90.14362642,
          91.22062116,
          94.45239715,
          94.39000473,
          93.63812684,
          90.72351622,
          90.10522549,
          91.28408653,
          94.25966183,
          91.97978938,
          91.98317355,
          93.36348717,
          92.9641969,
          91.06053924,
          92.15987039,
          94.8933184,
          94.35734702,
          93.48447453,
          90.4582865,
          92.03272799,
          90.26457428,
          90.22399223,
          90.60901895,
          90.65458473,
          94.01331956,
          92.39651663,
          91.35349216,
          91.38411917,
          91.34663797,
          93.37488907,
          93.24688124,
          93.04897191,
          92.87820148,
          91.90997228,
          91.74780462,
          93.52211892,
          93.12316972,
          94.14861001,
          91.94670335,
          94.55239717,
          90.93756231,
          91.13772765,
          91.68293851,
          91.11764246,
          92.18151927,
          93.10527686,
          91.15248149,
          91.48247612,
          90.03969587,
          92.86773675,
          91.52781832,
          90.95589386,
          93.72485075,
          94.02769434,
          93.67804556,
          90.91510525,
          90.50621806,
          91.81183218,
          91.69865887,
          91.81668769,
          93.68394562,
          92.22706805,
          94.96419851,
          90.15406807,
          94.35815354,
          90.19147747,
          94.78797376,
          90.50096668,
          93.75652041,
          91.71369387,
          92.13229786,
          94.51768464,
          91.22320999,
          93.43949693,
          94.76759975,
          90.12220323,
          90.00621688,
          94.59551226,
          93.27189064,
          90.71037456,
          91.4448027,
          92.05811721,
          90.56151463,
          90.54608254,
          92.54736032,
          94.47316879,
          90.9492967,
          93.25638873
         ],
         "yaxis": "y"
        },
        {
         "hovertemplate": "label=papaya<br>temperature=%{x}<br>humidity=%{y}<extra></extra>",
         "legendgroup": "papaya",
         "marker": {
          "color": "#B6E880",
          "symbol": "square"
         },
         "mode": "markers",
         "name": "papaya",
         "showlegend": true,
         "type": "scattergl",
         "x": [
          35.21462816,
          42.39413392,
          38.4191628,
          35.33294932,
          42.92325255,
          33.83508569,
          33.20258348,
          23.48546973,
          29.33710543,
          40.21199348,
          42.13473976,
          32.86316618,
          29.80744318,
          31.56213762,
          36.32268069,
          37.13165026,
          38.4418717,
          32.66160599,
          27.92765919,
          39.01793345,
          32.51247398,
          38.72382798,
          43.30204933,
          27.58548913,
          40.78881819,
          23.19451074,
          32.68067385,
          34.28879307,
          39.30050027,
          39.73149053,
          39.23342464,
          27.34734861,
          40.76998685,
          26.26559543,
          28.12971499,
          34.2804607,
          33.7960155,
          31.53243779,
          42.30495821,
          24.63676897,
          28.28222883,
          24.48620746,
          42.84609252,
          43.67549305,
          42.07213781,
          33.46873719,
          31.7018373,
          41.41968393,
          42.54744013,
          28.91842453,
          43.08022702,
          29.20300896,
          41.04224355,
          25.62446619,
          35.32876402,
          24.42561272,
          31.18298415,
          31.88342554,
          42.93368602,
          23.11407669,
          24.87212063,
          43.36051537,
          26.83054058,
          30.42012134,
          28.64555584,
          32.50037548,
          43.03714283,
          30.10773379,
          23.69212243,
          35.67667332,
          27.71948962,
          35.26824831,
          23.16855863,
          33.08706051,
          37.4620912,
          38.73218907,
          32.57720726,
          38.38231475,
          42.93605359,
          25.65492304,
          37.58899717,
          29.60718808,
          25.34756111,
          25.9300384,
          32.76795887,
          29.02328049,
          40.00439101,
          33.32315744,
          31.22790131,
          26.68386496,
          24.70528368,
          38.2016825,
          36.56769731,
          26.05375792,
          31.29986342,
          40.10207731,
          38.58954491,
          41.31330062,
          37.03551903,
          23.012401800000006
         ],
         "xaxis": "x",
         "y": [
          91.49725058,
          90.79028064,
          91.14220381,
          92.11508608,
          90.07600528,
          92.85470152,
          92.76437927,
          93.71043692,
          90.81781439,
          94.50766912,
          91.70445386,
          91.4618874,
          91.38048469,
          93.0484859,
          93.06134398,
          94.60761797,
          93.63739039,
          90.78931681,
          91.55594211,
          91.48815629,
          94.65904123,
          91.72514851,
          92.83405443,
          90.72526502,
          92.90951393,
          91.40301608,
          92.61715632,
          93.61082872,
          94.16193416,
          91.12220596,
          91.25589286,
          94.17756725,
          92.09278584,
          90.79668055,
          93.3210737,
          90.55561637,
          93.00754254,
          90.87394933,
          90.51431779,
          90.61964344,
          91.37059792,
          92.98254537,
          94.63548176,
          93.10887229,
          92.92203105,
          92.12746225,
          91.66232213,
          90.03863107,
          94.94482086,
          94.63676767,
          93.90305729,
          93.96834049,
          91.37258067,
          93.18240298,
          91.06138506,
          92.27749066,
          90.21646909,
          91.3256535,
          91.1756748,
          94.31994776,
          93.90560147,
          93.35191636,
          90.75379971,
          93.12659793,
          93.22642604,
          93.47888842,
          94.6428898,
          90.34546355,
          93.61055571,
          93.30641944,
          94.43877142,
          92.38282957,
          90.78821158,
          92.25197542,
          90.44967809,
          94.73613484,
          92.74889453,
          93.10378595,
          90.09448142,
          92.74501561,
          91.99740365,
          93.15642801,
          93.02871078,
          93.02357765,
          94.57377401,
          90.20396783,
          90.17015833,
          91.25271223,
          94.94021378,
          92.9585411,
          90.14732171,
          93.97379963,
          93.79503425,
          93.69111672,
          92.76039164,
          94.35110201,
          91.58076549,
          91.1508798,
          91.79430166,
          91.07355541
         ],
         "yaxis": "y"
        },
        {
         "hovertemplate": "label=coconut<br>temperature=%{x}<br>humidity=%{y}<extra></extra>",
         "legendgroup": "coconut",
         "marker": {
          "color": "#FF97FF",
          "symbol": "x"
         },
         "mode": "markers",
         "name": "coconut",
         "showlegend": true,
         "type": "scattergl",
         "x": [
          26.762749300000007,
          25.61294367,
          28.130115000000004,
          25.02887163,
          27.79797651,
          29.25902906,
          27.10134661,
          25.84726298,
          26.58580443,
          28.38503882,
          28.43647052,
          28.27298134,
          27.00648436,
          27.63551259,
          26.29644905,
          27.1326009,
          25.56567803,
          25.94951662,
          28.03380598,
          29.12859129,
          27.0828252,
          28.11321494,
          27.5136304,
          27.63834933,
          29.01256899,
          26.58413917,
          28.28905147,
          28.69164799,
          29.70931288,
          27.14865285,
          29.28725038,
          25.06871967,
          26.92449525,
          28.27804288,
          29.18032562,
          28.3575072,
          29.38072512,
          25.39241091,
          26.31270635,
          29.52501367,
          28.83214859,
          28.48444906,
          28.74013335,
          25.00872392,
          29.8690834,
          27.54273211,
          26.52166434,
          25.03512351,
          29.20394909,
          27.05826457,
          26.18552389,
          27.59376845,
          25.76011662,
          28.87862994,
          26.50908611,
          26.87037587,
          27.57283516,
          28.05912437,
          29.51611558,
          28.96318258,
          25.09897688,
          27.1872282,
          29.03065024,
          27.754298,
          27.31155708,
          28.84270971,
          26.61423461,
          29.70143197,
          25.54759871,
          26.37978453,
          27.45907759,
          27.02269204,
          28.98545306,
          26.1055118,
          25.0707247,
          25.54963273,
          28.56973521,
          26.07010807,
          25.51791333,
          25.9490364,
          28.2974764,
          29.56549169,
          29.69952329,
          26.14162144,
          26.00175125,
          27.15116142,
          28.97318719,
          26.13958446,
          25.51618488,
          27.55821802,
          27.81132822,
          25.60033702,
          26.91641934,
          29.1797902,
          26.44600063,
          28.43572863,
          28.94099669,
          26.45488737,
          25.79490531,
          26.93141945
         ],
         "xaxis": "x",
         "y": [
          92.86056895,
          94.3138837,
          95.64807631,
          91.53720922,
          99.64573002,
          95.11294697,
          93.69979946,
          90.92669463,
          90.98617591,
          99.18843684,
          91.81320717,
          96.93649473,
          96.46168931,
          99.34854917,
          99.65809151,
          95.23797989,
          97.61361544,
          93.40548703,
          95.01630593,
          91.30924833,
          97.00155491,
          90.01734526,
          94.18955816,
          95.48763389,
          94.01014388,
          95.78923137,
          97.00396405,
          96.65248672,
          96.30484325,
          96.66355213,
          91.95614918,
          93.31410447,
          91.20106019,
          93.64761266,
          92.73041222,
          91.64509299,
          93.27565685,
          98.08951196,
          98.62048026,
          91.91185319,
          92.17170353,
          97.76865458,
          93.39676499,
          95.59224018,
          91.14723422,
          94.59086121,
          98.38227669,
          95.89739958,
          95.66997327,
          91.10510371,
          96.96637916,
          92.48519606,
          94.65830608,
          95.11320315,
          94.48414544,
          91.72546257,
          94.90485697,
          98.3670985,
          92.56492864,
          95.16333673,
          92.36099489,
          92.19906776,
          90.79093862,
          95.94643831,
          99.96906006,
          99.64328526,
          96.97300803,
          95.65754365,
          91.64194826,
          91.49882979,
          92.90736493,
          95.71935435,
          90.73966792,
          91.52421214,
          95.02156793,
          96.92786777,
          95.67906668,
          96.7036223,
          94.38420565,
          94.73860514,
          95.41122824,
          91.40896307,
          95.21224392,
          93.28415295,
          94.79998418,
          91.48889469,
          98.09861043,
          96.38580769,
          94.33465411,
          99.98187601,
          97.48410555,
          99.7240104,
          99.84671638,
          90.27214288,
          98.29937782,
          95.8840407,
          93.00109012,
          93.45042636,
          93.84150618,
          98.80313612
         ],
         "yaxis": "y"
        },
        {
         "hovertemplate": "label=cotton<br>temperature=%{x}<br>humidity=%{y}<extra></extra>",
         "legendgroup": "cotton",
         "marker": {
          "color": "#FECB52",
          "symbol": "cross"
         },
         "mode": "markers",
         "name": "cotton",
         "showlegend": true,
         "type": "scattergl",
         "x": [
          24.40228894,
          23.09595631,
          23.9656349,
          24.88738107,
          25.36243778,
          24.69457084,
          25.0017188,
          22.45942937,
          23.60564038,
          24.58453146,
          23.0865933,
          23.5000992,
          24.1472953,
          24.69315538,
          24.48469200000001,
          24.49112609,
          23.47986888,
          24.18586246,
          25.00755095,
          25.99237426,
          23.66457347,
          25.66891439,
          22.04612876,
          22.4204752,
          25.03149561,
          23.53371386,
          22.77076388,
          25.49848236,
          25.248679,
          22.78249615,
          23.37044424,
          24.86560781,
          24.14386157,
          25.03300222,
          23.65724079,
          25.54359718,
          22.00085141,
          23.64328417,
          23.96436009,
          24.65425757,
          24.3017998,
          24.29144926,
          24.29470232,
          25.72180042,
          24.87663664,
          22.60612115,
          23.86814008,
          23.41022496,
          24.96440768,
          25.16820129,
          22.72767171,
          22.45145981,
          23.04920461,
          25.29250148,
          22.95604064,
          22.80213132,
          23.54234715,
          24.41212325,
          22.94276687,
          25.53676123,
          25.32023717,
          22.426733,
          25.78544484,
          25.68959532,
          22.14593688,
          25.07278712,
          22.21506982,
          23.9643129,
          25.40059227,
          23.7805123,
          24.16402322,
          25.31468463,
          22.60361557,
          22.9535715,
          22.74446976,
          23.80834611,
          25.46228792,
          25.96779712,
          25.5308271,
          24.43847399,
          23.03887865,
          23.51308653,
          22.75805656,
          24.71252544,
          23.45969093,
          25.5503704,
          22.08458267,
          24.68854799,
          25.84997269,
          22.46054478,
          23.65629976,
          22.00817088,
          24.32630461,
          22.92360984,
          23.43821725,
          22.10718988,
          23.03814028,
          24.54795322,
          23.73868041,
          22.31871914
         ],
         "xaxis": "x",
         "y": [
          79.19732001,
          84.86275707,
          76.97696717,
          75.62137159,
          83.63276077,
          81.7358876,
          80.53965818,
          81.30681027,
          79.29573149,
          79.12404171,
          83.55546146,
          83.63488952,
          75.88298598,
          84.84422454,
          84.44932014,
          82.24415809,
          81.73049149,
          76.04203958,
          78.17952126,
          77.0543546,
          81.69105088,
          81.38103349,
          84.62978302,
          84.55794703,
          82.21276599,
          77.21705554,
          82.5993307,
          79.9751579,
          83.4630147,
          77.51235009,
          77.43198948,
          78.22080815,
          84.51591287,
          79.04368718,
          84.47601498,
          84.09229796,
          79.47270984,
          78.1258666,
          78.02763149,
          75.6350708,
          84.87668973,
          81.02453404,
          84.61527627,
          81.19666206,
          76.30050373,
          77.34264002,
          75.68339729,
          76.43836957,
          81.31677618,
          80.30351815,
          77.07598065,
          76.25674874,
          75.53835214,
          75.66653335,
          82.33733678,
          84.14668447,
          75.98203329,
          80.80343786,
          75.37170612,
          81.13668716,
          81.79475917,
          81.53480799,
          75.00539324,
          77.90621048,
          82.85975490000001,
          82.50257909,
          76.17851932,
          76.59175937,
          76.53237965,
          83.03878838,
          76.7433897,
          77.91757121,
          80.35090459999998,
          78.71555832,
          80.41198458,
          83.91902605,
          81.56641891,
          81.97904282,
          80.04662756,
          81.69801729,
          76.47039772,
          76.72621429,
          76.75768356,
          77.7293114,
          82.44777468,
          77.85055621,
          82.82904143,
          78.51206972,
          84.16855231,
          75.40989245,
          77.52425987,
          81.83896111,
          80.13456404,
          82.68738535,
          78.63388824,
          78.58320116,
          76.11021529,
          75.39752705,
          75.77503808,
          83.86129998
         ],
         "yaxis": "y"
        },
        {
         "hovertemplate": "label=jute<br>temperature=%{x}<br>humidity=%{y}<extra></extra>",
         "legendgroup": "jute",
         "marker": {
          "color": "#636efa",
          "symbol": "circle"
         },
         "mode": "markers",
         "name": "jute",
         "showlegend": true,
         "type": "scattergl",
         "x": [
          25.52468965,
          26.59104992,
          25.29781791,
          25.72100868,
          23.58419277,
          25.31042337,
          23.41798979,
          24.35564134,
          26.284017,
          25.13842773,
          24.88692811,
          25.75734909,
          23.12844351,
          24.9949957,
          25.21622704,
          24.39736241,
          23.31410442,
          25.72668885,
          26.96656378,
          23.70467146,
          24.90075709,
          23.39605743,
          26.8748389,
          23.1426498,
          24.29496635,
          24.39459498,
          25.7629429,
          25.4879684,
          25.37122686,
          26.21312799,
          24.30748599,
          23.76554749,
          24.79853023,
          23.20683504,
          23.66805429,
          25.12417673,
          23.89069041,
          23.09433785,
          24.21744605,
          24.06475727,
          24.85441411,
          26.41915161,
          24.89326318,
          23.25583402,
          24.7634518,
          24.97042599,
          26.12797248,
          25.97825807,
          26.2830571,
          26.38905406,
          25.2746335,
          23.09499564,
          25.79351957,
          23.17403323,
          25.63215038,
          25.84879500000001,
          26.56767277,
          26.24532085,
          26.91515043,
          24.36972377,
          25.71901283,
          25.01157559,
          25.40785911,
          23.28081,
          23.98651719,
          24.48556447,
          25.86705009,
          23.5643831,
          24.2248758,
          25.49386782,
          24.97178693,
          24.80624984,
          23.16814977,
          24.25133493,
          26.58361011,
          26.82489244,
          25.49674786,
          24.09874353,
          23.18866654,
          26.24347471,
          23.75091572,
          26.13871511,
          26.14576648,
          26.91643698,
          26.5232969,
          23.81579631,
          26.50838667,
          26.63952463,
          23.325013100000003,
          26.47549543,
          23.78756036,
          25.49941707,
          23.24925555,
          26.98582182,
          23.61475336,
          23.87484465,
          23.92887902,
          24.81441246,
          24.44743944,
          26.57421679
         ],
         "xaxis": "x",
         "y": [
          72.24850829,
          82.94164078,
          86.88705350000002,
          88.16513579,
          72.00460848,
          72.01364411,
          85.08640476,
          88.80391021,
          75.14640198,
          83.12053888,
          71.91711523,
          88.36668522,
          74.68322732,
          88.95692783,
          70.88259632,
          79.26861738,
          71.4509053,
          81.86171563,
          78.21047693,
          74.63745355,
          73.84186449,
          72.60512854,
          79.78725152,
          74.99739774,
          77.62976013,
          89.89106506,
          80.76238215,
          84.48235878,
          76.2403666,
          81.70476368,
          78.54340987,
          87.98329901,
          78.53037059,
          74.09956958,
          70.89000744,
          85.72530641,
          83.46409075,
          81.45139295,
          82.85284045,
          71.31342851,
          74.44070479999998,
          76.85691248,
          77.01222585,
          82.7015932,
          87.06071115,
          78.62697699,
          80.49172597,
          81.65769588,
          73.35763537,
          83.31240346,
          73.7459581,
          78.45959697,
          81.76904006,
          87.88255345,
          79.95150917,
          87.81661683,
          80.90424543,
          72.97198375,
          73.19897535,
          82.11319791,
          79.15532398,
          88.33130229999998,
          76.44048625,
          74.27607475,
          82.09053379,
          83.20630007,
          84.09985284,
          79.46283115,
          74.89465426,
          86.97061481,
          79.47557931,
          82.09281674,
          76.66724969,
          89.86454053,
          78.00774772,
          78.20392774,
          81.13449097,
          80.57226761,
          86.20899734,
          78.51063754,
          71.14782585,
          79.1188943,
          71.23690851,
          73.48655995,
          77.17331847,
          80.94023552,
          86.84264005,
          70.95705996,
          79.79609448,
          73.96164569,
          74.36794079,
          75.99987588,
          73.65346838,
          89.05587886,
          86.14290267,
          86.79261344,
          88.07112278,
          81.68688879,
          82.286484,
          73.81994896
         ],
         "yaxis": "y"
        },
        {
         "hovertemplate": "label=coffee<br>temperature=%{x}<br>humidity=%{y}<extra></extra>",
         "legendgroup": "coffee",
         "marker": {
          "color": "#EF553B",
          "symbol": "diamond"
         },
         "mode": "markers",
         "name": "coffee",
         "showlegend": true,
         "type": "scattergl",
         "x": [
          26.33377983,
          26.45288458,
          25.70822684,
          24.12832546,
          23.44372334,
          23.4123707,
          23.05951896,
          23.07895447,
          27.6496114,
          25.46743689,
          26.7350622,
          26.20811417,
          27.0424167,
          24.65090184,
          27.35152643,
          25.17787724,
          23.11438731,
          27.22783677,
          23.26316991,
          25.234661,
          25.59535262,
          25.5674832,
          25.67324193,
          24.40726724,
          23.69287069,
          24.53460016,
          27.13140403,
          27.56088634,
          23.59302313,
          23.17714381,
          24.71384065,
          24.38534644,
          27.15998538,
          26.53543168,
          27.01207284,
          27.55906475,
          23.32293161,
          24.23850608,
          23.42611644,
          26.02241444,
          24.83846178,
          26.24092174,
          24.43011925,
          26.00373964,
          26.22367404,
          27.09617155,
          25.64004392,
          27.74576987,
          26.24928198,
          26.67377159,
          27.10210397,
          27.62975458,
          27.536454700000004,
          23.56960509,
          24.99451759,
          27.56441788,
          23.98143338,
          24.22984659,
          25.60153969,
          24.31274458,
          26.36629861,
          26.5602777,
          26.35034208,
          25.20406808,
          23.35723208,
          23.60567546,
          24.18471151,
          26.44414097,
          26.12492233,
          27.77363343,
          25.55656667,
          27.92374437,
          26.05968403,
          26.35770906,
          24.91370487,
          27.31317116,
          26.1387869,
          23.1069385,
          23.52648086,
          25.11711046,
          24.02952505,
          26.70897548,
          26.71717393,
          24.59245684,
          27.51006055,
          27.57847581,
          26.65069302,
          26.97251562,
          23.17124551,
          23.52652084,
          27.30901814,
          27.54823036,
          25.627355,
          23.29250318,
          24.91461008,
          26.77463708,
          27.41711238,
          24.13179691,
          26.2724184,
          23.60301571
         ],
         "xaxis": "x",
         "y": [
          57.36469955,
          55.32222678,
          52.88667115,
          56.18107663,
          60.39523266,
          52.26994674,
          50.40609436,
          63.65861483,
          51.11044023,
          69.35161206,
          55.55164819,
          52.50987966,
          57.27927475,
          51.93952357,
          55.99375012,
          62.26244581,
          68.00096043,
          52.95261751,
          60.51600210000001,
          57.53161469,
          57.72920846,
          60.49244602,
          51.29043632,
          62.65692638,
          66.76090123,
          66.99765375,
          52.89368299,
          68.49299897,
          55.27564977,
          52.13864034,
          51.29142534,
          64.72543073,
          51.59100753,
          67.09608099,
          60.76645256,
          58.45742907,
          53.00366334,
          54.30329632,
          64.10651528,
          55.83288958,
          56.7685316,
          65.64381357,
          66.02411187,
          62.144510200000006,
          62.26594559,
          63.55324262,
          61.03273481,
          54.36976075,
          54.28617819,
          52.24226285,
          55.74973320000001,
          61.26002598,
          55.51673151,
          50.56339727,
          57.93250202,
          54.41094079,
          61.10935084,
          67.37768353,
          68.66257977,
          53.57285558,
          52.25738495,
          57.1621814,
          58.50650238,
          57.88370456,
          55.18792166,
          59.68849145,
          69.94807345,
          53.83876189,
          63.37479229,
          64.47858698,
          62.67087838,
          67.96910852,
          52.31098539,
          64.57578034,
          54.15319242,
          68.42333909999999,
          52.26311691,
          67.06230539,
          68.44030686,
          68.48030408,
          58.84880599,
          69.71184111,
          50.50148528,
          56.46829641,
          50.66687215,
          58.52534263,
          57.56695719,
          62.0183627,
          52.97841162,
          65.44340921,
          55.196224,
          62.88179198,
          57.04151119,
          50.04557009,
          53.74144743,
          66.4132686,
          56.63636248,
          67.22512329,
          52.12739421,
          60.39647474
         ],
         "yaxis": "y"
        }
       ],
       "layout": {
        "legend": {
         "title": {
          "text": "label"
         },
         "tracegroupgap": 0
        },
        "margin": {
         "t": 60
        },
        "template": {
         "data": {
          "bar": [
           {
            "error_x": {
             "color": "#2a3f5f"
            },
            "error_y": {
             "color": "#2a3f5f"
            },
            "marker": {
             "line": {
              "color": "#E5ECF6",
              "width": 0.5
             },
             "pattern": {
              "fillmode": "overlay",
              "size": 10,
              "solidity": 0.2
             }
            },
            "type": "bar"
           }
          ],
          "barpolar": [
           {
            "marker": {
             "line": {
              "color": "#E5ECF6",
              "width": 0.5
             },
             "pattern": {
              "fillmode": "overlay",
              "size": 10,
              "solidity": 0.2
             }
            },
            "type": "barpolar"
           }
          ],
          "carpet": [
           {
            "aaxis": {
             "endlinecolor": "#2a3f5f",
             "gridcolor": "white",
             "linecolor": "white",
             "minorgridcolor": "white",
             "startlinecolor": "#2a3f5f"
            },
            "baxis": {
             "endlinecolor": "#2a3f5f",
             "gridcolor": "white",
             "linecolor": "white",
             "minorgridcolor": "white",
             "startlinecolor": "#2a3f5f"
            },
            "type": "carpet"
           }
          ],
          "choropleth": [
           {
            "colorbar": {
             "outlinewidth": 0,
             "ticks": ""
            },
            "type": "choropleth"
           }
          ],
          "contour": [
           {
            "colorbar": {
             "outlinewidth": 0,
             "ticks": ""
            },
            "colorscale": [
             [
              0,
              "#0d0887"
             ],
             [
              0.1111111111111111,
              "#46039f"
             ],
             [
              0.2222222222222222,
              "#7201a8"
             ],
             [
              0.3333333333333333,
              "#9c179e"
             ],
             [
              0.4444444444444444,
              "#bd3786"
             ],
             [
              0.5555555555555556,
              "#d8576b"
             ],
             [
              0.6666666666666666,
              "#ed7953"
             ],
             [
              0.7777777777777778,
              "#fb9f3a"
             ],
             [
              0.8888888888888888,
              "#fdca26"
             ],
             [
              1,
              "#f0f921"
             ]
            ],
            "type": "contour"
           }
          ],
          "contourcarpet": [
           {
            "colorbar": {
             "outlinewidth": 0,
             "ticks": ""
            },
            "type": "contourcarpet"
           }
          ],
          "heatmap": [
           {
            "colorbar": {
             "outlinewidth": 0,
             "ticks": ""
            },
            "colorscale": [
             [
              0,
              "#0d0887"
             ],
             [
              0.1111111111111111,
              "#46039f"
             ],
             [
              0.2222222222222222,
              "#7201a8"
             ],
             [
              0.3333333333333333,
              "#9c179e"
             ],
             [
              0.4444444444444444,
              "#bd3786"
             ],
             [
              0.5555555555555556,
              "#d8576b"
             ],
             [
              0.6666666666666666,
              "#ed7953"
             ],
             [
              0.7777777777777778,
              "#fb9f3a"
             ],
             [
              0.8888888888888888,
              "#fdca26"
             ],
             [
              1,
              "#f0f921"
             ]
            ],
            "type": "heatmap"
           }
          ],
          "heatmapgl": [
           {
            "colorbar": {
             "outlinewidth": 0,
             "ticks": ""
            },
            "colorscale": [
             [
              0,
              "#0d0887"
             ],
             [
              0.1111111111111111,
              "#46039f"
             ],
             [
              0.2222222222222222,
              "#7201a8"
             ],
             [
              0.3333333333333333,
              "#9c179e"
             ],
             [
              0.4444444444444444,
              "#bd3786"
             ],
             [
              0.5555555555555556,
              "#d8576b"
             ],
             [
              0.6666666666666666,
              "#ed7953"
             ],
             [
              0.7777777777777778,
              "#fb9f3a"
             ],
             [
              0.8888888888888888,
              "#fdca26"
             ],
             [
              1,
              "#f0f921"
             ]
            ],
            "type": "heatmapgl"
           }
          ],
          "histogram": [
           {
            "marker": {
             "pattern": {
              "fillmode": "overlay",
              "size": 10,
              "solidity": 0.2
             }
            },
            "type": "histogram"
           }
          ],
          "histogram2d": [
           {
            "colorbar": {
             "outlinewidth": 0,
             "ticks": ""
            },
            "colorscale": [
             [
              0,
              "#0d0887"
             ],
             [
              0.1111111111111111,
              "#46039f"
             ],
             [
              0.2222222222222222,
              "#7201a8"
             ],
             [
              0.3333333333333333,
              "#9c179e"
             ],
             [
              0.4444444444444444,
              "#bd3786"
             ],
             [
              0.5555555555555556,
              "#d8576b"
             ],
             [
              0.6666666666666666,
              "#ed7953"
             ],
             [
              0.7777777777777778,
              "#fb9f3a"
             ],
             [
              0.8888888888888888,
              "#fdca26"
             ],
             [
              1,
              "#f0f921"
             ]
            ],
            "type": "histogram2d"
           }
          ],
          "histogram2dcontour": [
           {
            "colorbar": {
             "outlinewidth": 0,
             "ticks": ""
            },
            "colorscale": [
             [
              0,
              "#0d0887"
             ],
             [
              0.1111111111111111,
              "#46039f"
             ],
             [
              0.2222222222222222,
              "#7201a8"
             ],
             [
              0.3333333333333333,
              "#9c179e"
             ],
             [
              0.4444444444444444,
              "#bd3786"
             ],
             [
              0.5555555555555556,
              "#d8576b"
             ],
             [
              0.6666666666666666,
              "#ed7953"
             ],
             [
              0.7777777777777778,
              "#fb9f3a"
             ],
             [
              0.8888888888888888,
              "#fdca26"
             ],
             [
              1,
              "#f0f921"
             ]
            ],
            "type": "histogram2dcontour"
           }
          ],
          "mesh3d": [
           {
            "colorbar": {
             "outlinewidth": 0,
             "ticks": ""
            },
            "type": "mesh3d"
           }
          ],
          "parcoords": [
           {
            "line": {
             "colorbar": {
              "outlinewidth": 0,
              "ticks": ""
             }
            },
            "type": "parcoords"
           }
          ],
          "pie": [
           {
            "automargin": true,
            "type": "pie"
           }
          ],
          "scatter": [
           {
            "marker": {
             "colorbar": {
              "outlinewidth": 0,
              "ticks": ""
             }
            },
            "type": "scatter"
           }
          ],
          "scatter3d": [
           {
            "line": {
             "colorbar": {
              "outlinewidth": 0,
              "ticks": ""
             }
            },
            "marker": {
             "colorbar": {
              "outlinewidth": 0,
              "ticks": ""
             }
            },
            "type": "scatter3d"
           }
          ],
          "scattercarpet": [
           {
            "marker": {
             "colorbar": {
              "outlinewidth": 0,
              "ticks": ""
             }
            },
            "type": "scattercarpet"
           }
          ],
          "scattergeo": [
           {
            "marker": {
             "colorbar": {
              "outlinewidth": 0,
              "ticks": ""
             }
            },
            "type": "scattergeo"
           }
          ],
          "scattergl": [
           {
            "marker": {
             "colorbar": {
              "outlinewidth": 0,
              "ticks": ""
             }
            },
            "type": "scattergl"
           }
          ],
          "scattermapbox": [
           {
            "marker": {
             "colorbar": {
              "outlinewidth": 0,
              "ticks": ""
             }
            },
            "type": "scattermapbox"
           }
          ],
          "scatterpolar": [
           {
            "marker": {
             "colorbar": {
              "outlinewidth": 0,
              "ticks": ""
             }
            },
            "type": "scatterpolar"
           }
          ],
          "scatterpolargl": [
           {
            "marker": {
             "colorbar": {
              "outlinewidth": 0,
              "ticks": ""
             }
            },
            "type": "scatterpolargl"
           }
          ],
          "scatterternary": [
           {
            "marker": {
             "colorbar": {
              "outlinewidth": 0,
              "ticks": ""
             }
            },
            "type": "scatterternary"
           }
          ],
          "surface": [
           {
            "colorbar": {
             "outlinewidth": 0,
             "ticks": ""
            },
            "colorscale": [
             [
              0,
              "#0d0887"
             ],
             [
              0.1111111111111111,
              "#46039f"
             ],
             [
              0.2222222222222222,
              "#7201a8"
             ],
             [
              0.3333333333333333,
              "#9c179e"
             ],
             [
              0.4444444444444444,
              "#bd3786"
             ],
             [
              0.5555555555555556,
              "#d8576b"
             ],
             [
              0.6666666666666666,
              "#ed7953"
             ],
             [
              0.7777777777777778,
              "#fb9f3a"
             ],
             [
              0.8888888888888888,
              "#fdca26"
             ],
             [
              1,
              "#f0f921"
             ]
            ],
            "type": "surface"
           }
          ],
          "table": [
           {
            "cells": {
             "fill": {
              "color": "#EBF0F8"
             },
             "line": {
              "color": "white"
             }
            },
            "header": {
             "fill": {
              "color": "#C8D4E3"
             },
             "line": {
              "color": "white"
             }
            },
            "type": "table"
           }
          ]
         },
         "layout": {
          "annotationdefaults": {
           "arrowcolor": "#2a3f5f",
           "arrowhead": 0,
           "arrowwidth": 1
          },
          "autotypenumbers": "strict",
          "coloraxis": {
           "colorbar": {
            "outlinewidth": 0,
            "ticks": ""
           }
          },
          "colorscale": {
           "diverging": [
            [
             0,
             "#8e0152"
            ],
            [
             0.1,
             "#c51b7d"
            ],
            [
             0.2,
             "#de77ae"
            ],
            [
             0.3,
             "#f1b6da"
            ],
            [
             0.4,
             "#fde0ef"
            ],
            [
             0.5,
             "#f7f7f7"
            ],
            [
             0.6,
             "#e6f5d0"
            ],
            [
             0.7,
             "#b8e186"
            ],
            [
             0.8,
             "#7fbc41"
            ],
            [
             0.9,
             "#4d9221"
            ],
            [
             1,
             "#276419"
            ]
           ],
           "sequential": [
            [
             0,
             "#0d0887"
            ],
            [
             0.1111111111111111,
             "#46039f"
            ],
            [
             0.2222222222222222,
             "#7201a8"
            ],
            [
             0.3333333333333333,
             "#9c179e"
            ],
            [
             0.4444444444444444,
             "#bd3786"
            ],
            [
             0.5555555555555556,
             "#d8576b"
            ],
            [
             0.6666666666666666,
             "#ed7953"
            ],
            [
             0.7777777777777778,
             "#fb9f3a"
            ],
            [
             0.8888888888888888,
             "#fdca26"
            ],
            [
             1,
             "#f0f921"
            ]
           ],
           "sequentialminus": [
            [
             0,
             "#0d0887"
            ],
            [
             0.1111111111111111,
             "#46039f"
            ],
            [
             0.2222222222222222,
             "#7201a8"
            ],
            [
             0.3333333333333333,
             "#9c179e"
            ],
            [
             0.4444444444444444,
             "#bd3786"
            ],
            [
             0.5555555555555556,
             "#d8576b"
            ],
            [
             0.6666666666666666,
             "#ed7953"
            ],
            [
             0.7777777777777778,
             "#fb9f3a"
            ],
            [
             0.8888888888888888,
             "#fdca26"
            ],
            [
             1,
             "#f0f921"
            ]
           ]
          },
          "colorway": [
           "#636efa",
           "#EF553B",
           "#00cc96",
           "#ab63fa",
           "#FFA15A",
           "#19d3f3",
           "#FF6692",
           "#B6E880",
           "#FF97FF",
           "#FECB52"
          ],
          "font": {
           "color": "#2a3f5f"
          },
          "geo": {
           "bgcolor": "white",
           "lakecolor": "white",
           "landcolor": "#E5ECF6",
           "showlakes": true,
           "showland": true,
           "subunitcolor": "white"
          },
          "hoverlabel": {
           "align": "left"
          },
          "hovermode": "closest",
          "mapbox": {
           "style": "light"
          },
          "paper_bgcolor": "white",
          "plot_bgcolor": "#E5ECF6",
          "polar": {
           "angularaxis": {
            "gridcolor": "white",
            "linecolor": "white",
            "ticks": ""
           },
           "bgcolor": "#E5ECF6",
           "radialaxis": {
            "gridcolor": "white",
            "linecolor": "white",
            "ticks": ""
           }
          },
          "scene": {
           "xaxis": {
            "backgroundcolor": "#E5ECF6",
            "gridcolor": "white",
            "gridwidth": 2,
            "linecolor": "white",
            "showbackground": true,
            "ticks": "",
            "zerolinecolor": "white"
           },
           "yaxis": {
            "backgroundcolor": "#E5ECF6",
            "gridcolor": "white",
            "gridwidth": 2,
            "linecolor": "white",
            "showbackground": true,
            "ticks": "",
            "zerolinecolor": "white"
           },
           "zaxis": {
            "backgroundcolor": "#E5ECF6",
            "gridcolor": "white",
            "gridwidth": 2,
            "linecolor": "white",
            "showbackground": true,
            "ticks": "",
            "zerolinecolor": "white"
           }
          },
          "shapedefaults": {
           "line": {
            "color": "#2a3f5f"
           }
          },
          "ternary": {
           "aaxis": {
            "gridcolor": "white",
            "linecolor": "white",
            "ticks": ""
           },
           "baxis": {
            "gridcolor": "white",
            "linecolor": "white",
            "ticks": ""
           },
           "bgcolor": "#E5ECF6",
           "caxis": {
            "gridcolor": "white",
            "linecolor": "white",
            "ticks": ""
           }
          },
          "title": {
           "x": 0.05
          },
          "xaxis": {
           "automargin": true,
           "gridcolor": "white",
           "linecolor": "white",
           "ticks": "",
           "title": {
            "standoff": 15
           },
           "zerolinecolor": "white",
           "zerolinewidth": 2
          },
          "yaxis": {
           "automargin": true,
           "gridcolor": "white",
           "linecolor": "white",
           "ticks": "",
           "title": {
            "standoff": 15
           },
           "zerolinecolor": "white",
           "zerolinewidth": 2
          }
         }
        },
        "xaxis": {
         "anchor": "y",
         "domain": [
          0,
          1
         ],
         "title": {
          "text": "temperature"
         }
        },
        "yaxis": {
         "anchor": "x",
         "domain": [
          0,
          1
         ],
         "title": {
          "text": "humidity"
         }
        }
       }
      },
      "text/html": [
       "<div>                            <div id=\"8d548b65-d3d5-4ef0-8713-460341de754a\" class=\"plotly-graph-div\" style=\"height:525px; width:100%;\"></div>            <script type=\"text/javascript\">                require([\"plotly\"], function(Plotly) {                    window.PLOTLYENV=window.PLOTLYENV || {};                                    if (document.getElementById(\"8d548b65-d3d5-4ef0-8713-460341de754a\")) {                    Plotly.newPlot(                        \"8d548b65-d3d5-4ef0-8713-460341de754a\",                        [{\"hovertemplate\":\"label=rice<br>temperature=%{x}<br>humidity=%{y}<extra></extra>\",\"legendgroup\":\"rice\",\"marker\":{\"color\":\"#636efa\",\"symbol\":\"circle\"},\"mode\":\"markers\",\"name\":\"rice\",\"showlegend\":true,\"x\":[20.87974371,21.77046169,23.00445915,26.49109635,20.13017482,23.05804872,22.70883798,20.27774362,24.51588066,23.22397386,26.52723513,23.97898217,26.80079604,24.01497622,25.66585205,24.28209415,21.58711777,23.79391957,21.8652524,23.57943626,21.32504158,25.15745531,21.94766735,21.0525355,23.48381344,25.0756354,26.35927159,24.52922681,20.77576147,22.30157427,21.44653958,22.17931888,24.52783742,20.26707606,25.7354293,26.79533926,26.75754171,23.86330467,21.01944696,24.17298839,22.78133816,25.62980105,25.59704938,23.83067496,26.31355498,24.8972823,24.958779,23.24113501,21.66628296,24.63544858,23.43121862,20.0454142,23.85724032,21.97199397,26.22916897,23.44676801,25.65553461,24.44345477,20.2801937,21.7238313,20.41447029,25.75528612,20.61521424,21.84106875,20.08369642,24.45802087,21.14347496,25.78720567,23.64124821,23.43191632,24.97669518,22.72791041,24.87300744,21.32376327,26.29465461,22.2286982,26.73072391,24.88921174,26.88444878,22.67846116,26.08867875,25.42977518,26.40323239,26.04371967,25.2827223,22.08576562,23.28617173,25.48591986,23.67575393,20.82477109,26.92995077,23.83509503,26.52872817,26.46428311,22.69657794,22.68319059,21.53346343,21.40865769,26.54348085,23.35905428],\"xaxis\":\"x\",\"y\":[82.00274423,80.31964408,82.3207629,80.15836264,81.60487287,83.37011772,82.63941394,82.89408619,83.53521629999999,83.03322691,81.41753846,81.45061596,80.88684822,82.05687182,80.66385045,80.30025587,82.7883708,80.41817957,80.1923008,83.58760316,80.47476396,83.11713476,80.97384195,82.67839517,81.33265073,80.52389148,84.04403589,80.54498576,84.49774397,80.64416466,84.94375962,80.33127223,82.73685569,81.63895217,83.88266234,82.1480873,81.17734011,83.15250801,82.95221726,83.7287574,82.06719137,83.52842314,80.14509262,84.81360127,82.36698992,80.52586088,84.47963372,84.59201843,80.70960551,80.41363018,83.06310136,80.3477562,82.22572988,81.89918197,83.83625819,84.79352417,83.47021081,82.45432595,82.1235421,80.2389895,82.20802629,83.51827127,83.77345559,80.72886384,83.29114712,82.74835604,80.33502926,82.11124033,80.28597873,80.56887849,83.891805,82.17068809999998,82.84022551,83.00320459,84.56919326,81.85872947,81.78596776,81.97927117,81.46033732,83.72874389,80.37979919,82.94682591,81.05635517,84.96907151,80.54372813,83.47038318,81.43321641,81.40633547,81.03569343,84.1341879,81.91411159,83.88387074,80.12267476,83.85642678,82.81088865,83.46358271,82.14004101,83.32931909999998,84.67353597,83.59512273],\"yaxis\":\"y\",\"type\":\"scattergl\"},{\"hovertemplate\":\"label=maize<br>temperature=%{x}<br>humidity=%{y}<extra></extra>\",\"legendgroup\":\"maize\",\"marker\":{\"color\":\"#EF553B\",\"symbol\":\"diamond\"},\"mode\":\"markers\",\"name\":\"maize\",\"showlegend\":true,\"x\":[22.61359953,26.10018422,23.55882094,19.97215954,18.47891261,21.77689322,25.6217169,25.19192419,20.41683147,24.92162194,23.31689124,24.84016732,22.27526694,18.87751445,25.19008683,18.25405352,24.612911800000006,25.1420613,23.09348056,18.05033737,24.9321581,18.14710054,18.28362235,18.83344471,25.71895816,25.33797709,23.89114571,21.53574127,23.08974909,25.61707368,21.44526922,18.51816776,22.53510514,23.02038334,24.89364635,25.77175115,19.39851734,21.54156232,23.79746068,18.9802729,24.10859207,24.7947077,21.63162756,25.37548751,22.21738222,20.58314011,24.87502824,20.03728219,25.95263264,19.28889933,20.57981887,24.71417533,20.27317074,18.41932981,23.39128187,19.84939404,21.869274,22.8056033,19.0781471,22.02720976,23.80546189,18.52510753,23.50297882,26.54986394,19.29563411,20.68899915,19.32666088,24.60532218,22.27373646,25.70196694,19.20129357,21.70181447,20.51716779,23.30355338,24.2547451,24.86374934,22.6265115,18.04185513,23.26237612,22.88330922,25.97482359,26.14384005,18.66116213,25.10787449,23.33844615,25.08239719,25.36768364,25.34217103,25.00933355,18.66746724,20.37999665,18.09300227,26.16985907,18.65396672,26.07470121,18.92851916,23.30546753,18.74826712,19.74213321,25.73044432],\"xaxis\":\"x\",\"y\":[63.69070564,71.57476937,71.59351368,57.68272924,62.69503871,57.80840636,66.50415474,66.69029010000001,62.55424820000001,66.78627406,73.4541537,68.3584573,58.84015925,65.76816093,60.200168700000006,55.28220433,70.4162444,65.26185135,60.11593810000001,62.89366992,73.80435276,71.09445342,66.65952796,58.75082029,67.22190688,68.49835977,57.48775781,71.50905983,63.10459626,63.4711755,63.1621551,55.53128131,67.99257471,61.89472002,65.61418761,74.089114,62.35750641,59.64024162,74.82913698,74.52600826,73.13112261,70.04556743,60.27766379,57.21025565,72.85462807,69.00128641,68.74248334,56.35606753,61.89082199,65.47050802,65.34583901,56.73426469,63.91281869,64.23580251,61.74427165,61.24500053,61.91044947,56.50768935,69.02298571,65.35549924,59.24537979,69.0276233,61.32026065,72.89187265,69.63481219,59.4375337,68.03449300000001,73.58868502,59.52193158,61.33450447,68.30578978,60.47470519,59.21235483,73.62548442,55.64709899,65.7420046,65.77472881,60.61494304,72.33125523,71.59722446,69.36385721,66.20569924,61.55327249,55.97732754,59.24580604,65.92195844,72.52054555,63.31801994,67.816568,71.516474,63.73849998,72.61024172,71.96246617,61.37879671,59.37147589,72.80086137,63.24648023,62.49878458,59.66263104,70.74739256],\"yaxis\":\"y\",\"type\":\"scattergl\"},{\"hovertemplate\":\"label=chickpea<br>temperature=%{x}<br>humidity=%{y}<extra></extra>\",\"legendgroup\":\"chickpea\",\"marker\":{\"color\":\"#00cc96\",\"symbol\":\"square\"},\"mode\":\"markers\",\"name\":\"chickpea\",\"showlegend\":true,\"x\":[17.02498456,19.02061277,17.88776475,18.86805647,18.36952567,20.45078582,20.6543203,17.3348681,18.17912258,18.01272266,20.99373558,19.46233971,19.81344531,18.97424756,18.19737048,18.72963144,20.99502153,20.28155898,17.48042641,20.88818675,17.08498521,20.09340593,17.57212145,19.12065218,18.57665902,17.16606398,18.2872007,19.03025305,17.141861399999996,17.47809436,20.56601874,17.22385224,19.69141713,17.84851658,18.8202251,17.47500984,18.72649425,18.65580107,18.2356751,18.81198127,18.65054116,20.36720401,18.38120357,17.17012591,19.37101121,17.92845928,19.45339934,19.12829388,19.1034283,17.48504075,19.40751744,20.18649426,17.30287885,17.50361137,18.17234999,17.57445618,20.93175255,19.71098332,19.07937684,18.54988627,18.19903647,18.88852533,18.49311205,19.48974337,17.25769499,19.62416326,20.67526473,20.02381489,20.118744600000007,20.65691793,19.2582557,17.927806,19.16288268,20.26942271,17.09104223,17.06579293,20.62767492,20.8248451,19.46210401,17.18248372,17.48911699,17.48395377,19.48316794,19.71359733,19.48649305,19.95264829,19.41789736,19.45591848,20.19137759,18.8392908,20.71219282,18.99424448,19.96837462,17.81564548,20.71424384,17.34150229,17.43732714,18.89780215,18.59190771,18.31561493],\"xaxis\":\"x\",\"y\":[16.98861173,17.13159126,15.40589717,15.65809214,19.56381041,15.40312102,16.60820843,18.74926979,18.90426935,18.30968112,19.33470387,15.22538951,14.69765308,19.5161216,14.71070537,19.18197264,19.8601304,16.39535215,15.7559405,14.32313811,16.14565756,15.11279612,14.99927489,18.43475844,19.22008229,14.42457525,16.67921616,18.66725565,17.0662427,17.93253975,14.25803981,15.82069268,19.44225438,19.09172907,16.1074793,16.54314829,17.58406365,16.17772668,19.68538502,15.21618225,17.80852431,16.89574311,16.63805158,17.30457712,15.77458129,14.27327988,18.23490739,14.92241479,17.26184541,16.96070581,18.98030507,19.63719995,15.15405941,15.48083156,14.70085967,16.71826572,18.91295403,17.63879418,17.86754927,16.02542689,17.41333199,14.99451145,14.72115044,17.17260319,18.74943955,18.71483156,19.85388984,16.63294455,14.44228303,15.84572566,14.2804191,15.85622899,15.83500655,19.96978871,18.25142068,17.54024066,14.44008871,17.85057083,18.72831993,16.42891834,16.39055394,14.76014523,17.44534641,18.09665739,16.06240074,14.82633099,16.80472243,18.02235902,16.41998269,14.74071856,19.83643308,15.9362937,15.57324389,17.60756635,15.27824066,18.75626255,14.33847406,19.76182946,14.77959596,15.36143547],\"yaxis\":\"y\",\"type\":\"scattergl\"},{\"hovertemplate\":\"label=kidneybeans<br>temperature=%{x}<br>humidity=%{y}<extra></extra>\",\"legendgroup\":\"kidneybeans\",\"marker\":{\"color\":\"#ab63fa\",\"symbol\":\"x\"},\"mode\":\"markers\",\"name\":\"kidneybeans\",\"showlegend\":true,\"x\":[17.13692774,19.63474332,22.91350245,16.43340342,22.13974653,17.84806561,19.88394011,19.32509638,18.416700100000003,21.81167649,19.72702528,17.15432954,19.62207826,21.63149148,16.06522754,20.61162204,21.42451099,19.07096165,21.18853178,23.0429097,20.65375833,18.09551014,18.23775702,17.48189735,19.9191786,20.27514686,15.77370214,16.71170642,17.66148158,18.50692825,24.51324787,18.87614998,21.59343016,20.12373284,15.43546065,22.64236876,21.98560799,20.53052663,15.78601387,19.6365349,20.57341244,20.16080524,21.53989176,15.53834801,19.91853092,20.76952209,23.46168338,24.32116642,20.12574053,21.80619564,19.52226241,17.00067625,16.78791503,24.84906168,16.51783455,18.15300153,23.18864385,23.38002569,18.358923,19.25975367,22.95458237,20.120043,21.14011423,24.92360104,15.33042636,18.81097271,23.44260668,22.8352024,24.9035819,23.78709569,22.05592283,18.87492997,18.62328774,23.00884744,19.33162606,16.24469193,17.91652287,15.46789263,17.06104474,21.32776028,23.90910104,23.89756791,22.98666928,21.35135729,24.1638445,24.62835037,21.02213209,17.30844532,23.82576704,19.30607278,16.03768615,19.18572809,19.92889503,19.56376468,18.31357543,20.10993761,23.60506572,19.73136909,20.93409877,18.78226261],\"xaxis\":\"x\",\"y\":[20.59541693,18.90705639,21.33953114,24.24045875,23.02251117,18.77621951,20.31564139,23.3334788,23.42829938,23.20591245,18.28173015,19.87070659,18.67170854,21.17919701,18.72479695,24.36314135,20.39659714,21.21092266,19.63438599,22.42610972,23.10538637,18.29318436,21.07643273,18.8251973,21.47324158,23.2353604,19.2303162,19.17651433,18.15302753,23.61670065,20.81527638,24.54038287,20.31871249,24.45202552,18.37477907,21.59396123,24.87304788,18.09224048,21.14544088,19.68751084,19.7520218,24.84207559,24.25386207,23.75560241,20.70099804,18.93146941,23.22197648,21.0278674,24.96969858,18.57086554,24.92607153,19.90790546,24.96881755,22.89464642,20.4555596,19.38602098,22.3104551,21.98879437,19.37703396,20.51346956,24.03553105,22.89845607,22.7182355,18.22590825,24.91506728,21.27833035,22.77255917,18.97267518,22.27512704,24.35679348,19.60379304,20.18238348,23.02410338,18.86880997,24.13995025,21.35793891,24.90814655,21.43780702,23.77201471,18.48522915,20.74619325,22.74378977,20.57940608,22.91244883,19.27907819,18.18325169,24.93896255,20.01730914,24.75485098,23.96362799,22.33195853,20.83398341,21.79992115,24.67385131,24.32991649,23.22323766,21.90539577,24.89487354,21.1893007,20.24768314],\"yaxis\":\"y\",\"type\":\"scattergl\"},{\"hovertemplate\":\"label=pigeonpeas<br>temperature=%{x}<br>humidity=%{y}<extra></extra>\",\"legendgroup\":\"pigeonpeas\",\"marker\":{\"color\":\"#FFA15A\",\"symbol\":\"cross\"},\"mode\":\"markers\",\"name\":\"pigeonpeas\",\"showlegend\":true,\"x\":[36.51268371,36.89163721,29.23540524,27.33534897,21.0643684,30.33276599,31.80130272,33.18184225,29.38538562,30.27374995,35.45790488,33.80020039,28.69180475,31.24021696,28.98039357,27.32198928,21.47607807,18.31910448,36.97794384,24.80467592,19.3479443,28.88302142,19.54314136,24.7741949,18.33124824,19.14729038,28.23416057,30.11812084,33.4126864,24.18553163,26.88630675,31.33170829,33.30711818,23.45379018,34.53823889,19.50112224,28.76794904,30.97758716,18.39759147,35.09357419,34.93174223,29.50523036,34.51934775,28.43430726,18.41645629,31.07508973,20.89342749,30.90607799,27.9348279,35.95176642,19.54317155,19.63736208,31.2192752,33.50876355,24.80710166,36.20970524,30.50420876,26.01630259,31.48469278,33.15122581,23.50222822,34.87248659,28.09269012,24.54757829,33.64769646,20.5591255,19.95991719,28.87667593,36.04353699,23.6734328,25.74679443,31.08564994,18.72987676,29.50304807,20.43517772,36.00415838,31.46846241,36.30049702,29.49096726,30.5753044,24.69487673,23.17409556,19.04380471,29.32379604,34.6455408,21.9989826,22.99774444,30.55992394,31.46417866,25.95058595,21.01142393,19.25100056,19.24462755,22.47253208,36.75087487,29.89286629,29.37735586,29.65052947,19.54284889,20.04611791],\"xaxis\":\"x\",\"y\":[57.92887167,62.73178224,59.38967583,43.35795962,55.46985938,42.35249879,45.03186173,38.23184742,63.47742011,67.38680755,68.75810535,40.03262418,49.47225353,56.67369054,57.23265151,34.13737127,38.80023714,34.69776639,37.73992903,40.1242747,55.96805489,50.12323801,47.19188279,50.54621094,38.40975482,45.3733757,49.4421345,34.13307843,35.42910045,46.68746847,41.69617915,57.97429171,67.07780816,46.48714759,39.04468913,34.51086611,37.57792132,32.24914235,36.82639309,30.98685456,30.40046769,35.72032498,47.52980027,52.10010827,34.80541039,47.19847683,46.24856523,52.79913039,66.45457122,36.52780776,56.92831399,32.31528909,56.46868874,45.70976142,45.01110015,31.94550613,35.48885969,49.94704718,35.6395615,32.45974539,51.29019509,38.83786012,44.93322042,57.3414485,48.41490082,60.54880693,59.33157782,62.4901206,43.61444121,47.2879691,40.7192594,66.68832981,61.33186249,63.46513414,39.37252634,56.01334416,35.39454002,56.03021253,67.10604388,34.75591197,59.96669215,36.67847052,33.10695144,45.93248374,54.32342534,56.31006755,60.24218572,35.29006485,48.17631461,40.58227261,69.69141302,47.70351758,50.54495302,62.56532471,58.25799145,66.35375127,44.82294584,42.89833235,66.34777265,48.93905624],\"yaxis\":\"y\",\"type\":\"scattergl\"},{\"hovertemplate\":\"label=mothbeans<br>temperature=%{x}<br>humidity=%{y}<extra></extra>\",\"legendgroup\":\"mothbeans\",\"marker\":{\"color\":\"#19d3f3\",\"symbol\":\"circle\"},\"mode\":\"markers\",\"name\":\"mothbeans\",\"showlegend\":true,\"x\":[27.91095209,27.32220619,28.66024187,29.02955344,27.78031515,31.99928579,27.33580911,28.92952635,27.65472156,28.52396666,31.02215872,25.74095321,31.70447482,24.47876451,31.46511256,25.60973447,30.30260453,28.17489437,25.50634557,31.12896766,26.34043268,28.23494706,27.04453473,25.16125354,27.3179125,25.4123765,31.21629982,30.573999,25.42517036,27.09400578,24.30935081,30.06142622,28.09568993,26.33908791,28.61409059,28.70012137,24.21610338,28.50677929,25.97948991,30.88482722,25.5042419,25.12528913,27.10508014,31.1006247,26.45707778,30.04132304,27.77799528,30.99256944,26.4908332,31.96987867,25.36140526,25.54249137,28.99319096,29.34317422,28.63618921,24.83206631,25.44689075,31.01274943,27.06179658,27.0956288,28.56800579,28.79929247,27.94293692,30.47757686,30.58139475,26.85911286,26.31051759,28.77833449,28.90245417,29.37687468,24.17093241,26.65333029,28.19912143,28.76488954,29.3499706,28.00937423,26.85851927,31.2123945,24.20422636,29.98835437,29.93964907,31.2119298,26.80474415,31.49398069,30.99694676,29.61253065,29.97604322,30.88883074,30.39321309,30.43683729,25.32688786,30.53684308,30.38257873,24.01825377,28.69841277,29.33743412,27.96583691,24.86803974,25.87682261,31.01963639],\"xaxis\":\"x\",\"y\":[64.70930606,51.27868781,59.3189118,61.09387478,54.65030015,54.1077461,55.27755933,53.57014709,58.59986279,55.77264351,45.89239456,45.38497051,56.85420099,58.51663927,51.79939437,50.7330069,47.18283631,43.6672299,44.8302551,43.58788762,55.59160391,61.5620517,49.32609633,55.25435777,51.66921088,49.66474269,46.01868196,58.22686794,53.22082660000001,43.65305437,56.32938343,45.90067655,60.98353839999999,40.00933429,57.14218792,44.359648,59.79236306,45.20094476,64.95585424,41.36561835,61.66852372,51.33189406,63.56791363,44.82069159,56.40226277,63.56222995,54.82130787,43.02151392,47.36534833,57.17377029,46.82652785,56.96640758,62.85948245,60.50320928,61.39451307,44.17085032,58.55363573,62.40392519,52.3003173,42.26206161,57.30636014,49.84213387,45.41393636,61.58245338,50.77148138,41.81420849,61.18749126,44.2252605,43.35365671,57.69622912,58.25204566,59.79023382,53.50567601,52.62741529,61.25353851,52.60950014,48.8246387,40.92604945,61.43378674,49.60384796,54.61813464,41.55934359,48.23991436,62.84916863,46.42693735,63.04749127,57.03184356,52.62696801,60.16299493,55.20522037,63.18180319,59.96664731,40.5926071,53.76623369,61.14754363,49.00323081,61.34900107,48.27531965,45.96341933,49.97675220000001],\"yaxis\":\"y\",\"type\":\"scattergl\"},{\"hovertemplate\":\"label=mungbean<br>temperature=%{x}<br>humidity=%{y}<extra></extra>\",\"legendgroup\":\"mungbean\",\"marker\":{\"color\":\"#FF6692\",\"symbol\":\"diamond\"},\"mode\":\"markers\",\"name\":\"mungbean\",\"showlegend\":true,\"x\":[27.43329405,28.3340432,27.01470397,28.17432665,29.87888063,29.89232778,28.56212158,27.53592929,29.68361658,28.14448546,29.53037621,27.88352946,28.22471276,29.008124,29.75538903,29.78416743,27.8640132,27.11026483,27.11030369,28.95451232,29.21780035,28.7420098,29.65021184,27.23924995,28.95172351,28.18837136,28.30041493,27.89636126,28.6899851,27.826262300000003,28.70562673,28.6362812,28.28511547,27.60887393,28.60901145,29.24598976,28.62911222,29.57329479,27.82684262,29.8757015,27.33684386,29.83040388,28.2753171,29.86860065,29.5888162,28.07219563,27.84026517,27.10818093,27.68515114,29.34594634,28.36319404,27.65280218,27.31372793,27.06909959,28.06642822,27.73329078,27.53632932,29.66461594,29.914544300000006,28.36363858,29.46416042,29.73013036,27.46852989,27.77076285,29.12939524,27.10606808,28.88078945,28.14720892,29.89129144,27.41503453,29.27308605,29.65296893,28.44524991,27.96235681,29.25649321,28.36291385,27.62749466,28.66086349,29.2114218,29.40889385,28.02952623,28.08657178,29.16174608,29.8596912,29.06631494,27.38538997,27.93034941,29.2808618,28.9973145,27.92678579,28.5474135,29.36488409,28.56149805,28.43683487,28.79728147,28.7275267,27.95639663,28.17458662,28.77653519,28.438097],\"xaxis\":\"x\",\"y\":[87.80507732,80.77275974,84.34262707,81.04554836,87.32761241,89.71503316,83.24855855,85.57019009999998,87.93598094,82.1193047,86.73346018,86.45147631,82.35916228,84.96089355,86.45193297,85.16906976,80.4513142,84.96771717,83.64274107,89.07866095,87.93724219,85.81675947,80.29868321,86.404241,81.67085323,82.60629652,86.20681554,88.71782287,87.50436797,88.73100226,81.59200689,84.61431076,88.4393979,86.13316408,86.99495766,84.80084105,89.11480590000002,88.07505524,87.16679147,83.14796296,88.50229102,89.30428305,82.76020821,85.99127934,89.9939693,82.9116472,89.99615558,87.45126690000002,81.94268594,85.60472562,84.8593608,89.80650642,85.44815232,86.89934108,85.91625451,81.13903037,89.92908171,84.28187572,85.85384444,87.59810657,87.60890009,82.89166381,87.17649,87.09979549,88.48312598,89.89593328,86.94206817,83.8001509,80.14487166,80.98004661,89.4875022,88.48587386,82.67639542,83.97586797,81.97952224,88.00989267,86.49366929,86.12194568,87.11497805,86.16063492,84.8845732,80.35005927,80.28038146,80.03499648,83.6869203,88.66663953,85.42058715,81.8009244,83.78911515,86.5543196,88.9570454,89.1886954,83.63802195,87.91332682,80.45744422,89.12760359,83.52706038,83.69659318,86.69133979,83.48991368],\"yaxis\":\"y\",\"type\":\"scattergl\"},{\"hovertemplate\":\"label=blackgram<br>temperature=%{x}<br>humidity=%{y}<extra></extra>\",\"legendgroup\":\"blackgram\",\"marker\":{\"color\":\"#B6E880\",\"symbol\":\"square\"},\"mode\":\"markers\",\"name\":\"blackgram\",\"showlegend\":true,\"x\":[29.48439992,26.73433965,26.27274407,34.03679184,28.03644051,28.81460716,34.03619494,33.8642935,32.84213012,27.10053268,25.65842532,32.34744009,29.58949031,30.91219459,28.12787838,30.08545364,31.74379487,27.81326852,32.88733849,29.36358721,27.82592799,28.49538735,27.74274761,30.41588462,27.3254209,30.28496619,28.56840626,25.36586097,34.9466155,25.09737391,32.47648301,33.86351172,25.19857725,31.77681682,34.89814946,31.74105409,27.16159076,26.23773129,30.20157245,31.55846339,29.67892453,27.05365239,34.63880966,33.39438752,28.84079155,31.49338309,25.54960633,34.37329112,34.600824700000004,29.43463808,29.10713092,28.57006111,27.54384835,33.04687968,33.95309131,30.11873003,29.57812712,27.26458947,31.35730791,31.52104732,29.39982732,29.38400259,28.38686534,28.47442276,30.64095781,25.25596239,32.97030511,33.66855394,32.83963757,27.45853567,25.68576704,30.0328403,28.20667264,28.27265858,28.541723600000005,26.87187036,32.79766751,26.42333018,29.79181107,27.44003279,34.1262979,30.94908189,28.75751783,27.24766491,28.63005477,26.41768321,32.81705216,29.6321052,33.49077065,31.86847286,30.32992227,28.546224,30.02629908,31.65531175,30.33499674,33.36984395,31.4345059,27.71678273,32.63918668,32.7477393],\"xaxis\":\"x\",\"y\":[63.19915325,68.13999721,62.28814857,67.21113844,65.06601664,65.33538112,64.28791388,61.57072498,68.68401492,63.36085585,61.18235808,66.61452812,68.32176769,68.79427388,64.2097765,69.34811988,62.51007687,62.50460464,64.59457409,64.98742947,67.58618829999999,60.44848407,68.53997144,67.66323804,69.09047809,61.69295127,61.53278622,66.6379724,65.26774011,67.72837887,64.34848735,68.59232289,60.37332688,69.01852894,63.59948557,68.63525428,66.76017239,67.88521396,60.06534859,67.83563765,69.0854554,67.7017527,61.38597868,62.93692886,63.37230676,63.0563645,63.95425534,69.69366426,63.11296779,64.94329356,67.90577375,65.71765781,69.3478631,68.93875631,69.96100028,60.11680815,66.17587668,68.01232937,64.24992106,66.55723677,64.25510719,64.14928485,61.88871127,63.53604453,61.14508627,61.36669662,60.18122078,66.60416867,67.99803573,62.90020977,69.84354028,64.14800537,68.27085245,61.18956161,64.2020154,61.61367264,68.77994074,64.51136845,63.38789228,67.10464369,65.14877461,64.23364112,61.02701476,66.10123083,66.770943,63.64698302,66.15665137,65.91359954,62.73317204,66.74217464,65.62971858,66.31394098,67.88811637,60.13263713,63.54718862,65.67718163,62.99303471,63.29103387,61.3009051,67.77954584],\"yaxis\":\"y\",\"type\":\"scattergl\"},{\"hovertemplate\":\"label=lentil<br>temperature=%{x}<br>humidity=%{y}<extra></extra>\",\"legendgroup\":\"lentil\",\"marker\":{\"color\":\"#FF97FF\",\"symbol\":\"x\"},\"mode\":\"markers\",\"name\":\"lentil\",\"showlegend\":true,\"x\":[28.05153602,19.44084326,29.84823072,21.36383757,26.28663931,22.17499963,26.57597546,26.58972517,19.1345771,28.75273118,25.78746268,23.89271875,28.67408774,28.42062847,21.35499456,21.12695586,24.02037872,25.40474421,29.03017561,20.21368219,29.19585548,18.29783597,27.41434987,24.84063998,29.94413861,25.87990287,20.0467711,22.99451999,25.13163619,28.49584395,18.28766124,24.38041875,21.31852148,18.54141834,25.28710601,25.43459777,28.83600962,27.37659643,28.31886863,27.4818649,18.28072173,27.61204997,23.43974653,20.95628486,23.7937153,22.6371424,21.53577883,29.87854588,25.2653291,25.17885316,24.12192608,23.33565221,21.74600081,27.60195453,24.388717,24.98287462,28.234829,26.03026959,28.04849594,24.87425505,23.97081395,20.06003985,19.59221047,29.77013109,27.52135365,25.62896213,20.39078312,25.39038396,24.91079638,27.70496805,18.06486101,18.13027797,23.82723528,23.19305333,25.08966129,25.86928193,18.43966037,27.14911056,23.33375853,26.7230014,19.55750776,26.13708256,27.99990346,29.05941162,25.71269843,21.79792649,24.70626432,20.94981756,24.84918386,21.91041045,25.93381964,29.82112112,27.52185591,27.99627907,20.76774783,23.05276444,21.65845777,26.25070298,20.97195263,23.89736406],\"xaxis\":\"x\",\"y\":[63.49802189,63.27771461,60.63872613,69.92375891,68.51966729,62.13873825,60.97876599,66.14007674,62.57526895,69.15640149,60.2816298,61.78779413,63.18832976,61.77336343,62.60136323,63.18738532,61.62313345,65.8567539,64.49166566,68.65257685,68.01965728,69.6897615,63.41785982,60.09116626,67.31323084,67.55109024,65.84395319,66.70897237,66.92642362,62.44616219,69.48515056,61.18458224,66.43934593,62.70637578,60.85993533,69.12613376,69.76112921,63.93927841,60.19461399,62.04814951,68.10365387,69.29786244,63.22011726,63.68128841,68.03209183,65.44544859,65.47227704,65.73085206,67.10004577,68.93307305,61.09533545,67.40460704,63.39503184,63.46170674,62.50453062,66.895409,69.3159965,69.55863145,64.07691942,64.00213929,62.35557553,67.76252583,61.28633405,66.29327012,60.53657684,63.14909763,60.47528931,60.4989659,60.71367427,63.20915034,65.1034354,62.45851612,67.89815262,62.74710773,68.17543102,61.88321072,68.05394959,67.02664337,64.50515776,62.96841833,64.45268309,66.7729209,65.57653373,62.10652364,64.1123333,63.73086065,60.26854183,65.8108757,68.98088448,65.21662467,68.70533022,69.4073209,63.13215259,68.6428593,63.90164154,60.424786,63.58337146,67.62779652,63.83179889,66.32102048],\"yaxis\":\"y\",\"type\":\"scattergl\"},{\"hovertemplate\":\"label=pomegranate<br>temperature=%{x}<br>humidity=%{y}<extra></extra>\",\"legendgroup\":\"pomegranate\",\"marker\":{\"color\":\"#FECB52\",\"symbol\":\"cross\"},\"mode\":\"markers\",\"name\":\"pomegranate\",\"showlegend\":true,\"x\":[24.55981624,19.65690085,18.78359608,24.1469628,22.44581266,24.96273236,22.5526059,22.77035608,19.20090378,23.12808226,24.92639065,24.77464458,19.8671184,24.26601316,23.62600218,19.67832052,22.36509395,21.57936934,18.26233221,23.71028128,22.48720144,21.66024980000001,20.13037175,18.41164435,19.68291173,23.20242586,18.92157197,22.10621387,18.47412402,19.81069447,24.4880844,18.75927679,19.54128063,18.91251245,19.91330523,19.72620525,23.83185873,24.94467632,24.692258,24.72485577,20.12644921,21.02432943,22.40423537,20.33691147,24.24779615,24.81530144,19.66329768,22.43377991,22.92052307,22.91843172,24.88244467,23.40981539,21.20725375,18.20230419,22.34375696,24.32770134,19.75088482,19.86173586,18.07132963,23.89162561,23.98598756,20.93892916,20.82210727,20.86474944,24.45840036,24.51147697,24.56811204,24.63228709,20.07386547,21.80523051,22.8122645,22.73031253,23.2801227,19.30106297,19.0087067,24.35193812,24.72235539,21.92513945,24.83954414,18.09691127,20.24104904,23.22594,23.50128217,19.44623085,20.51343484,18.90223032,18.90592319,22.63045168,19.38603815,24.38318965,23.77989026,22.59890174,24.37766782,20.89273273,18.09903225,20.00218987,19.85139326,21.25433607,23.65374106,23.88404783],\"xaxis\":\"x\",\"y\":[91.63536236,89.93701023,87.4024767,94.5110662,89.90147027,92.40501423,89.32594859999998,91.45498527,94.27659596,92.68328358,85.19098079,85.63608688,86.35590206,93.7974061,89.73266695,89.08935702,92.30882391,94.88267728,88.16779129,89.61794165,89.9224883,94.79397419,89.31505137,91.11927248,89.75272999,91.19442671,87.31290342,91.34039616,89.68919664,88.92944254,90.83687246,89.93457597,90.29751796,87.74938524,94.95031368,89.64934166,87.84034604,94.25702672,93.87030088,85.56083187,87.59629625,93.0569505,88.1508343,89.38003827,85.56033312,91.90842992,87.95158129,90.3396556,85.12912161,85.40695044,89.39686219,93.13277,94.26304717,91.12282162,89.7870345,90.88292835,88.71691157,86.19740917,93.14554876,89.61850203,93.34236582,85.42912869,87.22815682,91.61793636,86.10874614,90.64498715,92.03009222,89.01574455,90.97819712,94.63612858,86.34233767,88.48567856,94.94330457,87.1775172,88.83768149,90.88612388,88.87651295,94.46485312,86.88738076,90.42177379,91.08706822,94.42971362,92.97527546,89.02127045,92.51675903,94.99897537,89.24126808,88.45577158,86.79058496,91.19431555,92.93386903,93.16343942,85.4017118,91.07776977,85.70786282,85.83618191,89.80732335,92.65058936,93.32657504,86.20613842],\"yaxis\":\"y\",\"type\":\"scattergl\"},{\"hovertemplate\":\"label=banana<br>temperature=%{x}<br>humidity=%{y}<extra></extra>\",\"legendgroup\":\"banana\",\"marker\":{\"color\":\"#636efa\",\"symbol\":\"circle\"},\"mode\":\"markers\",\"name\":\"banana\",\"showlegend\":true,\"x\":[29.36792366,27.33368994,27.40053601,29.3159075,26.05433004,25.86632408,27.00932084,29.55054817,26.28845991,29.16226551,28.65003945,29.07311132,28.08166093,27.1994597,28.05484146,25.14748006,25.94019018,27.66752761,25.56703012,28.6956201,26.33544853,25.93730186,25.13686519,27.50527651,26.21009246,29.10403455,29.244063800000006,25.56202173,26.3985515,28.09577643,27.84767901,27.39341554,25.14517635,28.65456263,29.16093424,27.57278064,25.40909896,25.99069521,26.29039046,29.14827211,26.59743595,25.36059237,29.12036889,27.53911354,29.66727337,25.05802193,25.86824781,25.85036988,26.51682337,28.66725136,28.14938935,26.42313317,26.59386409,27.71822477,28.98333432,29.42017919,27.39872329,26.4020227,27.81251452,25.19640218,28.31193338,25.90113128,27.48612983,29.38254012,29.22118628,27.09062164,26.12643374,29.01207743,27.96799119,28.0764455,25.16278237,25.78749808,25.34119774,29.44795403,26.47522633,27.39489579,25.08347445,26.671983500000003,25.44926208,28.22776705,28.127950899999995,28.9470467,27.96236771,28.00316034,29.1400919,27.9122104,25.43480512,28.55980972,26.59580783,27.19711623,25.29391516,29.90888522,27.94972463,25.01018457,29.21144871,27.35911627,28.0106804,28.67208915,27.34585147,29.50704598],\"xaxis\":\"x\",\"y\":[76.24900101,83.67675197,82.96221306,80.11585705,79.39654531,84.42379269,80.18546798,78.06762846,83.390039,76.16151562,82.68752542,76.50045221,75.26429821,78.80860679999998,78.04602887,83.34688193,78.3422098,79.68542782,75.94067692,82.54195839,76.8532006,78.89864446,84.88394407,80.79783998,82.34429458,79.19588629,77.32017166,77.38229006,81.36028902,77.79586769,83.31110751,81.4654833,81.38204104,79.28693687,76.67484233,82.0638878,82.36208097,83.33983116,81.06003778,78.71024836,79.35898915,75.03193255,80.18080728,77.25629897,83.51014178,84.97323747,78.52399914,81.95580471,77.79913575,79.59242542,81.54448882,83.69950440000002,81.40740301,76.57853189,82.95958244,83.96754496,81.10523402,84.41007614,82.69285419,83.55829874,75.77363772,80.47152737,76.11239849,83.50423735,81.08183635,81.33506906,81.81365007,77.95192527,79.28625709,76.05522115,84.97849241,84.51194224,84.47321314,78.34971537,78.51833782,83.31172003,80.26173100000003,76.48541655,79.49221962,80.64303840000002,77.48247073,82.1888998,84.15403614,78.90085998,80.1190228,83.36307683,81.53977797,84.51602322,82.99556744,77.39706290000002,79.29122198,76.98740841,76.63713353,78.76260938,84.70189923,84.54625006,76.52808057,82.20793613,78.48738349999998,78.20585613],\"yaxis\":\"y\",\"type\":\"scattergl\"},{\"hovertemplate\":\"label=mango<br>temperature=%{x}<br>humidity=%{y}<extra></extra>\",\"legendgroup\":\"mango\",\"marker\":{\"color\":\"#EF553B\",\"symbol\":\"diamond\"},\"mode\":\"markers\",\"name\":\"mango\",\"showlegend\":true,\"x\":[29.73770045,33.55695561,27.00315545,33.56150184,35.89855625,34.17719782,30.01592643,31.74592134,35.99009679,31.86641378,27.75518664,34.72413192,27.53907547,27.69637763,27.25373364,30.33723921,31.85744939,35.39986338,29.80747243,34.16438906,28.93270187,27.98392787,31.20478173,32.13409675,28.91862016,31.09779147,34.73823882,29.98080499,33.80398664,30.07202564,27.92063282,31.40948821,35.7877738,33.36140093,35.96054636,28.33333307,32.27652024,31.99490489,27.58258929,29.38471637,32.38697531,30.91471455,35.37775595,32.32362177,28.22373428,27.27433181,27.10710832,34.89226666,33.7462686,27.351105600000004,32.89300162,35.38598705,27.552973600000005,32.82141065,30.17294105,29.26382931,32.06097197,28.69818144,29.14305008,28.347161100000005,27.67256197,28.1218093,30.79375683,28.89409382,33.33024826,27.78912455,31.65333432,29.75150773,31.32995611,35.63627319,31.66524687,32.26935342,27.81005614,34.58561471,31.27180992,33.93679864,31.09154239,31.89356292,32.45465292,35.47478322,27.32961444,30.90225239,29.09382275,30.02086169,34.13072188,33.44619894,35.3915464,31.53356352,30.764551500000003,30.01821337,31.32863689,33.88004781,28.07802689,35.53845018,28.70595247,31.48451729,27.69819273,30.41235793,32.17752026,32.611261400000004],\"xaxis\":\"x\",\"y\":[47.54885174,53.72979826,47.67525434,45.53556603,54.25964196,50.62161586,53.19212381,45.16127859,52.22780489,52.19331595,52.34605806,51.4271781,53.63549533,48.56224879999999,52.66319725,48.88704844,45.53106268,49.45962621,52.13797867,54.16482251,47.94053996,53.33018851,54.49960506,50.52559148,48.13974548,47.41196659,49.08864345,49.48613279,46.12866113,50.96040505,51.77965917,49.21729127,51.94190321,45.02236377,48.69677802,51.39586505,50.19368841,50.84881347,48.56916221,45.88744691,53.2328243,49.92963856,45.58110023,52.58967710000001,47.40519056,47.16808054,50.70880979,48.75613373,48.50387598,54.43945147,52.61323969,51.42664176,47.90859131,47.45553843,51.0845903,54.82257868,51.08494181,47.71875722,49.40983294,53.53903102,45.41692012,46.16888595,46.69536813,54.80750249,45.61143594,53.96886679,48.20662669,46.73723302,50.22287593,48.97047762,51.98594645,53.56092806,51.59445462,50.34035336,52.23810152,52.72170281,47.02058367,49.02450149,50.69693751,47.97230503,49.30347234,49.95955487,45.5661059,46.78393776,51.25786185,53.05980465,52.48823147,53.06009323,47.93791463,50.09831810000001,47.59319575,54.39416048,54.9640534,52.94641947,50.44030129,48.77926304,51.41593238,52.48100602,54.01352682,47.74916499],\"yaxis\":\"y\",\"type\":\"scattergl\"},{\"hovertemplate\":\"label=grapes<br>temperature=%{x}<br>humidity=%{y}<extra></extra>\",\"legendgroup\":\"grapes\",\"marker\":{\"color\":\"#00cc96\",\"symbol\":\"square\"},\"mode\":\"markers\",\"name\":\"grapes\",\"showlegend\":true,\"x\":[29.99677232,30.7280404,32.44577836,37.46566825,22.03296178,39.64851881,16.77557314,12.14190714,12.7567962,39.04071989,39.70772192,9.467960445,29.58748357,17.82803682,8.825674745,27.83487131,11.02105378,17.5862944,19.89363946,29.93707596,36.73126647,20.42094753,25.51939719,30.50734778,18.426993600000007,12.087022,23.60115364,12.80000387,38.06099482,39.06555518,33.78372897,16.76201707,35.89307536,21.01245395,10.89875873,16.36251869,20.28370163,25.11108456,33.4641162,11.7976469,11.36300891,25.23542319,15.99050693,22.4359017,34.76086052,31.11047251,28.57828803,41.18664903,27.02766138,21.19339319,10.38004759,31.3115978,20.46657776,29.36947679,10.72302459,14.97846952,15.3246651,18.73932187,19.3642553,41.20733624,33.34214482,23.81995682,40.66012294,11.82768186,13.28504331,35.83089092,26.18159716,24.57558351,29.67229086,39.37102553,17.66558428,24.06679352,15.31413469,21.77466746,26.91624843,41.65602996,17.98667801,29.12033769,34.38922481,41.36106301,35.12158265,19.6491772,16.27852801,21.11903604,19.2077707,25.96308415,25.67385024,41.94865736,11.18994268,17.5438296,13.05809741,9.724457611,27.92004934,9.535585543,13.42988625,9.851242629,24.97256132,27.23708304,18.70679077,9.949929082],\"xaxis\":\"x\",\"y\":[81.54156612,82.42614055,83.88504863,80.65968681,83.74372787,82.21079946,82.75241875,83.56812483,81.62497448,80.18393287,82.68593454,82.29335466,80.91934392,80.96093443,82.89753705,83.51444973,80.55557235,80.84806564,82.73366439,81.77713468,80.58931938,81.54185044,83.98351748,82.71775569,80.55625868,83.59398734,82.48336987,81.20876367,82.24729637,82.03812973,81.16314317,82.00335557,82.66850729,81.17931863,80.01639435,83.00471609,81.32235739,83.25447587,83.86742974,80.86325389,80.03100049,80.68700527,81.23966573,80.18612085,81.03544763,83.34010951,80.95628959,81.01783402,83.17093908,82.33098331,83.44518113,82.56407013,80.97598029,81.53996362,80.02130636,80.49979873,81.67215994,81.12109244,83.36094029,81.61051026,82.51034633,80.12211649,81.24995984,80.2827185,83.54193816,83.32560104,81.03886263,80.70695797,83.71498986,81.25353895,82.92903419,82.66396666,80.09711412,80.54942557,80.76838926,82.22118237,81.17712085,82.79092939,83.18392806,82.79782954,82.26890793,80.15215777,82.94270065,80.63399198,82.90428409999998,82.57813624,81.6212135,81.15595212,80.8084305,82.94703302,80.28297993,83.74765639,82.93262435,80.73112694,80.06633966,80.22631717,82.72828653,82.94573346,83.4795292,82.55138983],\"yaxis\":\"y\",\"type\":\"scattergl\"},{\"hovertemplate\":\"label=watermelon<br>temperature=%{x}<br>humidity=%{y}<extra></extra>\",\"legendgroup\":\"watermelon\",\"marker\":{\"color\":\"#ab63fa\",\"symbol\":\"x\"},\"mode\":\"markers\",\"name\":\"watermelon\",\"showlegend\":true,\"x\":[26.47330219,25.18780042,25.29954705,24.74631269,26.58740671,24.53442564,26.0713757,25.96534238,26.22338015,24.41311871,26.49195283,24.04355803,25.5421695,26.74550678,25.7131428,25.76484262,26.79489868,24.9004602,26.80750629,25.11189154,26.2148837,24.9103226,25.79448878,25.26931156,25.76402693,25.85483596,24.33528185,25.37601283,24.86094646,24.71885473,24.21495706,25.81692236,24.47018505,24.13078816,26.1793464,26.17668721,26.03867719,26.53259325,26.81938687,25.50405534,26.20234499,25.13735887,25.92030221,26.6634609,24.06731461,24.6774157,26.11440416,26.81530456,25.15623099,25.2801372,26.22005978,24.92093261,26.21667586,26.81383586,24.31334971,24.29105004,24.42998931,25.66576039,25.07803672,24.88910524,25.42900869,24.37118217,26.493064500000006,25.83202912,24.41592661,24.37190239,24.24782473,24.64458469,24.89681131,25.41864024,26.26028739,24.90123934,24.84740848,26.98212846,26.90435747,25.86475496,26.70607759,26.44019475,26.283443,26.84366082,26.03967219,24.92994759,25.50736962,25.4438391,26.12588914,25.10474753,26.27520631,26.27061608,26.73690828,25.04746944,24.69368934,24.54356968,25.89762315,26.6333118,25.35794749,25.28784623,26.63838589,25.3310446,26.89750174,26.98603693],\"xaxis\":\"x\",\"y\":[80.92254421,83.44621709,81.77527562,88.30866319,81.32563243,88.989272,88.7285657,89.77076659,85.34866045,89.81574032,80.04678201,84.18406764,83.31883376,83.9195902,80.22972777,84.17269959999999,89.64815231,89.73524177,88.22874955,80.02621335,87.68839820000002,86.97190046,84.26830701,87.55055105,87.5931128,89.13163965,81.44030363,80.99313508,85.05318563,88.94568335,84.20576992,82.043255,84.16390229,84.84494575,86.52258079,86.72952049999998,84.6378378,82.39053979,87.8274604,81.40297428,80.38266489,89.28272716,83.47202566,89.98405233,81.64075303,82.75411437,87.64081095,87.65694462,80.27525115,83.15393658,80.90127035,80.61750795,81.01009354,87.21986949,87.47409052,88.04541346,86.33904774,88.6984228,83.46230461,85.87059083,82.91481799,87.1269128,88.59143088,89.00481725,89.39655519,81.2514818,83.03687902,85.49938185,86.10782926,81.12122989,86.14585891,87.20772913,89.20454622,86.70068316,86.25426228,86.67468041,81.14149505,80.91934337,84.42478917,83.85039964,83.9862443,85.00802358,84.24340241,87.93923120000002,86.5507939,87.52676159999999,86.63249555,83.09194521,87.82430156,85.5667282,85.56967628,84.60808277,81.96664832,84.31756844,80.45846265,89.63667876,84.69546874,84.30533791,83.89241484,89.4138489],\"yaxis\":\"y\",\"type\":\"scattergl\"},{\"hovertemplate\":\"label=muskmelon<br>temperature=%{x}<br>humidity=%{y}<extra></extra>\",\"legendgroup\":\"muskmelon\",\"marker\":{\"color\":\"#FFA15A\",\"symbol\":\"cross\"},\"mode\":\"markers\",\"name\":\"muskmelon\",\"showlegend\":true,\"x\":[27.57826922,27.82054812,29.09910406,28.04943594,29.91690582,29.86895762,29.17220859,29.24908541,27.76317235,28.82629037,28.52379742,29.06785065,29.08417927,28.47090661,28.27973674,28.47212559,29.68846716,27.02415146,29.09588297,29.69238699,28.20619412,29.05248036,29.57240298,29.10968327,28.20480805,29.11858526,29.62800691,29.81196601,27.72338349,29.26092798,29.72791119,28.91105641,28.96361426,28.59052369,27.33897716,29.90415889,27.42711692,29.55657523,29.84070774,28.53545677,27.11535046,27.84492803,29.03157242,27.82424457,27.72653142,28.69708334,29.73019662,29.54097171,28.80311922,27.29035669,27.46583649,29.49401389,27.79161808,29.12533739,27.93114233,29.45771748,27.96872279,29.48882958,29.47156259,27.076726500000003,27.30008597,29.82729394,29.93061247,29.94349168,28.03306461,29.8843055,27.7058373,29.78714005,28.57819995,29.48069921,27.51492243,28.05457761,29.03167341,28.5854649,27.08808014,27.99611732,27.87317436,28.96586565,28.87726019,29.17052093,29.34033587,29.07265321,28.68275966,28.92705913,27.99901833,27.59350075,29.87331077,28.55852465,29.19378695,27.98780984,28.05380704,27.350629600000005,29.34081108,28.61475136,27.04863538,29.5275305,28.50416396,28.89578588,27.04927452,28.96017885],\"xaxis\":\"x\",\"y\":[94.11878202,93.03555162,94.22237826,90.83130708,94.55695552,93.25103208,92.21405224,90.06998135,90.35567642,94.26765349,92.09688432,90.97685539,90.73891887,94.79453182,90.38971208,91.21322065,94.30111601,91.66737633,94.16748386,92.58862544,92.86798698,93.92217834,93.61870344,92.43510994,92.91440379,92.12543021,90.10051615,90.36881284,90.93897939,92.92367701,94.29753295,90.78413842,93.88482153,91.33617236,90.69759008,90.75284363,90.02696201,90.70937262,93.76312893,91.72742702,94.86907886,91.60666594,91.82172592,90.56698742,92.00687531,94.30759855,90.97015715,92.91778307,91.78336933,90.53330091,94.87679041,94.72981338,92.51054946,91.52291141,93.56161439,92.12534736,92.17444796,91.07574233,90.77069618,90.14362622,90.80015308,90.79007335,93.22980899,93.90741192,91.47355778,94.0371147,92.91185695,94.65343534,92.86597437,90.33698678,94.96218673,94.81637388,93.12603235,91.89216849,93.42402083,90.84660317,91.14849627,90.71832938,92.48839665,94.19790371,90.01506395,91.91533173,92.50969311,91.39356832,91.64193051,91.79742953,90.60932469,90.45773041,91.46241065,92.78226196,91.81758779,94.29119509999998,94.5513539,94.22253035,91.34685096,94.57459443,93.46806467,94.78993038,91.3821731,91.69532178],\"yaxis\":\"y\",\"type\":\"scattergl\"},{\"hovertemplate\":\"label=apple<br>temperature=%{x}<br>humidity=%{y}<extra></extra>\",\"legendgroup\":\"apple\",\"marker\":{\"color\":\"#19d3f3\",\"symbol\":\"circle\"},\"mode\":\"markers\",\"name\":\"apple\",\"showlegend\":true,\"x\":[22.75088787,23.8494014,22.60800988,21.18667419,23.41044706,22.86006627,22.48403042,22.02775403,21.91191314,23.71059131,21.37784654,22.84852833,23.1094265,23.25230817,23.67287749,23.76881552,23.34386401,22.63946441,22.45696744,22.96388477,21.07273439,22.44075021,22.71271308,21.70416965,22.43324518,21.25941052,22.9215706,22.81212536,21.12152071,21.11478672,23.59997268,23.12652652,22.98458907,22.12659387,22.53779727,22.49095104,22.35548159,22.20700989,22.44516988,22.76643029,22.19109412,23.6119202,23.86087054,21.42177231,22.36629253,23.99686172,21.80129837,23.80436344,23.71475278,23.34467359,22.31253665,23.50201428,23.46260321,23.06204373,22.47420512,22.69780133,23.66682067,22.50050273,23.83053666,23.64142354,21.41363812,22.85267372,22.98208095,21.19909519,23.87192332,21.0365275,22.61711614,21.45278675,22.81227579,21.98141856,22.52709326,22.35628673,21.19852186,23.8812458,22.78234161,22.19055385,22.91430043,23.08950736,21.72484506,22.44307715,21.1316077,22.71750705,23.75033085,23.76121837,22.13450646,21.17089176,22.36238282,22.77856513,21.22503442,23.15791104,22.42776057,23.64082979,22.29423493,23.35225078,22.03911546,23.80593812,22.31944084,22.14464104,23.65167552,22.16939473],\"xaxis\":\"x\",\"y\":[90.69489172,94.34814995,94.58900601,91.13435689,91.69913296,93.12859895,93.40819246,92.96129462,91.68748063,93.27392415,92.72043743,94.32130209,92.79630809,94.54128292,90.4935574,90.59810302,91.47684705,90.18451645,94.76285385,93.58065995,93.56585985,92.70785115,90.45261746,93.44006288,92.48667725,92.84416234,94.89613443,91.51861705,90.6878768,90.31528693,90.97597665,94.71203306,93.3204487,90.97818277,91.48135786,91.70292746,94.47811755,93.50574163,94.73763514,92.12438519,90.02575116,91.70293849,94.92048112,92.62665309,90.78572467,91.61001707,92.73446667,92.80441624,91.53331177,90.37981478,90.03577124,92.21083961,91.45665004,92.39544055,91.22759742,92.82223419,93.90191078,92.45878335,90.84422164,93.74461474,92.99124545,94.57645809999998,93.84505029,90.80819418,90.49939035,94.33919546,93.51978375,90.74531921,92.12992101,91.12719303,92.54780429,91.92360477,92.15595143,93.45067555,94.36803516,92.43764169,90.70475565,90.22507299,92.83975602,91.59234006,91.95769858,92.25479855,92.88160462,93.661643,94.67695747,90.23730166,91.15761594,92.70124029,90.09877774,90.34396882,93.91722423,90.95257927,90.69033986,90.90054697,94.58075845,92.48879468,90.85174383,93.82567435,94.50528753,90.27185592],\"yaxis\":\"y\",\"type\":\"scattergl\"},{\"hovertemplate\":\"label=orange<br>temperature=%{x}<br>humidity=%{y}<extra></extra>\",\"legendgroup\":\"orange\",\"marker\":{\"color\":\"#FF6692\",\"symbol\":\"diamond\"},\"mode\":\"markers\",\"name\":\"orange\",\"showlegend\":true,\"x\":[15.78144173,26.03097313,13.36050601,18.87957654,29.47741671,28.06903173,25.66901098,29.77149434,30.55472573,23.96147583,23.98289638,25.26052689,31.08368929,14.78003032,26.56608303,24.85903405,34.51465139,24.12188673,23.85340379,24.60297538,15.63211033,19.33516809,28.2620488,22.67594476,21.03200078,33.23453301,22.30318989,11.50322938,14.34320488,33.105698100000005,30.49183837,30.25578031,12.22816189,10.01081312,22.79196751,20.18432263,30.72119881,24.35590861,21.21306973,10.78689755,11.89925671,22.56664172,18.86883219,17.34083741,34.90665289,24.53610067,13.8377282,22.3551049,34.74004942,11.54785707,23.13338811,29.98364695,20.87947369,17.24944623,15.83388699,23.01014302,16.39624284,24.45132792,31.87859192,31.34920143,18.05142392,30.84835031,22.45616931,13.70319166,20.48954522,13.20844373,32.31944397,20.68185224,31.52675982,25.35467646,17.66545409,12.59093977,11.86631922,11.03367937,25.2990432,32.23797837,17.68408797,10.2708877,17.22034507,19.667056,10.35609594,27.255435,34.591784600000004,32.39523995,10.16431299,21.49118657,16.53460397,31.852069399999998,28.04799508,31.75048899,29.07412717,19.14381903,16.14820285,34.05296914,34.51423957,32.71748548,25.16296632,27.68167318,21.35093384,11.69894639],\"xaxis\":\"x\",\"y\":[92.51077745,91.50819306,91.35608208,92.04304496,91.57802915,92.91487288,92.04670813,92.00719952,90.90343769,90.26408017,91.5473145,90.31153735,90.14362642,91.22062116,94.45239715,94.39000473,93.63812684,90.72351622,90.10522549,91.28408653,94.25966183,91.97978938,91.98317355,93.36348717,92.9641969,91.06053924,92.15987039,94.8933184,94.35734702,93.48447453,90.4582865,92.03272799,90.26457428,90.22399223,90.60901895,90.65458473,94.01331956,92.39651663,91.35349216,91.38411917,91.34663797,93.37488907,93.24688124,93.04897191,92.87820148,91.90997228,91.74780462,93.52211892,93.12316972,94.14861001,91.94670335,94.55239717,90.93756231,91.13772765,91.68293851,91.11764246,92.18151927,93.10527686,91.15248149,91.48247612,90.03969587,92.86773675,91.52781832,90.95589386,93.72485075,94.02769434,93.67804556,90.91510525,90.50621806,91.81183218,91.69865887,91.81668769,93.68394562,92.22706805,94.96419851,90.15406807,94.35815354,90.19147747,94.78797376,90.50096668,93.75652041,91.71369387,92.13229786,94.51768464,91.22320999,93.43949693,94.76759975,90.12220323,90.00621688,94.59551226,93.27189064,90.71037456,91.4448027,92.05811721,90.56151463,90.54608254,92.54736032,94.47316879,90.9492967,93.25638873],\"yaxis\":\"y\",\"type\":\"scattergl\"},{\"hovertemplate\":\"label=papaya<br>temperature=%{x}<br>humidity=%{y}<extra></extra>\",\"legendgroup\":\"papaya\",\"marker\":{\"color\":\"#B6E880\",\"symbol\":\"square\"},\"mode\":\"markers\",\"name\":\"papaya\",\"showlegend\":true,\"x\":[35.21462816,42.39413392,38.4191628,35.33294932,42.92325255,33.83508569,33.20258348,23.48546973,29.33710543,40.21199348,42.13473976,32.86316618,29.80744318,31.56213762,36.32268069,37.13165026,38.4418717,32.66160599,27.92765919,39.01793345,32.51247398,38.72382798,43.30204933,27.58548913,40.78881819,23.19451074,32.68067385,34.28879307,39.30050027,39.73149053,39.23342464,27.34734861,40.76998685,26.26559543,28.12971499,34.2804607,33.7960155,31.53243779,42.30495821,24.63676897,28.28222883,24.48620746,42.84609252,43.67549305,42.07213781,33.46873719,31.7018373,41.41968393,42.54744013,28.91842453,43.08022702,29.20300896,41.04224355,25.62446619,35.32876402,24.42561272,31.18298415,31.88342554,42.93368602,23.11407669,24.87212063,43.36051537,26.83054058,30.42012134,28.64555584,32.50037548,43.03714283,30.10773379,23.69212243,35.67667332,27.71948962,35.26824831,23.16855863,33.08706051,37.4620912,38.73218907,32.57720726,38.38231475,42.93605359,25.65492304,37.58899717,29.60718808,25.34756111,25.9300384,32.76795887,29.02328049,40.00439101,33.32315744,31.22790131,26.68386496,24.70528368,38.2016825,36.56769731,26.05375792,31.29986342,40.10207731,38.58954491,41.31330062,37.03551903,23.012401800000006],\"xaxis\":\"x\",\"y\":[91.49725058,90.79028064,91.14220381,92.11508608,90.07600528,92.85470152,92.76437927,93.71043692,90.81781439,94.50766912,91.70445386,91.4618874,91.38048469,93.0484859,93.06134398,94.60761797,93.63739039,90.78931681,91.55594211,91.48815629,94.65904123,91.72514851,92.83405443,90.72526502,92.90951393,91.40301608,92.61715632,93.61082872,94.16193416,91.12220596,91.25589286,94.17756725,92.09278584,90.79668055,93.3210737,90.55561637,93.00754254,90.87394933,90.51431779,90.61964344,91.37059792,92.98254537,94.63548176,93.10887229,92.92203105,92.12746225,91.66232213,90.03863107,94.94482086,94.63676767,93.90305729,93.96834049,91.37258067,93.18240298,91.06138506,92.27749066,90.21646909,91.3256535,91.1756748,94.31994776,93.90560147,93.35191636,90.75379971,93.12659793,93.22642604,93.47888842,94.6428898,90.34546355,93.61055571,93.30641944,94.43877142,92.38282957,90.78821158,92.25197542,90.44967809,94.73613484,92.74889453,93.10378595,90.09448142,92.74501561,91.99740365,93.15642801,93.02871078,93.02357765,94.57377401,90.20396783,90.17015833,91.25271223,94.94021378,92.9585411,90.14732171,93.97379963,93.79503425,93.69111672,92.76039164,94.35110201,91.58076549,91.1508798,91.79430166,91.07355541],\"yaxis\":\"y\",\"type\":\"scattergl\"},{\"hovertemplate\":\"label=coconut<br>temperature=%{x}<br>humidity=%{y}<extra></extra>\",\"legendgroup\":\"coconut\",\"marker\":{\"color\":\"#FF97FF\",\"symbol\":\"x\"},\"mode\":\"markers\",\"name\":\"coconut\",\"showlegend\":true,\"x\":[26.762749300000007,25.61294367,28.130115000000004,25.02887163,27.79797651,29.25902906,27.10134661,25.84726298,26.58580443,28.38503882,28.43647052,28.27298134,27.00648436,27.63551259,26.29644905,27.1326009,25.56567803,25.94951662,28.03380598,29.12859129,27.0828252,28.11321494,27.5136304,27.63834933,29.01256899,26.58413917,28.28905147,28.69164799,29.70931288,27.14865285,29.28725038,25.06871967,26.92449525,28.27804288,29.18032562,28.3575072,29.38072512,25.39241091,26.31270635,29.52501367,28.83214859,28.48444906,28.74013335,25.00872392,29.8690834,27.54273211,26.52166434,25.03512351,29.20394909,27.05826457,26.18552389,27.59376845,25.76011662,28.87862994,26.50908611,26.87037587,27.57283516,28.05912437,29.51611558,28.96318258,25.09897688,27.1872282,29.03065024,27.754298,27.31155708,28.84270971,26.61423461,29.70143197,25.54759871,26.37978453,27.45907759,27.02269204,28.98545306,26.1055118,25.0707247,25.54963273,28.56973521,26.07010807,25.51791333,25.9490364,28.2974764,29.56549169,29.69952329,26.14162144,26.00175125,27.15116142,28.97318719,26.13958446,25.51618488,27.55821802,27.81132822,25.60033702,26.91641934,29.1797902,26.44600063,28.43572863,28.94099669,26.45488737,25.79490531,26.93141945],\"xaxis\":\"x\",\"y\":[92.86056895,94.3138837,95.64807631,91.53720922,99.64573002,95.11294697,93.69979946,90.92669463,90.98617591,99.18843684,91.81320717,96.93649473,96.46168931,99.34854917,99.65809151,95.23797989,97.61361544,93.40548703,95.01630593,91.30924833,97.00155491,90.01734526,94.18955816,95.48763389,94.01014388,95.78923137,97.00396405,96.65248672,96.30484325,96.66355213,91.95614918,93.31410447,91.20106019,93.64761266,92.73041222,91.64509299,93.27565685,98.08951196,98.62048026,91.91185319,92.17170353,97.76865458,93.39676499,95.59224018,91.14723422,94.59086121,98.38227669,95.89739958,95.66997327,91.10510371,96.96637916,92.48519606,94.65830608,95.11320315,94.48414544,91.72546257,94.90485697,98.3670985,92.56492864,95.16333673,92.36099489,92.19906776,90.79093862,95.94643831,99.96906006,99.64328526,96.97300803,95.65754365,91.64194826,91.49882979,92.90736493,95.71935435,90.73966792,91.52421214,95.02156793,96.92786777,95.67906668,96.7036223,94.38420565,94.73860514,95.41122824,91.40896307,95.21224392,93.28415295,94.79998418,91.48889469,98.09861043,96.38580769,94.33465411,99.98187601,97.48410555,99.7240104,99.84671638,90.27214288,98.29937782,95.8840407,93.00109012,93.45042636,93.84150618,98.80313612],\"yaxis\":\"y\",\"type\":\"scattergl\"},{\"hovertemplate\":\"label=cotton<br>temperature=%{x}<br>humidity=%{y}<extra></extra>\",\"legendgroup\":\"cotton\",\"marker\":{\"color\":\"#FECB52\",\"symbol\":\"cross\"},\"mode\":\"markers\",\"name\":\"cotton\",\"showlegend\":true,\"x\":[24.40228894,23.09595631,23.9656349,24.88738107,25.36243778,24.69457084,25.0017188,22.45942937,23.60564038,24.58453146,23.0865933,23.5000992,24.1472953,24.69315538,24.48469200000001,24.49112609,23.47986888,24.18586246,25.00755095,25.99237426,23.66457347,25.66891439,22.04612876,22.4204752,25.03149561,23.53371386,22.77076388,25.49848236,25.248679,22.78249615,23.37044424,24.86560781,24.14386157,25.03300222,23.65724079,25.54359718,22.00085141,23.64328417,23.96436009,24.65425757,24.3017998,24.29144926,24.29470232,25.72180042,24.87663664,22.60612115,23.86814008,23.41022496,24.96440768,25.16820129,22.72767171,22.45145981,23.04920461,25.29250148,22.95604064,22.80213132,23.54234715,24.41212325,22.94276687,25.53676123,25.32023717,22.426733,25.78544484,25.68959532,22.14593688,25.07278712,22.21506982,23.9643129,25.40059227,23.7805123,24.16402322,25.31468463,22.60361557,22.9535715,22.74446976,23.80834611,25.46228792,25.96779712,25.5308271,24.43847399,23.03887865,23.51308653,22.75805656,24.71252544,23.45969093,25.5503704,22.08458267,24.68854799,25.84997269,22.46054478,23.65629976,22.00817088,24.32630461,22.92360984,23.43821725,22.10718988,23.03814028,24.54795322,23.73868041,22.31871914],\"xaxis\":\"x\",\"y\":[79.19732001,84.86275707,76.97696717,75.62137159,83.63276077,81.7358876,80.53965818,81.30681027,79.29573149,79.12404171,83.55546146,83.63488952,75.88298598,84.84422454,84.44932014,82.24415809,81.73049149,76.04203958,78.17952126,77.0543546,81.69105088,81.38103349,84.62978302,84.55794703,82.21276599,77.21705554,82.5993307,79.9751579,83.4630147,77.51235009,77.43198948,78.22080815,84.51591287,79.04368718,84.47601498,84.09229796,79.47270984,78.1258666,78.02763149,75.6350708,84.87668973,81.02453404,84.61527627,81.19666206,76.30050373,77.34264002,75.68339729,76.43836957,81.31677618,80.30351815,77.07598065,76.25674874,75.53835214,75.66653335,82.33733678,84.14668447,75.98203329,80.80343786,75.37170612,81.13668716,81.79475917,81.53480799,75.00539324,77.90621048,82.85975490000001,82.50257909,76.17851932,76.59175937,76.53237965,83.03878838,76.7433897,77.91757121,80.35090459999998,78.71555832,80.41198458,83.91902605,81.56641891,81.97904282,80.04662756,81.69801729,76.47039772,76.72621429,76.75768356,77.7293114,82.44777468,77.85055621,82.82904143,78.51206972,84.16855231,75.40989245,77.52425987,81.83896111,80.13456404,82.68738535,78.63388824,78.58320116,76.11021529,75.39752705,75.77503808,83.86129998],\"yaxis\":\"y\",\"type\":\"scattergl\"},{\"hovertemplate\":\"label=jute<br>temperature=%{x}<br>humidity=%{y}<extra></extra>\",\"legendgroup\":\"jute\",\"marker\":{\"color\":\"#636efa\",\"symbol\":\"circle\"},\"mode\":\"markers\",\"name\":\"jute\",\"showlegend\":true,\"x\":[25.52468965,26.59104992,25.29781791,25.72100868,23.58419277,25.31042337,23.41798979,24.35564134,26.284017,25.13842773,24.88692811,25.75734909,23.12844351,24.9949957,25.21622704,24.39736241,23.31410442,25.72668885,26.96656378,23.70467146,24.90075709,23.39605743,26.8748389,23.1426498,24.29496635,24.39459498,25.7629429,25.4879684,25.37122686,26.21312799,24.30748599,23.76554749,24.79853023,23.20683504,23.66805429,25.12417673,23.89069041,23.09433785,24.21744605,24.06475727,24.85441411,26.41915161,24.89326318,23.25583402,24.7634518,24.97042599,26.12797248,25.97825807,26.2830571,26.38905406,25.2746335,23.09499564,25.79351957,23.17403323,25.63215038,25.84879500000001,26.56767277,26.24532085,26.91515043,24.36972377,25.71901283,25.01157559,25.40785911,23.28081,23.98651719,24.48556447,25.86705009,23.5643831,24.2248758,25.49386782,24.97178693,24.80624984,23.16814977,24.25133493,26.58361011,26.82489244,25.49674786,24.09874353,23.18866654,26.24347471,23.75091572,26.13871511,26.14576648,26.91643698,26.5232969,23.81579631,26.50838667,26.63952463,23.325013100000003,26.47549543,23.78756036,25.49941707,23.24925555,26.98582182,23.61475336,23.87484465,23.92887902,24.81441246,24.44743944,26.57421679],\"xaxis\":\"x\",\"y\":[72.24850829,82.94164078,86.88705350000002,88.16513579,72.00460848,72.01364411,85.08640476,88.80391021,75.14640198,83.12053888,71.91711523,88.36668522,74.68322732,88.95692783,70.88259632,79.26861738,71.4509053,81.86171563,78.21047693,74.63745355,73.84186449,72.60512854,79.78725152,74.99739774,77.62976013,89.89106506,80.76238215,84.48235878,76.2403666,81.70476368,78.54340987,87.98329901,78.53037059,74.09956958,70.89000744,85.72530641,83.46409075,81.45139295,82.85284045,71.31342851,74.44070479999998,76.85691248,77.01222585,82.7015932,87.06071115,78.62697699,80.49172597,81.65769588,73.35763537,83.31240346,73.7459581,78.45959697,81.76904006,87.88255345,79.95150917,87.81661683,80.90424543,72.97198375,73.19897535,82.11319791,79.15532398,88.33130229999998,76.44048625,74.27607475,82.09053379,83.20630007,84.09985284,79.46283115,74.89465426,86.97061481,79.47557931,82.09281674,76.66724969,89.86454053,78.00774772,78.20392774,81.13449097,80.57226761,86.20899734,78.51063754,71.14782585,79.1188943,71.23690851,73.48655995,77.17331847,80.94023552,86.84264005,70.95705996,79.79609448,73.96164569,74.36794079,75.99987588,73.65346838,89.05587886,86.14290267,86.79261344,88.07112278,81.68688879,82.286484,73.81994896],\"yaxis\":\"y\",\"type\":\"scattergl\"},{\"hovertemplate\":\"label=coffee<br>temperature=%{x}<br>humidity=%{y}<extra></extra>\",\"legendgroup\":\"coffee\",\"marker\":{\"color\":\"#EF553B\",\"symbol\":\"diamond\"},\"mode\":\"markers\",\"name\":\"coffee\",\"showlegend\":true,\"x\":[26.33377983,26.45288458,25.70822684,24.12832546,23.44372334,23.4123707,23.05951896,23.07895447,27.6496114,25.46743689,26.7350622,26.20811417,27.0424167,24.65090184,27.35152643,25.17787724,23.11438731,27.22783677,23.26316991,25.234661,25.59535262,25.5674832,25.67324193,24.40726724,23.69287069,24.53460016,27.13140403,27.56088634,23.59302313,23.17714381,24.71384065,24.38534644,27.15998538,26.53543168,27.01207284,27.55906475,23.32293161,24.23850608,23.42611644,26.02241444,24.83846178,26.24092174,24.43011925,26.00373964,26.22367404,27.09617155,25.64004392,27.74576987,26.24928198,26.67377159,27.10210397,27.62975458,27.536454700000004,23.56960509,24.99451759,27.56441788,23.98143338,24.22984659,25.60153969,24.31274458,26.36629861,26.5602777,26.35034208,25.20406808,23.35723208,23.60567546,24.18471151,26.44414097,26.12492233,27.77363343,25.55656667,27.92374437,26.05968403,26.35770906,24.91370487,27.31317116,26.1387869,23.1069385,23.52648086,25.11711046,24.02952505,26.70897548,26.71717393,24.59245684,27.51006055,27.57847581,26.65069302,26.97251562,23.17124551,23.52652084,27.30901814,27.54823036,25.627355,23.29250318,24.91461008,26.77463708,27.41711238,24.13179691,26.2724184,23.60301571],\"xaxis\":\"x\",\"y\":[57.36469955,55.32222678,52.88667115,56.18107663,60.39523266,52.26994674,50.40609436,63.65861483,51.11044023,69.35161206,55.55164819,52.50987966,57.27927475,51.93952357,55.99375012,62.26244581,68.00096043,52.95261751,60.51600210000001,57.53161469,57.72920846,60.49244602,51.29043632,62.65692638,66.76090123,66.99765375,52.89368299,68.49299897,55.27564977,52.13864034,51.29142534,64.72543073,51.59100753,67.09608099,60.76645256,58.45742907,53.00366334,54.30329632,64.10651528,55.83288958,56.7685316,65.64381357,66.02411187,62.144510200000006,62.26594559,63.55324262,61.03273481,54.36976075,54.28617819,52.24226285,55.74973320000001,61.26002598,55.51673151,50.56339727,57.93250202,54.41094079,61.10935084,67.37768353,68.66257977,53.57285558,52.25738495,57.1621814,58.50650238,57.88370456,55.18792166,59.68849145,69.94807345,53.83876189,63.37479229,64.47858698,62.67087838,67.96910852,52.31098539,64.57578034,54.15319242,68.42333909999999,52.26311691,67.06230539,68.44030686,68.48030408,58.84880599,69.71184111,50.50148528,56.46829641,50.66687215,58.52534263,57.56695719,62.0183627,52.97841162,65.44340921,55.196224,62.88179198,57.04151119,50.04557009,53.74144743,66.4132686,56.63636248,67.22512329,52.12739421,60.39647474],\"yaxis\":\"y\",\"type\":\"scattergl\"}],                        {\"template\":{\"data\":{\"bar\":[{\"error_x\":{\"color\":\"#2a3f5f\"},\"error_y\":{\"color\":\"#2a3f5f\"},\"marker\":{\"line\":{\"color\":\"#E5ECF6\",\"width\":0.5},\"pattern\":{\"fillmode\":\"overlay\",\"size\":10,\"solidity\":0.2}},\"type\":\"bar\"}],\"barpolar\":[{\"marker\":{\"line\":{\"color\":\"#E5ECF6\",\"width\":0.5},\"pattern\":{\"fillmode\":\"overlay\",\"size\":10,\"solidity\":0.2}},\"type\":\"barpolar\"}],\"carpet\":[{\"aaxis\":{\"endlinecolor\":\"#2a3f5f\",\"gridcolor\":\"white\",\"linecolor\":\"white\",\"minorgridcolor\":\"white\",\"startlinecolor\":\"#2a3f5f\"},\"baxis\":{\"endlinecolor\":\"#2a3f5f\",\"gridcolor\":\"white\",\"linecolor\":\"white\",\"minorgridcolor\":\"white\",\"startlinecolor\":\"#2a3f5f\"},\"type\":\"carpet\"}],\"choropleth\":[{\"colorbar\":{\"outlinewidth\":0,\"ticks\":\"\"},\"type\":\"choropleth\"}],\"contour\":[{\"colorbar\":{\"outlinewidth\":0,\"ticks\":\"\"},\"colorscale\":[[0.0,\"#0d0887\"],[0.1111111111111111,\"#46039f\"],[0.2222222222222222,\"#7201a8\"],[0.3333333333333333,\"#9c179e\"],[0.4444444444444444,\"#bd3786\"],[0.5555555555555556,\"#d8576b\"],[0.6666666666666666,\"#ed7953\"],[0.7777777777777778,\"#fb9f3a\"],[0.8888888888888888,\"#fdca26\"],[1.0,\"#f0f921\"]],\"type\":\"contour\"}],\"contourcarpet\":[{\"colorbar\":{\"outlinewidth\":0,\"ticks\":\"\"},\"type\":\"contourcarpet\"}],\"heatmap\":[{\"colorbar\":{\"outlinewidth\":0,\"ticks\":\"\"},\"colorscale\":[[0.0,\"#0d0887\"],[0.1111111111111111,\"#46039f\"],[0.2222222222222222,\"#7201a8\"],[0.3333333333333333,\"#9c179e\"],[0.4444444444444444,\"#bd3786\"],[0.5555555555555556,\"#d8576b\"],[0.6666666666666666,\"#ed7953\"],[0.7777777777777778,\"#fb9f3a\"],[0.8888888888888888,\"#fdca26\"],[1.0,\"#f0f921\"]],\"type\":\"heatmap\"}],\"heatmapgl\":[{\"colorbar\":{\"outlinewidth\":0,\"ticks\":\"\"},\"colorscale\":[[0.0,\"#0d0887\"],[0.1111111111111111,\"#46039f\"],[0.2222222222222222,\"#7201a8\"],[0.3333333333333333,\"#9c179e\"],[0.4444444444444444,\"#bd3786\"],[0.5555555555555556,\"#d8576b\"],[0.6666666666666666,\"#ed7953\"],[0.7777777777777778,\"#fb9f3a\"],[0.8888888888888888,\"#fdca26\"],[1.0,\"#f0f921\"]],\"type\":\"heatmapgl\"}],\"histogram\":[{\"marker\":{\"pattern\":{\"fillmode\":\"overlay\",\"size\":10,\"solidity\":0.2}},\"type\":\"histogram\"}],\"histogram2d\":[{\"colorbar\":{\"outlinewidth\":0,\"ticks\":\"\"},\"colorscale\":[[0.0,\"#0d0887\"],[0.1111111111111111,\"#46039f\"],[0.2222222222222222,\"#7201a8\"],[0.3333333333333333,\"#9c179e\"],[0.4444444444444444,\"#bd3786\"],[0.5555555555555556,\"#d8576b\"],[0.6666666666666666,\"#ed7953\"],[0.7777777777777778,\"#fb9f3a\"],[0.8888888888888888,\"#fdca26\"],[1.0,\"#f0f921\"]],\"type\":\"histogram2d\"}],\"histogram2dcontour\":[{\"colorbar\":{\"outlinewidth\":0,\"ticks\":\"\"},\"colorscale\":[[0.0,\"#0d0887\"],[0.1111111111111111,\"#46039f\"],[0.2222222222222222,\"#7201a8\"],[0.3333333333333333,\"#9c179e\"],[0.4444444444444444,\"#bd3786\"],[0.5555555555555556,\"#d8576b\"],[0.6666666666666666,\"#ed7953\"],[0.7777777777777778,\"#fb9f3a\"],[0.8888888888888888,\"#fdca26\"],[1.0,\"#f0f921\"]],\"type\":\"histogram2dcontour\"}],\"mesh3d\":[{\"colorbar\":{\"outlinewidth\":0,\"ticks\":\"\"},\"type\":\"mesh3d\"}],\"parcoords\":[{\"line\":{\"colorbar\":{\"outlinewidth\":0,\"ticks\":\"\"}},\"type\":\"parcoords\"}],\"pie\":[{\"automargin\":true,\"type\":\"pie\"}],\"scatter\":[{\"marker\":{\"colorbar\":{\"outlinewidth\":0,\"ticks\":\"\"}},\"type\":\"scatter\"}],\"scatter3d\":[{\"line\":{\"colorbar\":{\"outlinewidth\":0,\"ticks\":\"\"}},\"marker\":{\"colorbar\":{\"outlinewidth\":0,\"ticks\":\"\"}},\"type\":\"scatter3d\"}],\"scattercarpet\":[{\"marker\":{\"colorbar\":{\"outlinewidth\":0,\"ticks\":\"\"}},\"type\":\"scattercarpet\"}],\"scattergeo\":[{\"marker\":{\"colorbar\":{\"outlinewidth\":0,\"ticks\":\"\"}},\"type\":\"scattergeo\"}],\"scattergl\":[{\"marker\":{\"colorbar\":{\"outlinewidth\":0,\"ticks\":\"\"}},\"type\":\"scattergl\"}],\"scattermapbox\":[{\"marker\":{\"colorbar\":{\"outlinewidth\":0,\"ticks\":\"\"}},\"type\":\"scattermapbox\"}],\"scatterpolar\":[{\"marker\":{\"colorbar\":{\"outlinewidth\":0,\"ticks\":\"\"}},\"type\":\"scatterpolar\"}],\"scatterpolargl\":[{\"marker\":{\"colorbar\":{\"outlinewidth\":0,\"ticks\":\"\"}},\"type\":\"scatterpolargl\"}],\"scatterternary\":[{\"marker\":{\"colorbar\":{\"outlinewidth\":0,\"ticks\":\"\"}},\"type\":\"scatterternary\"}],\"surface\":[{\"colorbar\":{\"outlinewidth\":0,\"ticks\":\"\"},\"colorscale\":[[0.0,\"#0d0887\"],[0.1111111111111111,\"#46039f\"],[0.2222222222222222,\"#7201a8\"],[0.3333333333333333,\"#9c179e\"],[0.4444444444444444,\"#bd3786\"],[0.5555555555555556,\"#d8576b\"],[0.6666666666666666,\"#ed7953\"],[0.7777777777777778,\"#fb9f3a\"],[0.8888888888888888,\"#fdca26\"],[1.0,\"#f0f921\"]],\"type\":\"surface\"}],\"table\":[{\"cells\":{\"fill\":{\"color\":\"#EBF0F8\"},\"line\":{\"color\":\"white\"}},\"header\":{\"fill\":{\"color\":\"#C8D4E3\"},\"line\":{\"color\":\"white\"}},\"type\":\"table\"}]},\"layout\":{\"annotationdefaults\":{\"arrowcolor\":\"#2a3f5f\",\"arrowhead\":0,\"arrowwidth\":1},\"autotypenumbers\":\"strict\",\"coloraxis\":{\"colorbar\":{\"outlinewidth\":0,\"ticks\":\"\"}},\"colorscale\":{\"diverging\":[[0,\"#8e0152\"],[0.1,\"#c51b7d\"],[0.2,\"#de77ae\"],[0.3,\"#f1b6da\"],[0.4,\"#fde0ef\"],[0.5,\"#f7f7f7\"],[0.6,\"#e6f5d0\"],[0.7,\"#b8e186\"],[0.8,\"#7fbc41\"],[0.9,\"#4d9221\"],[1,\"#276419\"]],\"sequential\":[[0.0,\"#0d0887\"],[0.1111111111111111,\"#46039f\"],[0.2222222222222222,\"#7201a8\"],[0.3333333333333333,\"#9c179e\"],[0.4444444444444444,\"#bd3786\"],[0.5555555555555556,\"#d8576b\"],[0.6666666666666666,\"#ed7953\"],[0.7777777777777778,\"#fb9f3a\"],[0.8888888888888888,\"#fdca26\"],[1.0,\"#f0f921\"]],\"sequentialminus\":[[0.0,\"#0d0887\"],[0.1111111111111111,\"#46039f\"],[0.2222222222222222,\"#7201a8\"],[0.3333333333333333,\"#9c179e\"],[0.4444444444444444,\"#bd3786\"],[0.5555555555555556,\"#d8576b\"],[0.6666666666666666,\"#ed7953\"],[0.7777777777777778,\"#fb9f3a\"],[0.8888888888888888,\"#fdca26\"],[1.0,\"#f0f921\"]]},\"colorway\":[\"#636efa\",\"#EF553B\",\"#00cc96\",\"#ab63fa\",\"#FFA15A\",\"#19d3f3\",\"#FF6692\",\"#B6E880\",\"#FF97FF\",\"#FECB52\"],\"font\":{\"color\":\"#2a3f5f\"},\"geo\":{\"bgcolor\":\"white\",\"lakecolor\":\"white\",\"landcolor\":\"#E5ECF6\",\"showlakes\":true,\"showland\":true,\"subunitcolor\":\"white\"},\"hoverlabel\":{\"align\":\"left\"},\"hovermode\":\"closest\",\"mapbox\":{\"style\":\"light\"},\"paper_bgcolor\":\"white\",\"plot_bgcolor\":\"#E5ECF6\",\"polar\":{\"angularaxis\":{\"gridcolor\":\"white\",\"linecolor\":\"white\",\"ticks\":\"\"},\"bgcolor\":\"#E5ECF6\",\"radialaxis\":{\"gridcolor\":\"white\",\"linecolor\":\"white\",\"ticks\":\"\"}},\"scene\":{\"xaxis\":{\"backgroundcolor\":\"#E5ECF6\",\"gridcolor\":\"white\",\"gridwidth\":2,\"linecolor\":\"white\",\"showbackground\":true,\"ticks\":\"\",\"zerolinecolor\":\"white\"},\"yaxis\":{\"backgroundcolor\":\"#E5ECF6\",\"gridcolor\":\"white\",\"gridwidth\":2,\"linecolor\":\"white\",\"showbackground\":true,\"ticks\":\"\",\"zerolinecolor\":\"white\"},\"zaxis\":{\"backgroundcolor\":\"#E5ECF6\",\"gridcolor\":\"white\",\"gridwidth\":2,\"linecolor\":\"white\",\"showbackground\":true,\"ticks\":\"\",\"zerolinecolor\":\"white\"}},\"shapedefaults\":{\"line\":{\"color\":\"#2a3f5f\"}},\"ternary\":{\"aaxis\":{\"gridcolor\":\"white\",\"linecolor\":\"white\",\"ticks\":\"\"},\"baxis\":{\"gridcolor\":\"white\",\"linecolor\":\"white\",\"ticks\":\"\"},\"bgcolor\":\"#E5ECF6\",\"caxis\":{\"gridcolor\":\"white\",\"linecolor\":\"white\",\"ticks\":\"\"}},\"title\":{\"x\":0.05},\"xaxis\":{\"automargin\":true,\"gridcolor\":\"white\",\"linecolor\":\"white\",\"ticks\":\"\",\"title\":{\"standoff\":15},\"zerolinecolor\":\"white\",\"zerolinewidth\":2},\"yaxis\":{\"automargin\":true,\"gridcolor\":\"white\",\"linecolor\":\"white\",\"ticks\":\"\",\"title\":{\"standoff\":15},\"zerolinecolor\":\"white\",\"zerolinewidth\":2}}},\"xaxis\":{\"anchor\":\"y\",\"domain\":[0.0,1.0],\"title\":{\"text\":\"temperature\"}},\"yaxis\":{\"anchor\":\"x\",\"domain\":[0.0,1.0],\"title\":{\"text\":\"humidity\"}},\"legend\":{\"title\":{\"text\":\"label\"},\"tracegroupgap\":0},\"margin\":{\"t\":60}},                        {\"responsive\": true}                    ).then(function(){\n",
       "                            \n",
       "var gd = document.getElementById('8d548b65-d3d5-4ef0-8713-460341de754a');\n",
       "var x = new MutationObserver(function (mutations, observer) {{\n",
       "        var display = window.getComputedStyle(gd).display;\n",
       "        if (!display || display === 'none') {{\n",
       "            console.log([gd, 'removed!']);\n",
       "            Plotly.purge(gd);\n",
       "            observer.disconnect();\n",
       "        }}\n",
       "}});\n",
       "\n",
       "// Listen for the removal of the full notebook cells\n",
       "var notebookContainer = gd.closest('#notebook-container');\n",
       "if (notebookContainer) {{\n",
       "    x.observe(notebookContainer, {childList: true});\n",
       "}}\n",
       "\n",
       "// Listen for the clearing of the current output cell\n",
       "var outputEl = gd.closest('.output');\n",
       "if (outputEl) {{\n",
       "    x.observe(outputEl, {childList: true});\n",
       "}}\n",
       "\n",
       "                        })                };                });            </script>        </div>"
      ]
     },
     "metadata": {},
     "output_type": "display_data"
    }
   ],
   "source": [
    "fig = px.scatter(df, x=\"temperature\", y=\"humidity\", color=\"label\", symbol=\"label\")\n",
    "fig.update_layout(plot_bgcolor='white')\n",
    "# fig.update_xaxes(showgrid=False)\n",
    "# fig.update_yaxes(showgrid=False)\n",
    "\n",
    "fig.show()"
   ]
  },
  {
   "cell_type": "code",
   "execution_count": null,
   "id": "ffd246ed",
   "metadata": {},
   "outputs": [],
   "source": []
  },
  {
   "cell_type": "code",
   "execution_count": null,
   "id": "a8b4a843",
   "metadata": {},
   "outputs": [],
   "source": []
  },
  {
   "cell_type": "code",
   "execution_count": null,
   "id": "6598e5b0",
   "metadata": {},
   "outputs": [],
   "source": []
  }
 ],
 "metadata": {
  "kernelspec": {
   "display_name": "Python 3 (ipykernel)",
   "language": "python",
   "name": "python3"
  },
  "language_info": {
   "codemirror_mode": {
    "name": "ipython",
    "version": 3
   },
   "file_extension": ".py",
   "mimetype": "text/x-python",
   "name": "python",
   "nbconvert_exporter": "python",
   "pygments_lexer": "ipython3",
   "version": "3.9.12"
  }
 },
 "nbformat": 4,
 "nbformat_minor": 5
}
